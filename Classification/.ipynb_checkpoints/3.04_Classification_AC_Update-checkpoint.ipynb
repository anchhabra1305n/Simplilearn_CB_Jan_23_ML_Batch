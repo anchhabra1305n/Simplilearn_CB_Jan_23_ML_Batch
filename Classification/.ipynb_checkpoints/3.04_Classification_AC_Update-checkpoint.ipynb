{
 "cells": [
  {
   "cell_type": "markdown",
   "metadata": {
    "id": "Jq9GPMWyPlu3"
   },
   "source": [
    "# **Classification**"
   ]
  },
  {
   "cell_type": "markdown",
   "metadata": {
    "id": "ld2Xt3tXPq1W"
   },
   "source": [
    "## **Agenda**"
   ]
  },
  {
   "cell_type": "markdown",
   "metadata": {
    "id": "xAmn9_6uPswa"
   },
   "source": [
    "In this lesson, we will cover the following concepts of classification with the help of a business use case:\n",
    "* Linear vs. nonlinear classifiers\n",
    "* Naive Baye's theorem\n",
    "* Support vector machines\n",
    "* Evaluating the model using accuracy and confusion matrix"
   ]
  },
  {
   "cell_type": "markdown",
   "metadata": {
    "id": "WyCHg0Y2L0nu"
   },
   "source": [
    "## **Linear vs. Nonlinear Classifiers**\n",
    "\n",
    "### **Linear Classifiers**\n",
    "1. Linear classifiers use a linear combination of input features to categorize data into labels.\n",
    "2. They use the data to establish a linear boundary.\n",
    "3. They use a line, plane, or hyperplane (a plane that exists in more than two dimensions) to distinguish data.\n",
    "4. They can be used to classify data that is linearly separable. \n",
    "5. They can be modified to classify data that is not linearly separable.\n",
    "6. Some examples of linear classifier are: \n",
    "  * Perceptron\n",
    "  * Linear regression\n",
    "  * Multiple linear regression\n",
    "  * Logistic regression\n",
    "  * Support vector machine (SVM) (with linear kernel)\n",
    "  * Linear discriminant classifier (LDC)\n",
    "  * Naive Baye's Theorem\n",
    "  * Gradient descent\n",
    "\n",
    "<br/>\n",
    "\n",
    "### **Nonlinear Classifiers**\n",
    "1. Nonlinear classifiers use a nonlinear combination of input features to categorize data into labels.\n",
    "2. They use the data to establish a nonlinear boundary.\n",
    "3. They classify data by mapping it into a high-dimensional space.\n",
    "4. They are used to classify complex data which cannot be distinguished by a simple threshold or linear boundary.\n",
    "5. They cannot be modified to classify data that is linearly separable.\n",
    "6. Some examples of nonlinear classifiers are:\n",
    "  * Multilayer perceptron\n",
    "  * K-nearest neighbors (KNN)\n",
    "  * Decision trees\n",
    "  * Random forest\n",
    "  * Discriminant classifier\n",
    "  * Quadratic discriminant classifier (QDC)\n",
    "\n"
   ]
  },
  {
   "cell_type": "markdown",
   "metadata": {
    "id": "1L4FyNaGKSCV"
   },
   "source": [
    "##### **Naive Baye's Theorem**"
   ]
  },
  {
   "cell_type": "markdown",
   "metadata": {
    "id": "DtQIVIIYKYjn"
   },
   "source": [
    "Naive Baye's theorem is used in classifications that assume that the presence of a particular feature in a class is unrelated to the presence of any other feature.\n",
    "\n"
   ]
  },
  {
   "cell_type": "markdown",
   "metadata": {
    "id": "G0rXf01ULPlK"
   },
   "source": [
    "###### **Naive Baye's Theorem**"
   ]
  },
  {
   "cell_type": "markdown",
   "metadata": {
    "id": "cunLjmaLLT-x"
   },
   "source": [
    "![NB1](https://labcontent.simplicdn.net/data-content/content-assets/Data_and_AI/Applied_Machine_Learning/Images/0.7_Supervised_Learning_-_Regression_and_Classification/Trainer_PPT_and_IPYNB/0.4_Classification/NB1.JPG)"
   ]
  },
  {
   "cell_type": "markdown",
   "metadata": {
    "id": "9T-FPFIiLscQ"
   },
   "source": [
    "###### **Example**"
   ]
  },
  {
   "cell_type": "markdown",
   "metadata": {
    "id": "2UONqRvqLfAB"
   },
   "source": [
    "* As a first step toward prediction using Naive Baye's theorem, you will have to estimate the frequency of each and every attribute.\n",
    "\n",
    "  ![NB2](https://labcontent.simplicdn.net/data-content/content-assets/Data_and_AI/Applied_Machine_Learning/Images/0.7_Supervised_Learning_-_Regression_and_Classification/Trainer_PPT_and_IPYNB/0.4_Classification/NB2.JPG)"
   ]
  },
  {
   "cell_type": "markdown",
   "metadata": {
    "id": "J92M15zpMB8W"
   },
   "source": [
    "* Calculating the likelihood of each attribute: \n",
    "\n",
    "  ![NB3](https://labcontent.simplicdn.net/data-content/content-assets/Data_and_AI/Applied_Machine_Learning/Images/0.7_Supervised_Learning_-_Regression_and_Classification/Trainer_PPT_and_IPYNB/0.4_Classification/NB3.JPG)\n",
    "  <br><br><br>\n",
    "\n",
    "  ![NB4](https://labcontent.simplicdn.net/data-content/content-assets/Data_and_AI/Applied_Machine_Learning/Images/0.7_Supervised_Learning_-_Regression_and_Classification/Trainer_PPT_and_IPYNB/0.4_Classification/NB4.JPG)"
   ]
  },
  {
   "cell_type": "markdown",
   "metadata": {
    "id": "4OudA31wHmhz"
   },
   "source": [
    "* Let us find the probability of playing golf under the following conditions:\n",
    "\t* Outlook \t\t=\tRain \n",
    "\t* Humidity \t\t=\tHigh\n",
    "\t* Wind\t\t\t=\tWeak\n",
    "\t* Play\t\t\t=\t?\n",
    "\n",
    "\n"
   ]
  },
  {
   "cell_type": "markdown",
   "metadata": {
    "id": "fMLf1jAyerEN"
   },
   "source": [
    "* Solution:\n",
    "\n",
    "  * Calculation:\n",
    "  \n",
    "  ![NB5](https://labcontent.simplicdn.net/data-content/content-assets/Data_and_AI/Applied_Machine_Learning/Images/0.7_Supervised_Learning_-_Regression_and_Classification/Trainer_PPT_and_IPYNB/0.4_Classification/NB5.JPG)\n",
    "\n",
    "  * Prediction:\n",
    "  \n",
    "  ![NB6](https://labcontent.simplicdn.net/data-content/content-assets/Data_and_AI/Applied_Machine_Learning/Images/0.7_Supervised_Learning_-_Regression_and_Classification/Trainer_PPT_and_IPYNB/0.4_Classification/NB6.JPG)"
   ]
  },
  {
   "cell_type": "markdown",
   "metadata": {
    "id": "i8zguNNkjdw2"
   },
   "source": [
    "##### **Support Vector Machine**"
   ]
  },
  {
   "cell_type": "markdown",
   "metadata": {
    "id": "kyzSieayjfsT"
   },
   "source": [
    "Let us understand the following basics before moving on to the mathematics behind SVM:\n",
    "* Linear Separators\n",
    "* Optimal Separation\n",
    "* Classification Margin"
   ]
  },
  {
   "cell_type": "markdown",
   "metadata": {
    "id": "aWriMf77kCiS"
   },
   "source": [
    "**1. Linear Separators:**\n",
    "\n",
    "Consider a binary separation which can be viewed as the task of separating classes in the feature space.\n",
    "\n",
    "![SVM1](https://labcontent.simplicdn.net/data-content/content-assets/Data_and_AI/Applied_Machine_Learning/Images/0.7_Supervised_Learning_-_Regression_and_Classification/Trainer_PPT_and_IPYNB/0.4_Classification/SVM1.JPG)"
   ]
  },
  {
   "cell_type": "markdown",
   "metadata": {
    "id": "OjfeiIcbnWjH"
   },
   "source": [
    "**2. Optimal Separation:**\n",
    "\n",
    "Classification becomes difficult in the presence of multiple separators. Therefore, it is important to have an optimal separator.\n",
    "\n",
    "\n",
    "![SVM2](https://labcontent.simplicdn.net/data-content/content-assets/Data_and_AI/Applied_Machine_Learning/Images/0.7_Supervised_Learning_-_Regression_and_Classification/Trainer_PPT_and_IPYNB/0.4_Classification/SVM2.JPG)"
   ]
  },
  {
   "cell_type": "markdown",
   "metadata": {
    "id": "-X0Te0GtqrA8"
   },
   "source": [
    "**3. Classification margin:**\n",
    "\n",
    "* Concept of classification margin:\n",
    "Let's use the diagram below, to understand a separator and classification margin in a better manner.\n",
    "\n",
    "![SVM3](https://labcontent.simplicdn.net/data-content/content-assets/Data_and_AI/Applied_Machine_Learning/Images/0.7_Supervised_Learning_-_Regression_and_Classification/Trainer_PPT_and_IPYNB/0.4_Classification/SVM3.JPG)\n",
    "\n",
    "* Need for maximizing the classification margin:\n",
    "  * It generalizes the predictions and performs better on the test data by not overfitting the model to the training data.\n",
    "  * It takes care of the support vectors, ignoring other training examples.\n",
    "\n",
    "![SVM4](https://labcontent.simplicdn.net/data-content/content-assets/Data_and_AI/Applied_Machine_Learning/Images/0.7_Supervised_Learning_-_Regression_and_Classification/Trainer_PPT_and_IPYNB/0.4_Classification/SVM4.JPG)\n",
    "\n"
   ]
  },
  {
   "cell_type": "markdown",
   "metadata": {
    "id": "xDHZ9o_psJLF"
   },
   "source": [
    "###### **Linear SVM**"
   ]
  },
  {
   "cell_type": "markdown",
   "metadata": {
    "id": "Om9MyZRAsjK1"
   },
   "source": [
    "![SVM5](https://labcontent.simplicdn.net/data-content/content-assets/Data_and_AI/Applied_Machine_Learning/Images/0.7_Supervised_Learning_-_Regression_and_Classification/Trainer_PPT_and_IPYNB/0.4_Classification/SVM5.JPG)"
   ]
  },
  {
   "cell_type": "markdown",
   "metadata": {
    "id": "49nQh2hAst4h"
   },
   "source": [
    "* Formulate the quadratic optimization problem: \n",
    "\n",
    "  ![SVM6](https://labcontent.simplicdn.net/data-content/content-assets/Data_and_AI/Applied_Machine_Learning/Images/0.7_Supervised_Learning_-_Regression_and_Classification/Trainer_PPT_and_IPYNB/0.4_Classification/SVM6.JPG)\n",
    "\n",
    "\n",
    "* Reformulate the problem as:\n",
    "\n",
    "  ![SVM7](https://labcontent.simplicdn.net/data-content/content-assets/Data_and_AI/Applied_Machine_Learning/Images/0.7_Supervised_Learning_-_Regression_and_Classification/Trainer_PPT_and_IPYNB/0.4_Classification/SVM7.JPG)"
   ]
  },
  {
   "cell_type": "markdown",
   "metadata": {
    "id": "T3nfw_l5vBgp"
   },
   "source": [
    "###### **Nonlinear SVM**"
   ]
  },
  {
   "cell_type": "markdown",
   "metadata": {
    "id": "-Y8uiyucvEkr"
   },
   "source": [
    "  ![SVM8](https://labcontent.simplicdn.net/data-content/content-assets/Data_and_AI/Applied_Machine_Learning/Images/0.7_Supervised_Learning_-_Regression_and_Classification/Trainer_PPT_and_IPYNB/0.4_Classification/SVM8.JPG)"
   ]
  },
  {
   "cell_type": "markdown",
   "metadata": {
    "id": "GIlGfFBBvwbb"
   },
   "source": [
    "**Feature Spaces:**\n",
    "\n",
    "  ![SVM9](https://labcontent.simplicdn.net/data-content/content-assets/Data_and_AI/Applied_Machine_Learning/Images/0.7_Supervised_Learning_-_Regression_and_Classification/Trainer_PPT_and_IPYNB/0.4_Classification/SVM9.JPG)\n",
    "\n",
    "\n",
    "The original feature space can always be mapped to some higher-dimensional feature space where the training set is separable.\n"
   ]
  },
  {
   "cell_type": "markdown",
   "metadata": {
    "id": "WT5FDv5aGOex"
   },
   "source": [
    "###### **Kernel Trick**"
   ]
  },
  {
   "cell_type": "markdown",
   "metadata": {
    "id": "u5XWaqFCGRoi"
   },
   "source": [
    "* The linear classifier relies on inner product between vectors K(xi,xj)=xiTxj.\n",
    "\n",
    "* If every datapoint is mapped into high-dimensional space via some transformation **Φ:  x → φ(x)**, the inner product becomes<br>\n",
    "\n",
    "    **K(xi,xj)= φ(xi) Tφ(xj)**\n",
    "    <br>\n",
    "\n",
    "* A **kernel function** is a function that is equivalent to an inner product in a feature space.\n",
    "<br>\n",
    "\n",
    "* **Example:** \n",
    "\t\n",
    "  ![SVM10](https://labcontent.simplicdn.net/data-content/content-assets/Data_and_AI/Applied_Machine_Learning/Images/0.7_Supervised_Learning_-_Regression_and_Classification/Trainer_PPT_and_IPYNB/0.4_Classification/SVM10.JPG)\n",
    "\n",
    "* Thus, a kernel function implicitly maps data to a high-dimensional space (without the need to compute each φ(x) explicitly)."
   ]
  },
  {
   "cell_type": "markdown",
   "metadata": {
    "id": "J0VUxTtt350L"
   },
   "source": [
    "## **Use Case: Classification**\n",
    "\n",
    "Note: With the help of a use case, we will perform all the basic steps to reach the model training and prediction part.\n",
    "  "
   ]
  },
  {
   "cell_type": "markdown",
   "metadata": {
    "id": "0hUF8ZkRZ2uR"
   },
   "source": [
    "### **Problem Statement**"
   ]
  },
  {
   "cell_type": "markdown",
   "metadata": {
    "id": "QvVPZv40aBEe"
   },
   "source": [
    "\n",
    "Our aim in this project is to predict if a person would buy an iPhone with respect to their gender, age, and income. We will also compare different classification algorithms..\n"
   ]
  },
  {
   "cell_type": "markdown",
   "metadata": {
    "id": "Sps4Q1eQaBMM"
   },
   "source": [
    "### **Dataset**"
   ]
  },
  {
   "cell_type": "markdown",
   "metadata": {
    "id": "fh4uXSMPaCH7"
   },
   "source": [
    "Before reading the data, you need to download \"iphone_purchase_records.csv\" dataset from the link given below and upload it to the Lab. We will use Up arrow icon which is shown in the left side under View icon. Click on the Up arrow icon and upload the file wherever it is downloaded in your system.\n",
    "\n",
    "After this, you will see the downloaded file on the left side of your lab with all the .pynb files.\n",
    "\n",
    "Link: https://www.dropbox.com/sh/br7x7c7gjaghibp/AAAYI4aI1u2oG4fqiVKmn-9Ua?dl=0\n",
    "\n",
    "---\n"
   ]
  },
  {
   "cell_type": "markdown",
   "metadata": {
    "id": "e424reU_aG5X"
   },
   "source": [
    "### **Solution**\n",
    "\n",
    "Note: In logistic regression, we have used PCA for feature selection, but let us take another route this time."
   ]
  },
  {
   "cell_type": "markdown",
   "metadata": {
    "id": "mUFBvcXVbuwq"
   },
   "source": [
    "#### **Import Libraries**\n",
    "\n",
    "In python, Pandas is used for data manipulation and analysis. Numpy is a package which includes a multidimensional array object as well as a number of derived objects. Matplotlib is an amazing visualization library in Python for 2D plots of arrays. Seaborn is an open-source Python library built on top of matplotlib.\n",
    "\n",
    "These libraries are written with the import keyword.\n",
    "\n",
    "---\n"
   ]
  },
  {
   "cell_type": "code",
   "execution_count": 1,
   "metadata": {
    "id": "iTDf-xoobpKZ"
   },
   "outputs": [],
   "source": [
    "#import required libraries\n",
    "import pandas as pd\n",
    "from pandas import Series, DataFrame\n",
    "\n",
    "#import required libraries for visualization\n",
    "import matplotlib.pyplot as plt\n",
    "%matplotlib inline\n",
    "import numpy as np\n",
    "import seaborn as sns"
   ]
  },
  {
   "cell_type": "markdown",
   "metadata": {
    "id": "z0MmdZaPbkXI"
   },
   "source": [
    "#### **Data Acquisition**"
   ]
  },
  {
   "cell_type": "code",
   "execution_count": 2,
   "metadata": {
    "id": "EchC-WqObq22"
   },
   "outputs": [],
   "source": [
    "# Step 1 - Load Data\n",
    "import pandas as pd\n",
    "data_set = pd.read_csv(\"./iphone_purchase_records.csv\")"
   ]
  },
  {
   "cell_type": "code",
   "execution_count": 3,
   "metadata": {},
   "outputs": [
    {
     "data": {
      "text/html": [
       "<div>\n",
       "<style scoped>\n",
       "    .dataframe tbody tr th:only-of-type {\n",
       "        vertical-align: middle;\n",
       "    }\n",
       "\n",
       "    .dataframe tbody tr th {\n",
       "        vertical-align: top;\n",
       "    }\n",
       "\n",
       "    .dataframe thead th {\n",
       "        text-align: right;\n",
       "    }\n",
       "</style>\n",
       "<table border=\"1\" class=\"dataframe\">\n",
       "  <thead>\n",
       "    <tr style=\"text-align: right;\">\n",
       "      <th></th>\n",
       "      <th>Gender</th>\n",
       "      <th>Age</th>\n",
       "      <th>Salary</th>\n",
       "      <th>Purchase Iphone</th>\n",
       "    </tr>\n",
       "  </thead>\n",
       "  <tbody>\n",
       "    <tr>\n",
       "      <th>0</th>\n",
       "      <td>Male</td>\n",
       "      <td>19</td>\n",
       "      <td>19000</td>\n",
       "      <td>0</td>\n",
       "    </tr>\n",
       "    <tr>\n",
       "      <th>1</th>\n",
       "      <td>Male</td>\n",
       "      <td>35</td>\n",
       "      <td>20000</td>\n",
       "      <td>0</td>\n",
       "    </tr>\n",
       "    <tr>\n",
       "      <th>2</th>\n",
       "      <td>Female</td>\n",
       "      <td>26</td>\n",
       "      <td>43000</td>\n",
       "      <td>0</td>\n",
       "    </tr>\n",
       "    <tr>\n",
       "      <th>3</th>\n",
       "      <td>Female</td>\n",
       "      <td>27</td>\n",
       "      <td>57000</td>\n",
       "      <td>0</td>\n",
       "    </tr>\n",
       "    <tr>\n",
       "      <th>4</th>\n",
       "      <td>Male</td>\n",
       "      <td>19</td>\n",
       "      <td>76000</td>\n",
       "      <td>0</td>\n",
       "    </tr>\n",
       "  </tbody>\n",
       "</table>\n",
       "</div>"
      ],
      "text/plain": [
       "   Gender  Age  Salary  Purchase Iphone\n",
       "0    Male   19   19000                0\n",
       "1    Male   35   20000                0\n",
       "2  Female   26   43000                0\n",
       "3  Female   27   57000                0\n",
       "4    Male   19   76000                0"
      ]
     },
     "execution_count": 3,
     "metadata": {},
     "output_type": "execute_result"
    }
   ],
   "source": [
    "data_set.head()"
   ]
  },
  {
   "cell_type": "code",
   "execution_count": 4,
   "metadata": {},
   "outputs": [
    {
     "data": {
      "text/plain": [
       "0    257\n",
       "1    143\n",
       "Name: Purchase Iphone, dtype: int64"
      ]
     },
     "execution_count": 4,
     "metadata": {},
     "output_type": "execute_result"
    }
   ],
   "source": [
    "data_set['Purchase Iphone'].value_counts()"
   ]
  },
  {
   "cell_type": "code",
   "execution_count": 5,
   "metadata": {},
   "outputs": [
    {
     "data": {
      "text/plain": [
       "0    0.6425\n",
       "1    0.3575\n",
       "Name: Purchase Iphone, dtype: float64"
      ]
     },
     "execution_count": 5,
     "metadata": {},
     "output_type": "execute_result"
    }
   ],
   "source": [
    "data_set['Purchase Iphone'].value_counts(normalize = True)"
   ]
  },
  {
   "cell_type": "code",
   "execution_count": 6,
   "metadata": {},
   "outputs": [
    {
     "name": "stdout",
     "output_type": "stream",
     "text": [
      "<class 'pandas.core.frame.DataFrame'>\n",
      "RangeIndex: 400 entries, 0 to 399\n",
      "Data columns (total 4 columns):\n",
      " #   Column           Non-Null Count  Dtype \n",
      "---  ------           --------------  ----- \n",
      " 0   Gender           400 non-null    object\n",
      " 1   Age              400 non-null    int64 \n",
      " 2   Salary           400 non-null    int64 \n",
      " 3   Purchase Iphone  400 non-null    int64 \n",
      "dtypes: int64(3), object(1)\n",
      "memory usage: 12.6+ KB\n"
     ]
    }
   ],
   "source": [
    "data_set.info()"
   ]
  },
  {
   "cell_type": "markdown",
   "metadata": {},
   "source": [
    "# Exploratory Data Analysis"
   ]
  },
  {
   "cell_type": "markdown",
   "metadata": {},
   "source": [
    "## Missing values"
   ]
  },
  {
   "cell_type": "code",
   "execution_count": 7,
   "metadata": {},
   "outputs": [
    {
     "data": {
      "text/plain": [
       "Gender             0\n",
       "Age                0\n",
       "Salary             0\n",
       "Purchase Iphone    0\n",
       "dtype: int64"
      ]
     },
     "execution_count": 7,
     "metadata": {},
     "output_type": "execute_result"
    }
   ],
   "source": [
    "data_set.isnull().sum()"
   ]
  },
  {
   "cell_type": "markdown",
   "metadata": {},
   "source": [
    "**No missing values in the data**"
   ]
  },
  {
   "cell_type": "markdown",
   "metadata": {},
   "source": [
    "## Outlier Treatment"
   ]
  },
  {
   "cell_type": "code",
   "execution_count": 8,
   "metadata": {},
   "outputs": [
    {
     "name": "stderr",
     "output_type": "stream",
     "text": [
      "/Users/anchhabra/opt/anaconda3/lib/python3.9/site-packages/seaborn/_decorators.py:36: FutureWarning: Pass the following variable as a keyword arg: x. From version 0.12, the only valid positional argument will be `data`, and passing other arguments without an explicit keyword will result in an error or misinterpretation.\n",
      "  warnings.warn(\n"
     ]
    },
    {
     "data": {
      "image/png": "[encoded data removed]",
      "text/plain": [
       "<Figure size 576x360 with 1 Axes>"
      ]
     },
     "metadata": {
      "needs_background": "light"
     },
     "output_type": "display_data"
    }
   ],
   "source": [
    "#Plotting boxplot \n",
    "plt.figure(figsize=(8,5))\n",
    "sns.boxplot(data_set.Age);"
   ]
  },
  {
   "cell_type": "markdown",
   "metadata": {},
   "source": [
    "**No outliers in the age variable**"
   ]
  },
  {
   "cell_type": "code",
   "execution_count": 9,
   "metadata": {},
   "outputs": [
    {
     "name": "stderr",
     "output_type": "stream",
     "text": [
      "/Users/anchhabra/opt/anaconda3/lib/python3.9/site-packages/seaborn/_decorators.py:36: FutureWarning: Pass the following variable as a keyword arg: x. From version 0.12, the only valid positional argument will be `data`, and passing other arguments without an explicit keyword will result in an error or misinterpretation.\n",
      "  warnings.warn(\n"
     ]
    },
    {
     "data": {
      "text/plain": [
       "<AxesSubplot:xlabel='Salary'>"
      ]
     },
     "execution_count": 9,
     "metadata": {},
     "output_type": "execute_result"
    },
    {
     "data": {
      "image/png": "[encoded data removed]",
      "text/plain": [
       "<Figure size 576x360 with 1 Axes>"
      ]
     },
     "metadata": {
      "needs_background": "light"
     },
     "output_type": "display_data"
    }
   ],
   "source": [
    "#Plotting boxplot \n",
    "plt.figure(figsize=(8,5))\n",
    "sns.boxplot(data_set.Salary)"
   ]
  },
  {
   "cell_type": "markdown",
   "metadata": {},
   "source": [
    "**No outliers in the salary variable**"
   ]
  },
  {
   "cell_type": "markdown",
   "metadata": {},
   "source": [
    "## Summary Statistics"
   ]
  },
  {
   "cell_type": "code",
   "execution_count": 10,
   "metadata": {},
   "outputs": [
    {
     "data": {
      "text/html": [
       "<div>\n",
       "<style scoped>\n",
       "    .dataframe tbody tr th:only-of-type {\n",
       "        vertical-align: middle;\n",
       "    }\n",
       "\n",
       "    .dataframe tbody tr th {\n",
       "        vertical-align: top;\n",
       "    }\n",
       "\n",
       "    .dataframe thead th {\n",
       "        text-align: right;\n",
       "    }\n",
       "</style>\n",
       "<table border=\"1\" class=\"dataframe\">\n",
       "  <thead>\n",
       "    <tr style=\"text-align: right;\">\n",
       "      <th></th>\n",
       "      <th>Age</th>\n",
       "      <th>Salary</th>\n",
       "      <th>Purchase Iphone</th>\n",
       "    </tr>\n",
       "  </thead>\n",
       "  <tbody>\n",
       "    <tr>\n",
       "      <th>count</th>\n",
       "      <td>400.000000</td>\n",
       "      <td>400.000000</td>\n",
       "      <td>400.000000</td>\n",
       "    </tr>\n",
       "    <tr>\n",
       "      <th>mean</th>\n",
       "      <td>37.655000</td>\n",
       "      <td>69742.500000</td>\n",
       "      <td>0.357500</td>\n",
       "    </tr>\n",
       "    <tr>\n",
       "      <th>std</th>\n",
       "      <td>10.482877</td>\n",
       "      <td>34096.960282</td>\n",
       "      <td>0.479864</td>\n",
       "    </tr>\n",
       "    <tr>\n",
       "      <th>min</th>\n",
       "      <td>18.000000</td>\n",
       "      <td>15000.000000</td>\n",
       "      <td>0.000000</td>\n",
       "    </tr>\n",
       "    <tr>\n",
       "      <th>25%</th>\n",
       "      <td>29.750000</td>\n",
       "      <td>43000.000000</td>\n",
       "      <td>0.000000</td>\n",
       "    </tr>\n",
       "    <tr>\n",
       "      <th>50%</th>\n",
       "      <td>37.000000</td>\n",
       "      <td>70000.000000</td>\n",
       "      <td>0.000000</td>\n",
       "    </tr>\n",
       "    <tr>\n",
       "      <th>75%</th>\n",
       "      <td>46.000000</td>\n",
       "      <td>88000.000000</td>\n",
       "      <td>1.000000</td>\n",
       "    </tr>\n",
       "    <tr>\n",
       "      <th>max</th>\n",
       "      <td>60.000000</td>\n",
       "      <td>150000.000000</td>\n",
       "      <td>1.000000</td>\n",
       "    </tr>\n",
       "  </tbody>\n",
       "</table>\n",
       "</div>"
      ],
      "text/plain": [
       "              Age         Salary  Purchase Iphone\n",
       "count  400.000000     400.000000       400.000000\n",
       "mean    37.655000   69742.500000         0.357500\n",
       "std     10.482877   34096.960282         0.479864\n",
       "min     18.000000   15000.000000         0.000000\n",
       "25%     29.750000   43000.000000         0.000000\n",
       "50%     37.000000   70000.000000         0.000000\n",
       "75%     46.000000   88000.000000         1.000000\n",
       "max     60.000000  150000.000000         1.000000"
      ]
     },
     "execution_count": 10,
     "metadata": {},
     "output_type": "execute_result"
    }
   ],
   "source": [
    "data_set.describe()"
   ]
  },
  {
   "cell_type": "markdown",
   "metadata": {},
   "source": [
    "## Bi-variate Analysis"
   ]
  },
  {
   "cell_type": "code",
   "execution_count": 11,
   "metadata": {},
   "outputs": [
    {
     "data": {
      "text/plain": [
       "Text(0.5, 1.0, 'Age Vs Salary')"
      ]
     },
     "execution_count": 11,
     "metadata": {},
     "output_type": "execute_result"
    },
    {
     "data": {
      "image/png": "[encoded data removed]",
      "text/plain": [
       "<Figure size 504x504 with 1 Axes>"
      ]
     },
     "metadata": {
      "needs_background": "light"
     },
     "output_type": "display_data"
    }
   ],
   "source": [
    "plt.figure(figsize=(7,7))\n",
    "plt.scatter(x='Age',y='Salary',data=data_set)\n",
    "plt.xlabel('Age')\n",
    "plt.ylabel('Salary')\n",
    "plt.title('Age Vs Salary')"
   ]
  },
  {
   "cell_type": "code",
   "execution_count": 12,
   "metadata": {},
   "outputs": [
    {
     "data": {
      "text/html": [
       "<div>\n",
       "<style scoped>\n",
       "    .dataframe tbody tr th:only-of-type {\n",
       "        vertical-align: middle;\n",
       "    }\n",
       "\n",
       "    .dataframe tbody tr th {\n",
       "        vertical-align: top;\n",
       "    }\n",
       "\n",
       "    .dataframe thead th {\n",
       "        text-align: right;\n",
       "    }\n",
       "</style>\n",
       "<table border=\"1\" class=\"dataframe\">\n",
       "  <thead>\n",
       "    <tr style=\"text-align: right;\">\n",
       "      <th></th>\n",
       "      <th>Age</th>\n",
       "      <th>Salary</th>\n",
       "      <th>Purchase Iphone</th>\n",
       "    </tr>\n",
       "  </thead>\n",
       "  <tbody>\n",
       "    <tr>\n",
       "      <th>Age</th>\n",
       "      <td>1.000000</td>\n",
       "      <td>0.155238</td>\n",
       "      <td>0.622454</td>\n",
       "    </tr>\n",
       "    <tr>\n",
       "      <th>Salary</th>\n",
       "      <td>0.155238</td>\n",
       "      <td>1.000000</td>\n",
       "      <td>0.362083</td>\n",
       "    </tr>\n",
       "    <tr>\n",
       "      <th>Purchase Iphone</th>\n",
       "      <td>0.622454</td>\n",
       "      <td>0.362083</td>\n",
       "      <td>1.000000</td>\n",
       "    </tr>\n",
       "  </tbody>\n",
       "</table>\n",
       "</div>"
      ],
      "text/plain": [
       "                      Age    Salary  Purchase Iphone\n",
       "Age              1.000000  0.155238         0.622454\n",
       "Salary           0.155238  1.000000         0.362083\n",
       "Purchase Iphone  0.622454  0.362083         1.000000"
      ]
     },
     "execution_count": 12,
     "metadata": {},
     "output_type": "execute_result"
    }
   ],
   "source": [
    "data_set.corr()"
   ]
  },
  {
   "cell_type": "markdown",
   "metadata": {},
   "source": [
    "**Less correlation between Age and Salary**"
   ]
  },
  {
   "cell_type": "code",
   "execution_count": 13,
   "metadata": {},
   "outputs": [
    {
     "data": {
      "text/html": [
       "<div>\n",
       "<style scoped>\n",
       "    .dataframe tbody tr th:only-of-type {\n",
       "        vertical-align: middle;\n",
       "    }\n",
       "\n",
       "    .dataframe tbody tr th {\n",
       "        vertical-align: top;\n",
       "    }\n",
       "\n",
       "    .dataframe thead th {\n",
       "        text-align: right;\n",
       "    }\n",
       "</style>\n",
       "<table border=\"1\" class=\"dataframe\">\n",
       "  <thead>\n",
       "    <tr style=\"text-align: right;\">\n",
       "      <th></th>\n",
       "      <th>Gender</th>\n",
       "      <th>Age</th>\n",
       "      <th>Salary</th>\n",
       "      <th>Purchase Iphone</th>\n",
       "    </tr>\n",
       "  </thead>\n",
       "  <tbody>\n",
       "    <tr>\n",
       "      <th>0</th>\n",
       "      <td>Male</td>\n",
       "      <td>19</td>\n",
       "      <td>19000</td>\n",
       "      <td>0</td>\n",
       "    </tr>\n",
       "    <tr>\n",
       "      <th>1</th>\n",
       "      <td>Male</td>\n",
       "      <td>35</td>\n",
       "      <td>20000</td>\n",
       "      <td>0</td>\n",
       "    </tr>\n",
       "    <tr>\n",
       "      <th>2</th>\n",
       "      <td>Female</td>\n",
       "      <td>26</td>\n",
       "      <td>43000</td>\n",
       "      <td>0</td>\n",
       "    </tr>\n",
       "    <tr>\n",
       "      <th>3</th>\n",
       "      <td>Female</td>\n",
       "      <td>27</td>\n",
       "      <td>57000</td>\n",
       "      <td>0</td>\n",
       "    </tr>\n",
       "    <tr>\n",
       "      <th>4</th>\n",
       "      <td>Male</td>\n",
       "      <td>19</td>\n",
       "      <td>76000</td>\n",
       "      <td>0</td>\n",
       "    </tr>\n",
       "  </tbody>\n",
       "</table>\n",
       "</div>"
      ],
      "text/plain": [
       "   Gender  Age  Salary  Purchase Iphone\n",
       "0    Male   19   19000                0\n",
       "1    Male   35   20000                0\n",
       "2  Female   26   43000                0\n",
       "3  Female   27   57000                0\n",
       "4    Male   19   76000                0"
      ]
     },
     "execution_count": 13,
     "metadata": {},
     "output_type": "execute_result"
    }
   ],
   "source": [
    "data_set.head()"
   ]
  },
  {
   "cell_type": "code",
   "execution_count": 14,
   "metadata": {},
   "outputs": [
    {
     "data": {
      "text/plain": [
       "<AxesSubplot:xlabel='Gender', ylabel='Salary'>"
      ]
     },
     "execution_count": 14,
     "metadata": {},
     "output_type": "execute_result"
    },
    {
     "data": {
      "image/png": "[encoded data removed]",
      "text/plain": [
       "<Figure size 576x360 with 1 Axes>"
      ]
     },
     "metadata": {
      "needs_background": "light"
     },
     "output_type": "display_data"
    }
   ],
   "source": [
    "#Plotting boxplot \n",
    "plt.figure(figsize=(8,5))\n",
    "sns.boxplot(x = 'Gender',\n",
    "            y = 'Salary',\n",
    "            data = data_set)"
   ]
  },
  {
   "cell_type": "code",
   "execution_count": 15,
   "metadata": {},
   "outputs": [
    {
     "data": {
      "text/html": [
       "<div>\n",
       "<style scoped>\n",
       "    .dataframe tbody tr th:only-of-type {\n",
       "        vertical-align: middle;\n",
       "    }\n",
       "\n",
       "    .dataframe tbody tr th {\n",
       "        vertical-align: top;\n",
       "    }\n",
       "\n",
       "    .dataframe thead th {\n",
       "        text-align: right;\n",
       "    }\n",
       "</style>\n",
       "<table border=\"1\" class=\"dataframe\">\n",
       "  <thead>\n",
       "    <tr style=\"text-align: right;\">\n",
       "      <th>Purchase Iphone</th>\n",
       "      <th>0</th>\n",
       "      <th>1</th>\n",
       "    </tr>\n",
       "    <tr>\n",
       "      <th>Gender</th>\n",
       "      <th></th>\n",
       "      <th></th>\n",
       "    </tr>\n",
       "  </thead>\n",
       "  <tbody>\n",
       "    <tr>\n",
       "      <th>Female</th>\n",
       "      <td>127</td>\n",
       "      <td>77</td>\n",
       "    </tr>\n",
       "    <tr>\n",
       "      <th>Male</th>\n",
       "      <td>130</td>\n",
       "      <td>66</td>\n",
       "    </tr>\n",
       "  </tbody>\n",
       "</table>\n",
       "</div>"
      ],
      "text/plain": [
       "Purchase Iphone    0   1\n",
       "Gender                  \n",
       "Female           127  77\n",
       "Male             130  66"
      ]
     },
     "execution_count": 15,
     "metadata": {},
     "output_type": "execute_result"
    }
   ],
   "source": [
    "pd.crosstab(data_set.Gender,data_set['Purchase Iphone'])"
   ]
  },
  {
   "cell_type": "code",
   "execution_count": 16,
   "metadata": {},
   "outputs": [
    {
     "data": {
      "text/plain": [
       "Text(0, 0.5, 'Proportion of Iphone Purchase')"
      ]
     },
     "execution_count": 16,
     "metadata": {},
     "output_type": "execute_result"
    },
    {
     "data": {
      "image/png": "[encoded data removed]",
      "text/plain": [
       "<Figure size 864x360 with 1 Axes>"
      ]
     },
     "metadata": {
      "needs_background": "light"
     },
     "output_type": "display_data"
    }
   ],
   "source": [
    "table=pd.crosstab(data_set.Gender,data_set['Purchase Iphone'])\n",
    "\n",
    "table.div(table.sum(1).astype(float), axis=0).plot(kind='bar', stacked=True,figsize=(12,5))\n",
    "plt.title('Gender vs Purchase Iphone')\n",
    "plt.xlabel('Gender')\n",
    "plt.ylabel('Proportion of Iphone Purchase')\n",
    "# plt.savefig('mariral_vs_pur_stack')"
   ]
  },
  {
   "cell_type": "markdown",
   "metadata": {},
   "source": [
    "**Both Male and Female proportions of buying the iphone is ~40% - no significant difference is observed**"
   ]
  },
  {
   "cell_type": "markdown",
   "metadata": {},
   "source": [
    "# Separating out the X & Target feature"
   ]
  },
  {
   "cell_type": "code",
   "execution_count": 17,
   "metadata": {},
   "outputs": [],
   "source": [
    "X = data_set.iloc[:,:-1].values\n",
    "y = data_set.iloc[:, 3].values"
   ]
  },
  {
   "cell_type": "code",
   "execution_count": 18,
   "metadata": {},
   "outputs": [
    {
     "data": {
      "text/plain": [
       "array([['Male', 19, 19000],\n",
       "       ['Male', 35, 20000],\n",
       "       ['Female', 26, 43000],\n",
       "       ['Female', 27, 57000],\n",
       "       ['Male', 19, 76000],\n",
       "       ['Male', 27, 58000],\n",
       "       ['Female', 27, 84000],\n",
       "       ['Female', 32, 150000],\n",
       "       ['Male', 25, 33000],\n",
       "       ['Female', 35, 65000]], dtype=object)"
      ]
     },
     "execution_count": 18,
     "metadata": {},
     "output_type": "execute_result"
    }
   ],
   "source": [
    "X[:10]"
   ]
  },
  {
   "cell_type": "code",
   "execution_count": 19,
   "metadata": {},
   "outputs": [
    {
     "data": {
      "text/plain": [
       "array(['Male', 'Male', 'Female', 'Female', 'Male', 'Male', 'Female',\n",
       "       'Female', 'Male', 'Female'], dtype=object)"
      ]
     },
     "execution_count": 19,
     "metadata": {},
     "output_type": "execute_result"
    }
   ],
   "source": [
    "X[:,0][:10]"
   ]
  },
  {
   "cell_type": "code",
   "execution_count": 20,
   "metadata": {},
   "outputs": [
    {
     "data": {
      "text/plain": [
       "array([0, 0, 0, 0, 0])"
      ]
     },
     "execution_count": 20,
     "metadata": {},
     "output_type": "execute_result"
    }
   ],
   "source": [
    "y[:5]"
   ]
  },
  {
   "cell_type": "markdown",
   "metadata": {
    "id": "GNDiv7Zfq1s9"
   },
   "source": [
    "#### **Feature Extraction**\n",
    "\n",
    "In the below code, you are using the sklearn library, which contains a lot of tools for machine learning and statistical modeling, including classification, regression, clustering, and dimensionality reduction. "
   ]
  },
  {
   "cell_type": "markdown",
   "metadata": {
    "id": "6nY7hw-JKhqd"
   },
   "source": [
    "**1. Use LabelEncoder to convert gender to number**"
   ]
  },
  {
   "cell_type": "code",
   "execution_count": 21,
   "metadata": {
    "id": "VWLxCtnq150y"
   },
   "outputs": [
    {
     "name": "stderr",
     "output_type": "stream",
     "text": [
      "/var/folders/mw/79vr7p9566z6fwqnpsmrj8tc0000gq/T/ipykernel_18441/2475915510.py:11: DeprecationWarning: `np.float` is a deprecated alias for the builtin `float`. To silence this warning, use `float` by itself. Doing this will not modify any behavior and is safe. If you specifically wanted the numpy scalar type, use `np.float64` here.\n",
      "Deprecated in NumPy 1.20; for more details and guidance: https://numpy.org/devdocs/release/1.20.0-notes.html#deprecations\n",
      "  X = np.vstack(X[:, :]).astype(np.float)\n"
     ]
    }
   ],
   "source": [
    "from sklearn import preprocessing\n",
    "\n",
    "# Step 2 - Convert Gender to number\n",
    "from sklearn.preprocessing import LabelEncoder\n",
    "\n",
    "labelEncoder_gender =  LabelEncoder()\n",
    "X[:,0] = labelEncoder_gender.fit_transform(X[:,0]) # applying on the gender variable\n",
    "\n",
    "# Optional - if you want to convert X to float data type\n",
    "import numpy as np\n",
    "X = np.vstack(X[:, :]).astype(np.float)"
   ]
  },
  {
   "cell_type": "code",
   "execution_count": 22,
   "metadata": {},
   "outputs": [
    {
     "data": {
      "text/plain": [
       "array([1., 1., 0., 0., 1., 1., 0., 0., 1., 0.])"
      ]
     },
     "execution_count": 22,
     "metadata": {},
     "output_type": "execute_result"
    }
   ],
   "source": [
    "X[:,0][:10]"
   ]
  },
  {
   "cell_type": "markdown",
   "metadata": {
    "id": "TEPtmr17uGnA"
   },
   "source": [
    "#### **Splitting Datasets**"
   ]
  },
  {
   "cell_type": "code",
   "execution_count": 23,
   "metadata": {
    "id": "kWgoE00_YPHv"
   },
   "outputs": [],
   "source": [
    "# Step 3 - Split data into training and testing\n",
    "from sklearn.model_selection import train_test_split\n",
    "\n",
    "X_train, X_test, y_train, y_test = train_test_split(X, y, \n",
    "                                                    test_size=0.25,\n",
    "                                                    random_state=0)"
   ]
  },
  {
   "cell_type": "code",
   "execution_count": 24,
   "metadata": {},
   "outputs": [
    {
     "name": "stdout",
     "output_type": "stream",
     "text": [
      "training data shape (300, 3)\n",
      "test data shape (100, 3)\n",
      "training target shape (300,)\n",
      "test target shape (100,)\n"
     ]
    }
   ],
   "source": [
    "print(\"training data shape\", X_train.shape)\n",
    "print(\"test data shape\", X_test.shape)\n",
    "print(\"training target shape\", y_train.shape)\n",
    "print(\"test target shape\", y_test.shape)"
   ]
  },
  {
   "cell_type": "markdown",
   "metadata": {
    "id": "IVX2enqc9rX8"
   },
   "source": [
    "#### **Feature Scaling**"
   ]
  },
  {
   "cell_type": "code",
   "execution_count": 25,
   "metadata": {
    "id": "DrhKqAeVmrT2"
   },
   "outputs": [],
   "source": [
    "# Step 4 - Feature scaling\n",
    "from sklearn.preprocessing import StandardScaler\n",
    "sc = StandardScaler()\n",
    "X_train = sc.fit_transform(X_train) #fitting and transforming on the train\n",
    "X_test = sc.transform(X_test) # only transforming on the test data to remove bias"
   ]
  },
  {
   "cell_type": "markdown",
   "metadata": {},
   "source": [
    "### Step 5 - Logistic regression classifier\n"
   ]
  },
  {
   "cell_type": "code",
   "execution_count": 36,
   "metadata": {
    "id": "wp8LMljVoKCW"
   },
   "outputs": [
    {
     "data": {
      "text/plain": [
       "LogisticRegression(random_state=0, solver='liblinear')"
      ]
     },
     "execution_count": 36,
     "metadata": {},
     "output_type": "execute_result"
    }
   ],
   "source": [
    "from sklearn.linear_model import LogisticRegression\n",
    "\n",
    "log_classifier = LogisticRegression(random_state=0, solver=\"liblinear\")\n",
    "\n",
    "log_classifier.fit(X_train, y_train)"
   ]
  },
  {
   "cell_type": "code",
   "execution_count": 38,
   "metadata": {
    "id": "9nRB0wKCoOS9"
   },
   "outputs": [],
   "source": [
    "# Step 6 - Predicting logistic regression model on x_test\n",
    "y_pred_test = log_classifier.predict(X_test)"
   ]
  },
  {
   "cell_type": "markdown",
   "metadata": {
    "id": "fCoh62I8vE_v"
   },
   "source": [
    "##### **Confusion Matrix**\n",
    "\n",
    "It can be used to find the number of correct and incorrect entries.\n",
    "\n",
    "*   If an individual has not purchased an iPhone and the expected value states that they have not purchased, it is a true negative (TN), i.e., the actual value is 0 and the predicted value is also 0.\n",
    "\n",
    "*   If an individual has not purchased an iPhone but the expected value states that they have, it is a false positive (FP), i.e., the actual value is 0 and the value expected is 1.\n",
    "\n",
    "*   If an individual has purchased an iPhone but the expected value states that they have not, it is a false negative (FN), i.e., the real value is 1 and the value expected is 0.\n",
    "\n",
    "*   If an individual has purchased an iPhone and the expected value also says that they have purchased it is True Positive (TP), i.e., the actual value is 1 and the predicted value is also 1.\n",
    "\n",
    "**Accuracy score:** This is the most common metric that is used to verify model accuracy. In other words, it is the proportion of the overall number of accurate predictions to the total number of predictions.\n",
    "\n",
    "**Accuracy score = (TP+TN)/(TP+TN+FP+FN)**\n",
    "\n",
    "**Recall score:** It is the proportion of positive incidents that we correctly expected. \n",
    "\n",
    "**Recall score = TP/(TP+FN)**\n",
    "\n",
    "**Precision score:** This is the proportion of positive outcomes expected that are currently positive. \n",
    "\n",
    "**Precision score = TP/(TP+FP)**\n",
    "\n",
    "\n",
    "\n"
   ]
  },
  {
   "cell_type": "code",
   "execution_count": 41,
   "metadata": {
    "id": "6wK8Tz3koTyA"
   },
   "outputs": [
    {
     "name": "stdout",
     "output_type": "stream",
     "text": [
      "[[65  3]\n",
      " [ 6 26]]\n",
      "Accuracy score: 0.91\n",
      "Precision score: 0.896551724137931\n",
      "Recall score: 0.8125\n"
     ]
    }
   ],
   "source": [
    "# Step 7 - Confusion matrix\n",
    "from sklearn.metrics import confusion_matrix, classification_report,plot_confusion_matrix\n",
    "cm = metrics.confusion_matrix(y_test, y_pred) \n",
    "print(cm)\n",
    "accuracy = metrics.accuracy_score(y_test, y_pred) \n",
    "print(\"Accuracy score:\",accuracy)\n",
    "\n",
    "precision = metrics.precision_score(y_test, y_pred) \n",
    "print(\"Precision score:\",precision)\n",
    "\n",
    "recall = metrics.recall_score(y_test, y_pred) \n",
    "print(\"Recall score:\",recall)"
   ]
  },
  {
   "cell_type": "code",
   "execution_count": 42,
   "metadata": {},
   "outputs": [
    {
     "name": "stdout",
     "output_type": "stream",
     "text": [
      "              precision    recall  f1-score   support\n",
      "\n",
      "           0       0.92      0.96      0.94        68\n",
      "           1       0.90      0.81      0.85        32\n",
      "\n",
      "    accuracy                           0.91       100\n",
      "   macro avg       0.91      0.88      0.89       100\n",
      "weighted avg       0.91      0.91      0.91       100\n",
      "\n"
     ]
    }
   ],
   "source": [
    "print(classification_report(y_test,y_pred_test))"
   ]
  },
  {
   "cell_type": "code",
   "execution_count": 43,
   "metadata": {},
   "outputs": [
    {
     "data": {
      "image/png": "[encoded data removed]",
      "text/plain": [
       "<Figure size 432x288 with 1 Axes>"
      ]
     },
     "metadata": {
      "needs_background": "light"
     },
     "output_type": "display_data"
    }
   ],
   "source": [
    "# Let us check how well our model is predicting 1's and 0's \n",
    "# plot_confusion_matrix(log_sklearn,X,y)\n",
    "sns.heatmap(confusion_matrix(y_test,y_pred_test),\n",
    "            annot=True,\n",
    "            fmt='d',\n",
    "            cbar=False,\n",
    "            cmap='magma')\n",
    "plt.xlabel(\"Predicted Label on test data\")\n",
    "plt.ylabel(\"Actual Label of test data\");"
   ]
  },
  {
   "cell_type": "markdown",
   "metadata": {
    "id": "lOCFg8Cfv-ka"
   },
   "source": [
    "#### The model has a 91 % accuracy score, an 89 % precision score, and an 81 % recall score, indicating that it works effectively. "
   ]
  },
  {
   "cell_type": "code",
   "execution_count": null,
   "metadata": {
    "id": "xNhqwS6-puFc"
   },
   "outputs": [],
   "source": [
    "# Step 8 - Feature scaling\n",
    "from sklearn.preprocessing import StandardScaler\n",
    "sc = StandardScaler()\n",
    "X = sc.fit_transform(X)"
   ]
  },
  {
   "cell_type": "markdown",
   "metadata": {},
   "source": [
    "## Naive Bayes Classifier"
   ]
  },
  {
   "cell_type": "code",
   "execution_count": 44,
   "metadata": {},
   "outputs": [],
   "source": [
    "from sklearn.naive_bayes import GaussianNB # For Naive Bayes"
   ]
  },
  {
   "cell_type": "code",
   "execution_count": 45,
   "metadata": {},
   "outputs": [
    {
     "data": {
      "text/plain": [
       "GaussianNB()"
      ]
     },
     "execution_count": 45,
     "metadata": {},
     "output_type": "execute_result"
    }
   ],
   "source": [
    "nb_classifier = GaussianNB()\n",
    "nb_classifier.fit(X_train, y_train) # fitting it on training dataset"
   ]
  },
  {
   "cell_type": "code",
   "execution_count": 46,
   "metadata": {},
   "outputs": [],
   "source": [
    "# Step 6 - Predicting NB classifier model on x_test\n",
    "y_pred_test_nb = nb_classifier.predict(X_test)"
   ]
  },
  {
   "cell_type": "code",
   "execution_count": 47,
   "metadata": {},
   "outputs": [
    {
     "name": "stdout",
     "output_type": "stream",
     "text": [
      "Accuracy score: 0.91\n"
     ]
    }
   ],
   "source": [
    "accuracy = metrics.accuracy_score(y_test, y_pred_test_nb) \n",
    "print(\"Accuracy score:\",accuracy)"
   ]
  },
  {
   "cell_type": "code",
   "execution_count": 48,
   "metadata": {},
   "outputs": [
    {
     "data": {
      "image/png": "[encoded data removed]",
      "text/plain": [
       "<Figure size 432x288 with 1 Axes>"
      ]
     },
     "metadata": {
      "needs_background": "light"
     },
     "output_type": "display_data"
    }
   ],
   "source": [
    "# Let us check how well our model is predicting 1's and 0's \n",
    "# plot_confusion_matrix(log_sklearn,X,y)\n",
    "sns.heatmap(confusion_matrix(y_test,y_pred_test_nb),\n",
    "            annot=True,\n",
    "            fmt='d',\n",
    "            cbar=False,\n",
    "            cmap='magma')\n",
    "plt.xlabel(\"Predicted Label on test data\")\n",
    "plt.ylabel(\"Actual Label of test data\");"
   ]
  },
  {
   "cell_type": "code",
   "execution_count": 49,
   "metadata": {},
   "outputs": [
    {
     "name": "stdout",
     "output_type": "stream",
     "text": [
      "              precision    recall  f1-score   support\n",
      "\n",
      "           0       0.90      0.97      0.94        68\n",
      "           1       0.93      0.78      0.85        32\n",
      "\n",
      "    accuracy                           0.91       100\n",
      "   macro avg       0.92      0.88      0.89       100\n",
      "weighted avg       0.91      0.91      0.91       100\n",
      "\n"
     ]
    }
   ],
   "source": [
    "print(classification_report(y_test,y_pred_test_nb))"
   ]
  },
  {
   "cell_type": "markdown",
   "metadata": {},
   "source": [
    "## KNN Classifier"
   ]
  },
  {
   "cell_type": "code",
   "execution_count": 50,
   "metadata": {},
   "outputs": [],
   "source": [
    "from sklearn.neighbors import KNeighborsClassifier # For KNN"
   ]
  },
  {
   "cell_type": "code",
   "execution_count": 51,
   "metadata": {},
   "outputs": [],
   "source": [
    "knn_classifier = KNeighborsClassifier(n_neighbors=5, metric=\"minkowski\",\n",
    "                                      p=2) # n_neighbors are the hyperparameters\n",
    "# Metric - Calculates the distance among all the data potints\n",
    "# p = 2 for euclidean - pythogoras theorem"
   ]
  },
  {
   "cell_type": "code",
   "execution_count": 52,
   "metadata": {},
   "outputs": [
    {
     "data": {
      "text/plain": [
       "KNeighborsClassifier()"
      ]
     },
     "execution_count": 52,
     "metadata": {},
     "output_type": "execute_result"
    }
   ],
   "source": [
    "knn_classifier.fit(X_train, y_train) # fitting it on training dataset"
   ]
  },
  {
   "cell_type": "code",
   "execution_count": 53,
   "metadata": {},
   "outputs": [],
   "source": [
    "# Step 6 - Predicting NB classifier model on x_test\n",
    "y_pred_test_knn = knn_classifier.predict(X_test)"
   ]
  },
  {
   "cell_type": "code",
   "execution_count": 54,
   "metadata": {},
   "outputs": [
    {
     "name": "stdout",
     "output_type": "stream",
     "text": [
      "Accuracy score: 0.93\n"
     ]
    }
   ],
   "source": [
    "accuracy = metrics.accuracy_score(y_test, y_pred_test_knn) \n",
    "print(\"Accuracy score:\",accuracy)"
   ]
  },
  {
   "cell_type": "code",
   "execution_count": 55,
   "metadata": {},
   "outputs": [
    {
     "data": {
      "image/png": "[encoded data removed]",
      "text/plain": [
       "<Figure size 432x288 with 1 Axes>"
      ]
     },
     "metadata": {
      "needs_background": "light"
     },
     "output_type": "display_data"
    }
   ],
   "source": [
    "# Let us check how well our model is predicting 1's and 0's \n",
    "# plot_confusion_matrix(log_sklearn,X,y)\n",
    "sns.heatmap(confusion_matrix(y_test,y_pred_test_knn),\n",
    "            annot=True,\n",
    "            fmt='d',\n",
    "            cbar=False,\n",
    "            cmap='magma')\n",
    "plt.xlabel(\"Predicted Label on test data\")\n",
    "plt.ylabel(\"Actual Label of test data\");"
   ]
  },
  {
   "cell_type": "code",
   "execution_count": 56,
   "metadata": {},
   "outputs": [
    {
     "name": "stdout",
     "output_type": "stream",
     "text": [
      "              precision    recall  f1-score   support\n",
      "\n",
      "           0       0.96      0.94      0.95        68\n",
      "           1       0.88      0.91      0.89        32\n",
      "\n",
      "    accuracy                           0.93       100\n",
      "   macro avg       0.92      0.92      0.92       100\n",
      "weighted avg       0.93      0.93      0.93       100\n",
      "\n"
     ]
    }
   ],
   "source": [
    "print(classification_report(y_test,y_pred_test_knn))"
   ]
  },
  {
   "cell_type": "markdown",
   "metadata": {},
   "source": [
    "**If we compare Logistic Regression v/s NB v/s Knn - KNN has the highest f1 score and highest overall accuracy**"
   ]
  },
  {
   "cell_type": "markdown",
   "metadata": {},
   "source": [
    "# SVM Classifier"
   ]
  },
  {
   "cell_type": "code",
   "execution_count": 35,
   "metadata": {},
   "outputs": [],
   "source": [
    "from sklearn.svm import SVC\n",
    "from sklearn.metrics import accuracy_score,confusion_matrix, classification_report,plot_confusion_matrix"
   ]
  },
  {
   "cell_type": "markdown",
   "metadata": {},
   "source": [
    "## Linear Classifier"
   ]
  },
  {
   "cell_type": "code",
   "execution_count": 28,
   "metadata": {},
   "outputs": [],
   "source": [
    "svm_linear_classifier = SVC(kernel = 'linear',gamma='scale')"
   ]
  },
  {
   "cell_type": "code",
   "execution_count": 29,
   "metadata": {},
   "outputs": [
    {
     "data": {
      "text/plain": [
       "SVC(kernel='linear')"
      ]
     },
     "execution_count": 29,
     "metadata": {},
     "output_type": "execute_result"
    }
   ],
   "source": [
    "svm_linear_classifier.fit(X_train, y_train) # fitting it on training dataset"
   ]
  },
  {
   "cell_type": "code",
   "execution_count": 30,
   "metadata": {},
   "outputs": [],
   "source": [
    "# Step 6 - Predicting NB classifier model on x_test\n",
    "y_pred_test_svm_linear = svm_linear_classifier.predict(X_test)"
   ]
  },
  {
   "cell_type": "code",
   "execution_count": 36,
   "metadata": {},
   "outputs": [
    {
     "name": "stdout",
     "output_type": "stream",
     "text": [
      "Accuracy score: 0.89\n"
     ]
    }
   ],
   "source": [
    "accuracy = accuracy_score(y_test, y_pred_test_svm_linear) \n",
    "print(\"Accuracy score:\",accuracy)"
   ]
  },
  {
   "cell_type": "code",
   "execution_count": 37,
   "metadata": {},
   "outputs": [
    {
     "data": {
      "image/png": "[encoded data removed]",
      "text/plain": [
       "<Figure size 432x288 with 1 Axes>"
      ]
     },
     "metadata": {
      "needs_background": "light"
     },
     "output_type": "display_data"
    }
   ],
   "source": [
    "# Let us check how well our model is predicting 1's and 0's \n",
    "# plot_confusion_matrix(log_sklearn,X,y)\n",
    "sns.heatmap(confusion_matrix(y_test,y_pred_test_svm_linear),\n",
    "            annot=True,\n",
    "            fmt='d',\n",
    "            cbar=False,\n",
    "            cmap='magma')\n",
    "plt.xlabel(\"Predicted Label on test data\")\n",
    "plt.ylabel(\"Actual Label of test data\");"
   ]
  },
  {
   "cell_type": "code",
   "execution_count": 38,
   "metadata": {},
   "outputs": [
    {
     "name": "stdout",
     "output_type": "stream",
     "text": [
      "              precision    recall  f1-score   support\n",
      "\n",
      "           0       0.88      0.97      0.92        68\n",
      "           1       0.92      0.72      0.81        32\n",
      "\n",
      "    accuracy                           0.89       100\n",
      "   macro avg       0.90      0.84      0.87       100\n",
      "weighted avg       0.89      0.89      0.89       100\n",
      "\n"
     ]
    }
   ],
   "source": [
    "print(classification_report(y_test,y_pred_test_svm_linear))"
   ]
  },
  {
   "cell_type": "markdown",
   "metadata": {},
   "source": [
    "## Rbf Kernel - Non linear classifier"
   ]
  },
  {
   "cell_type": "code",
   "execution_count": 39,
   "metadata": {},
   "outputs": [],
   "source": [
    "svm_rbf_classifier = SVC(kernel = 'rbf',gamma='scale')"
   ]
  },
  {
   "cell_type": "code",
   "execution_count": 40,
   "metadata": {},
   "outputs": [
    {
     "data": {
      "text/plain": [
       "SVC()"
      ]
     },
     "execution_count": 40,
     "metadata": {},
     "output_type": "execute_result"
    }
   ],
   "source": [
    "svm_rbf_classifier.fit(X_train, y_train) # fitting it on training dataset"
   ]
  },
  {
   "cell_type": "code",
   "execution_count": 42,
   "metadata": {},
   "outputs": [],
   "source": [
    "# Step 6 - Predicting NB classifier model on x_test\n",
    "y_pred_test_svm_rbf = svm_rbf_classifier.predict(X_test)"
   ]
  },
  {
   "cell_type": "code",
   "execution_count": 43,
   "metadata": {},
   "outputs": [
    {
     "name": "stdout",
     "output_type": "stream",
     "text": [
      "Accuracy score: 0.93\n"
     ]
    }
   ],
   "source": [
    "accuracy = accuracy_score(y_test, y_pred_test_svm_rbf) \n",
    "print(\"Accuracy score:\",accuracy)"
   ]
  },
  {
   "cell_type": "code",
   "execution_count": 44,
   "metadata": {},
   "outputs": [
    {
     "data": {
      "image/png": "[encoded data removed]",
      "text/plain": [
       "<Figure size 432x288 with 1 Axes>"
      ]
     },
     "metadata": {
      "needs_background": "light"
     },
     "output_type": "display_data"
    }
   ],
   "source": [
    "# Let us check how well our model is predicting 1's and 0's \n",
    "# plot_confusion_matrix(log_sklearn,X,y)\n",
    "sns.heatmap(confusion_matrix(y_test,y_pred_test_svm_rbf),\n",
    "            annot=True,\n",
    "            fmt='d',\n",
    "            cbar=False,\n",
    "            cmap='magma')\n",
    "plt.xlabel(\"Predicted Label on test data\")\n",
    "plt.ylabel(\"Actual Label of test data\");"
   ]
  },
  {
   "cell_type": "code",
   "execution_count": 45,
   "metadata": {},
   "outputs": [
    {
     "name": "stdout",
     "output_type": "stream",
     "text": [
      "              precision    recall  f1-score   support\n",
      "\n",
      "           0       0.96      0.94      0.95        68\n",
      "           1       0.88      0.91      0.89        32\n",
      "\n",
      "    accuracy                           0.93       100\n",
      "   macro avg       0.92      0.92      0.92       100\n",
      "weighted avg       0.93      0.93      0.93       100\n",
      "\n"
     ]
    }
   ],
   "source": [
    "print(classification_report(y_test,y_pred_test_svm_rbf))"
   ]
  },
  {
   "cell_type": "markdown",
   "metadata": {},
   "source": [
    "# Decision Tree Classifier"
   ]
  },
  {
   "cell_type": "code",
   "execution_count": 47,
   "metadata": {},
   "outputs": [],
   "source": [
    "from sklearn.tree import DecisionTreeClassifier"
   ]
  },
  {
   "cell_type": "code",
   "execution_count": 52,
   "metadata": {},
   "outputs": [
    {
     "name": "stdout",
     "output_type": "stream",
     "text": [
      "DecisionTreeClassifier()\n"
     ]
    }
   ],
   "source": [
    "dt_classifier = DecisionTreeClassifier()\n",
    "print(dt_classifier)"
   ]
  },
  {
   "cell_type": "code",
   "execution_count": 53,
   "metadata": {},
   "outputs": [
    {
     "data": {
      "text/plain": [
       "DecisionTreeClassifier()"
      ]
     },
     "execution_count": 53,
     "metadata": {},
     "output_type": "execute_result"
    }
   ],
   "source": [
    "dt_classifier.fit(X_train, y_train) # fitting it on training dataset"
   ]
  },
  {
   "cell_type": "code",
   "execution_count": 54,
   "metadata": {},
   "outputs": [],
   "source": [
    "# Step 6 - Predicting NB classifier model on x_test\n",
    "y_pred_test_dt = dt_classifier.predict(X_test)"
   ]
  },
  {
   "cell_type": "code",
   "execution_count": 55,
   "metadata": {},
   "outputs": [
    {
     "name": "stdout",
     "output_type": "stream",
     "text": [
      "Accuracy score: 0.91\n"
     ]
    }
   ],
   "source": [
    "accuracy = accuracy_score(y_test, y_pred_test_dt) \n",
    "print(\"Accuracy score:\",accuracy)"
   ]
  },
  {
   "cell_type": "code",
   "execution_count": 56,
   "metadata": {},
   "outputs": [
    {
     "data": {
      "image/png": "[encoded data removed]",
      "text/plain": [
       "<Figure size 432x288 with 1 Axes>"
      ]
     },
     "metadata": {
      "needs_background": "light"
     },
     "output_type": "display_data"
    }
   ],
   "source": [
    "# Let us check how well our model is predicting 1's and 0's \n",
    "# plot_confusion_matrix(log_sklearn,X,y)\n",
    "sns.heatmap(confusion_matrix(y_test,y_pred_test_dt),\n",
    "            annot=True,\n",
    "            fmt='d',\n",
    "            cbar=False,\n",
    "            cmap='magma')\n",
    "\n",
    "plt.xlabel(\"Predicted Label on test data\")\n",
    "plt.ylabel(\"Actual Label of test data\");"
   ]
  },
  {
   "cell_type": "code",
   "execution_count": 57,
   "metadata": {},
   "outputs": [
    {
     "name": "stdout",
     "output_type": "stream",
     "text": [
      "              precision    recall  f1-score   support\n",
      "\n",
      "           0       0.94      0.93      0.93        68\n",
      "           1       0.85      0.88      0.86        32\n",
      "\n",
      "    accuracy                           0.91       100\n",
      "   macro avg       0.89      0.90      0.90       100\n",
      "weighted avg       0.91      0.91      0.91       100\n",
      "\n"
     ]
    }
   ],
   "source": [
    "print(classification_report(y_test,y_pred_test_dt))"
   ]
  },
  {
   "cell_type": "markdown",
   "metadata": {},
   "source": [
    "## Evalution on the train data"
   ]
  },
  {
   "cell_type": "code",
   "execution_count": 58,
   "metadata": {},
   "outputs": [],
   "source": [
    "# Step 6 - Predicting NB classifier model on x_test\n",
    "y_pred_train_dt = dt_classifier.predict(X_train)"
   ]
  },
  {
   "cell_type": "code",
   "execution_count": 59,
   "metadata": {},
   "outputs": [
    {
     "name": "stdout",
     "output_type": "stream",
     "text": [
      "Accuracy score: 0.91\n"
     ]
    }
   ],
   "source": [
    "accuracy_train = accuracy_score(y_train, y_pred_train_dt) \n",
    "print(\"Accuracy score:\",accuracy)"
   ]
  },
  {
   "cell_type": "code",
   "execution_count": 61,
   "metadata": {},
   "outputs": [
    {
     "data": {
      "image/png": "[encoded data removed]",
      "text/plain": [
       "<Figure size 432x288 with 1 Axes>"
      ]
     },
     "metadata": {
      "needs_background": "light"
     },
     "output_type": "display_data"
    }
   ],
   "source": [
    "# Let us check how well our model is predicting 1's and 0's \n",
    "# plot_confusion_matrix(log_sklearn,X,y)\n",
    "sns.heatmap(confusion_matrix(y_train,y_pred_train_dt),\n",
    "            annot=True,\n",
    "            fmt='d',\n",
    "            cbar=False,\n",
    "            cmap='magma')\n",
    "\n",
    "plt.xlabel(\"Predicted Label on test data\")\n",
    "plt.ylabel(\"Actual Label of test data\");"
   ]
  },
  {
   "cell_type": "code",
   "execution_count": 60,
   "metadata": {},
   "outputs": [
    {
     "name": "stdout",
     "output_type": "stream",
     "text": [
      "              precision    recall  f1-score   support\n",
      "\n",
      "           0       1.00      1.00      1.00       189\n",
      "           1       1.00      1.00      1.00       111\n",
      "\n",
      "    accuracy                           1.00       300\n",
      "   macro avg       1.00      1.00      1.00       300\n",
      "weighted avg       1.00      1.00      1.00       300\n",
      "\n"
     ]
    }
   ],
   "source": [
    "print(classification_report(y_train,y_pred_train_dt))"
   ]
  },
  {
   "cell_type": "markdown",
   "metadata": {},
   "source": [
    "**Model is overfitting heavily here - Model is learning well the training data but working poorly on test dataset**"
   ]
  },
  {
   "cell_type": "code",
   "execution_count": 67,
   "metadata": {},
   "outputs": [
    {
     "data": {
      "image/png": "[encoded data removed]",
      "text/plain": [
       "<Figure size 1080x720 with 1 Axes>"
      ]
     },
     "metadata": {
      "needs_background": "light"
     },
     "output_type": "display_data"
    }
   ],
   "source": [
    "# from sklearn.datasets import load_boston\n",
    "import matplotlib.pyplot as plt\n",
    "from sklearn import tree\n",
    "%matplotlib inline\n",
    "plt.figure(figsize=(15,10))\n",
    "tree.plot_tree(dt_classifier,filled = True,rounded=True);\n",
    "               #feature_names=X_train.columns);\n",
    "# class_names to be added"
   ]
  },
  {
   "cell_type": "markdown",
   "metadata": {},
   "source": [
    "## Regularization - Hyperparameter tuning"
   ]
  },
  {
   "cell_type": "code",
   "execution_count": 68,
   "metadata": {},
   "outputs": [],
   "source": [
    "from sklearn.model_selection import GridSearchCV"
   ]
  },
  {
   "cell_type": "code",
   "execution_count": 71,
   "metadata": {},
   "outputs": [],
   "source": [
    "# Create the parameter grid based on the results of random search \n",
    "params = {\n",
    "    'max_depth': [2, 3, 5, 10], # Depth of the tree\n",
    "    'min_samples_leaf': [10, 20, 50, 100],\n",
    "    'criterion': [\"gini\", \"entropy\"],\n",
    "    'min_samples_split':[10,12,18,20]\n",
    "}\n",
    "\n",
    "# criterion : Decides the measure of the quality of a split based on criteria like “gini” for the Gini impurity and “entropy” for the information gain.\n",
    "# max_depth : The maximum depth of the tree, the more depth of tree generally it overfits the data.\n",
    "# max_leaf_nodes : Grows the tree with a specified number of leaf nodes based on reduction in impurity.\n",
    "# min_samples_split : The minimum number of samples that are required to split an internal node.\n",
    "# min_samples_leaf : The minimum number of samples that are required to be at a leaf node of the tree."
   ]
  },
  {
   "cell_type": "code",
   "execution_count": 69,
   "metadata": {},
   "outputs": [],
   "source": [
    "dt_classifier_hp = DecisionTreeClassifier(random_state=43)"
   ]
  },
  {
   "cell_type": "code",
   "execution_count": 72,
   "metadata": {},
   "outputs": [],
   "source": [
    "GS = GridSearchCV(estimator = dt_classifier_hp,\n",
    "                  param_grid = params,\n",
    "                  cv=5,\n",
    "                  n_jobs = -1,\n",
    "                  verbose = True,\n",
    "                  scoring = 'accuracy')"
   ]
  },
  {
   "cell_type": "code",
   "execution_count": 73,
   "metadata": {},
   "outputs": [
    {
     "name": "stdout",
     "output_type": "stream",
     "text": [
      "Fitting 5 folds for each of 128 candidates, totalling 640 fits\n"
     ]
    },
    {
     "data": {
      "text/plain": [
       "GridSearchCV(cv=5, estimator=DecisionTreeClassifier(random_state=43), n_jobs=-1,\n",
       "             param_grid={'criterion': ['gini', 'entropy'],\n",
       "                         'max_depth': [2, 3, 5, 10],\n",
       "                         'min_samples_leaf': [10, 20, 50, 100],\n",
       "                         'min_samples_split': [10, 12, 18, 20]},\n",
       "             scoring='accuracy', verbose=True)"
      ]
     },
     "execution_count": 73,
     "metadata": {},
     "output_type": "execute_result"
    }
   ],
   "source": [
    "GS.fit(X_train, y_train)"
   ]
  },
  {
   "cell_type": "code",
   "execution_count": 75,
   "metadata": {},
   "outputs": [
    {
     "name": "stdout",
     "output_type": "stream",
     "text": [
      "Best Parameters: {'criterion': 'gini', 'max_depth': 2, 'min_samples_leaf': 10, 'min_samples_split': 10}\n",
      "\n",
      "Best Score: 0.9\n"
     ]
    }
   ],
   "source": [
    "print('Best Parameters:',GS.best_params_,end='\\n\\n')\n",
    "print('Best Score:',GS.best_score_)"
   ]
  },
  {
   "cell_type": "code",
   "execution_count": 76,
   "metadata": {},
   "outputs": [
    {
     "data": {
      "text/html": [
       "<div>\n",
       "<style scoped>\n",
       "    .dataframe tbody tr th:only-of-type {\n",
       "        vertical-align: middle;\n",
       "    }\n",
       "\n",
       "    .dataframe tbody tr th {\n",
       "        vertical-align: top;\n",
       "    }\n",
       "\n",
       "    .dataframe thead th {\n",
       "        text-align: right;\n",
       "    }\n",
       "</style>\n",
       "<table border=\"1\" class=\"dataframe\">\n",
       "  <thead>\n",
       "    <tr style=\"text-align: right;\">\n",
       "      <th></th>\n",
       "      <th>mean_fit_time</th>\n",
       "      <th>std_fit_time</th>\n",
       "      <th>mean_score_time</th>\n",
       "      <th>std_score_time</th>\n",
       "      <th>param_criterion</th>\n",
       "      <th>param_max_depth</th>\n",
       "      <th>param_min_samples_leaf</th>\n",
       "      <th>param_min_samples_split</th>\n",
       "      <th>params</th>\n",
       "      <th>split0_test_score</th>\n",
       "      <th>split1_test_score</th>\n",
       "      <th>split2_test_score</th>\n",
       "      <th>split3_test_score</th>\n",
       "      <th>split4_test_score</th>\n",
       "      <th>mean_test_score</th>\n",
       "      <th>std_test_score</th>\n",
       "      <th>rank_test_score</th>\n",
       "    </tr>\n",
       "  </thead>\n",
       "  <tbody>\n",
       "    <tr>\n",
       "      <th>0</th>\n",
       "      <td>0.001436</td>\n",
       "      <td>0.000242</td>\n",
       "      <td>0.000287</td>\n",
       "      <td>0.000028</td>\n",
       "      <td>gini</td>\n",
       "      <td>2</td>\n",
       "      <td>10</td>\n",
       "      <td>10</td>\n",
       "      <td>{'criterion': 'gini', 'max_depth': 2, 'min_sam...</td>\n",
       "      <td>0.866667</td>\n",
       "      <td>0.85</td>\n",
       "      <td>0.883333</td>\n",
       "      <td>0.916667</td>\n",
       "      <td>0.983333</td>\n",
       "      <td>0.9</td>\n",
       "      <td>0.04714</td>\n",
       "      <td>1</td>\n",
       "    </tr>\n",
       "    <tr>\n",
       "      <th>1</th>\n",
       "      <td>0.001348</td>\n",
       "      <td>0.000379</td>\n",
       "      <td>0.000325</td>\n",
       "      <td>0.000112</td>\n",
       "      <td>gini</td>\n",
       "      <td>2</td>\n",
       "      <td>10</td>\n",
       "      <td>12</td>\n",
       "      <td>{'criterion': 'gini', 'max_depth': 2, 'min_sam...</td>\n",
       "      <td>0.866667</td>\n",
       "      <td>0.85</td>\n",
       "      <td>0.883333</td>\n",
       "      <td>0.916667</td>\n",
       "      <td>0.983333</td>\n",
       "      <td>0.9</td>\n",
       "      <td>0.04714</td>\n",
       "      <td>1</td>\n",
       "    </tr>\n",
       "    <tr>\n",
       "      <th>2</th>\n",
       "      <td>0.000678</td>\n",
       "      <td>0.000133</td>\n",
       "      <td>0.000204</td>\n",
       "      <td>0.000041</td>\n",
       "      <td>gini</td>\n",
       "      <td>2</td>\n",
       "      <td>10</td>\n",
       "      <td>18</td>\n",
       "      <td>{'criterion': 'gini', 'max_depth': 2, 'min_sam...</td>\n",
       "      <td>0.866667</td>\n",
       "      <td>0.85</td>\n",
       "      <td>0.883333</td>\n",
       "      <td>0.916667</td>\n",
       "      <td>0.983333</td>\n",
       "      <td>0.9</td>\n",
       "      <td>0.04714</td>\n",
       "      <td>1</td>\n",
       "    </tr>\n",
       "    <tr>\n",
       "      <th>3</th>\n",
       "      <td>0.001025</td>\n",
       "      <td>0.000351</td>\n",
       "      <td>0.000193</td>\n",
       "      <td>0.000013</td>\n",
       "      <td>gini</td>\n",
       "      <td>2</td>\n",
       "      <td>10</td>\n",
       "      <td>20</td>\n",
       "      <td>{'criterion': 'gini', 'max_depth': 2, 'min_sam...</td>\n",
       "      <td>0.866667</td>\n",
       "      <td>0.85</td>\n",
       "      <td>0.883333</td>\n",
       "      <td>0.916667</td>\n",
       "      <td>0.983333</td>\n",
       "      <td>0.9</td>\n",
       "      <td>0.04714</td>\n",
       "      <td>1</td>\n",
       "    </tr>\n",
       "    <tr>\n",
       "      <th>4</th>\n",
       "      <td>0.000835</td>\n",
       "      <td>0.000303</td>\n",
       "      <td>0.000209</td>\n",
       "      <td>0.000025</td>\n",
       "      <td>gini</td>\n",
       "      <td>2</td>\n",
       "      <td>20</td>\n",
       "      <td>10</td>\n",
       "      <td>{'criterion': 'gini', 'max_depth': 2, 'min_sam...</td>\n",
       "      <td>0.866667</td>\n",
       "      <td>0.85</td>\n",
       "      <td>0.883333</td>\n",
       "      <td>0.916667</td>\n",
       "      <td>0.983333</td>\n",
       "      <td>0.9</td>\n",
       "      <td>0.04714</td>\n",
       "      <td>1</td>\n",
       "    </tr>\n",
       "  </tbody>\n",
       "</table>\n",
       "</div>"
      ],
      "text/plain": [
       "   mean_fit_time  std_fit_time  mean_score_time  std_score_time  \\\n",
       "0       0.001436      0.000242         0.000287        0.000028   \n",
       "1       0.001348      0.000379         0.000325        0.000112   \n",
       "2       0.000678      0.000133         0.000204        0.000041   \n",
       "3       0.001025      0.000351         0.000193        0.000013   \n",
       "4       0.000835      0.000303         0.000209        0.000025   \n",
       "\n",
       "  param_criterion param_max_depth param_min_samples_leaf  \\\n",
       "0            gini               2                     10   \n",
       "1            gini               2                     10   \n",
       "2            gini               2                     10   \n",
       "3            gini               2                     10   \n",
       "4            gini               2                     20   \n",
       "\n",
       "  param_min_samples_split                                             params  \\\n",
       "0                      10  {'criterion': 'gini', 'max_depth': 2, 'min_sam...   \n",
       "1                      12  {'criterion': 'gini', 'max_depth': 2, 'min_sam...   \n",
       "2                      18  {'criterion': 'gini', 'max_depth': 2, 'min_sam...   \n",
       "3                      20  {'criterion': 'gini', 'max_depth': 2, 'min_sam...   \n",
       "4                      10  {'criterion': 'gini', 'max_depth': 2, 'min_sam...   \n",
       "\n",
       "   split0_test_score  split1_test_score  split2_test_score  split3_test_score  \\\n",
       "0           0.866667               0.85           0.883333           0.916667   \n",
       "1           0.866667               0.85           0.883333           0.916667   \n",
       "2           0.866667               0.85           0.883333           0.916667   \n",
       "3           0.866667               0.85           0.883333           0.916667   \n",
       "4           0.866667               0.85           0.883333           0.916667   \n",
       "\n",
       "   split4_test_score  mean_test_score  std_test_score  rank_test_score  \n",
       "0           0.983333              0.9         0.04714                1  \n",
       "1           0.983333              0.9         0.04714                1  \n",
       "2           0.983333              0.9         0.04714                1  \n",
       "3           0.983333              0.9         0.04714                1  \n",
       "4           0.983333              0.9         0.04714                1  "
      ]
     },
     "execution_count": 76,
     "metadata": {},
     "output_type": "execute_result"
    }
   ],
   "source": [
    "score_df = pd.DataFrame(GS.cv_results_)\n",
    "score_df.head()"
   ]
  },
  {
   "cell_type": "code",
   "execution_count": 77,
   "metadata": {},
   "outputs": [
    {
     "data": {
      "text/plain": [
       "(128, 17)"
      ]
     },
     "execution_count": 77,
     "metadata": {},
     "output_type": "execute_result"
    }
   ],
   "source": [
    "score_df.shape"
   ]
  },
  {
   "cell_type": "code",
   "execution_count": 78,
   "metadata": {},
   "outputs": [
    {
     "data": {
      "text/html": [
       "<div>\n",
       "<style scoped>\n",
       "    .dataframe tbody tr th:only-of-type {\n",
       "        vertical-align: middle;\n",
       "    }\n",
       "\n",
       "    .dataframe tbody tr th {\n",
       "        vertical-align: top;\n",
       "    }\n",
       "\n",
       "    .dataframe thead th {\n",
       "        text-align: right;\n",
       "    }\n",
       "</style>\n",
       "<table border=\"1\" class=\"dataframe\">\n",
       "  <thead>\n",
       "    <tr style=\"text-align: right;\">\n",
       "      <th></th>\n",
       "      <th>mean_fit_time</th>\n",
       "      <th>std_fit_time</th>\n",
       "      <th>mean_score_time</th>\n",
       "      <th>std_score_time</th>\n",
       "      <th>param_criterion</th>\n",
       "      <th>param_max_depth</th>\n",
       "      <th>param_min_samples_leaf</th>\n",
       "      <th>param_min_samples_split</th>\n",
       "      <th>params</th>\n",
       "      <th>split0_test_score</th>\n",
       "      <th>split1_test_score</th>\n",
       "      <th>split2_test_score</th>\n",
       "      <th>split3_test_score</th>\n",
       "      <th>split4_test_score</th>\n",
       "      <th>mean_test_score</th>\n",
       "      <th>std_test_score</th>\n",
       "      <th>rank_test_score</th>\n",
       "    </tr>\n",
       "  </thead>\n",
       "  <tbody>\n",
       "    <tr>\n",
       "      <th>0</th>\n",
       "      <td>0.001436</td>\n",
       "      <td>0.000242</td>\n",
       "      <td>0.000287</td>\n",
       "      <td>0.000028</td>\n",
       "      <td>gini</td>\n",
       "      <td>2</td>\n",
       "      <td>10</td>\n",
       "      <td>10</td>\n",
       "      <td>{'criterion': 'gini', 'max_depth': 2, 'min_sam...</td>\n",
       "      <td>0.866667</td>\n",
       "      <td>0.85</td>\n",
       "      <td>0.883333</td>\n",
       "      <td>0.916667</td>\n",
       "      <td>0.983333</td>\n",
       "      <td>0.9</td>\n",
       "      <td>0.04714</td>\n",
       "      <td>1</td>\n",
       "    </tr>\n",
       "    <tr>\n",
       "      <th>1</th>\n",
       "      <td>0.001348</td>\n",
       "      <td>0.000379</td>\n",
       "      <td>0.000325</td>\n",
       "      <td>0.000112</td>\n",
       "      <td>gini</td>\n",
       "      <td>2</td>\n",
       "      <td>10</td>\n",
       "      <td>12</td>\n",
       "      <td>{'criterion': 'gini', 'max_depth': 2, 'min_sam...</td>\n",
       "      <td>0.866667</td>\n",
       "      <td>0.85</td>\n",
       "      <td>0.883333</td>\n",
       "      <td>0.916667</td>\n",
       "      <td>0.983333</td>\n",
       "      <td>0.9</td>\n",
       "      <td>0.04714</td>\n",
       "      <td>1</td>\n",
       "    </tr>\n",
       "    <tr>\n",
       "      <th>2</th>\n",
       "      <td>0.000678</td>\n",
       "      <td>0.000133</td>\n",
       "      <td>0.000204</td>\n",
       "      <td>0.000041</td>\n",
       "      <td>gini</td>\n",
       "      <td>2</td>\n",
       "      <td>10</td>\n",
       "      <td>18</td>\n",
       "      <td>{'criterion': 'gini', 'max_depth': 2, 'min_sam...</td>\n",
       "      <td>0.866667</td>\n",
       "      <td>0.85</td>\n",
       "      <td>0.883333</td>\n",
       "      <td>0.916667</td>\n",
       "      <td>0.983333</td>\n",
       "      <td>0.9</td>\n",
       "      <td>0.04714</td>\n",
       "      <td>1</td>\n",
       "    </tr>\n",
       "    <tr>\n",
       "      <th>3</th>\n",
       "      <td>0.001025</td>\n",
       "      <td>0.000351</td>\n",
       "      <td>0.000193</td>\n",
       "      <td>0.000013</td>\n",
       "      <td>gini</td>\n",
       "      <td>2</td>\n",
       "      <td>10</td>\n",
       "      <td>20</td>\n",
       "      <td>{'criterion': 'gini', 'max_depth': 2, 'min_sam...</td>\n",
       "      <td>0.866667</td>\n",
       "      <td>0.85</td>\n",
       "      <td>0.883333</td>\n",
       "      <td>0.916667</td>\n",
       "      <td>0.983333</td>\n",
       "      <td>0.9</td>\n",
       "      <td>0.04714</td>\n",
       "      <td>1</td>\n",
       "    </tr>\n",
       "    <tr>\n",
       "      <th>4</th>\n",
       "      <td>0.000835</td>\n",
       "      <td>0.000303</td>\n",
       "      <td>0.000209</td>\n",
       "      <td>0.000025</td>\n",
       "      <td>gini</td>\n",
       "      <td>2</td>\n",
       "      <td>20</td>\n",
       "      <td>10</td>\n",
       "      <td>{'criterion': 'gini', 'max_depth': 2, 'min_sam...</td>\n",
       "      <td>0.866667</td>\n",
       "      <td>0.85</td>\n",
       "      <td>0.883333</td>\n",
       "      <td>0.916667</td>\n",
       "      <td>0.983333</td>\n",
       "      <td>0.9</td>\n",
       "      <td>0.04714</td>\n",
       "      <td>1</td>\n",
       "    </tr>\n",
       "  </tbody>\n",
       "</table>\n",
       "</div>"
      ],
      "text/plain": [
       "   mean_fit_time  std_fit_time  mean_score_time  std_score_time  \\\n",
       "0       0.001436      0.000242         0.000287        0.000028   \n",
       "1       0.001348      0.000379         0.000325        0.000112   \n",
       "2       0.000678      0.000133         0.000204        0.000041   \n",
       "3       0.001025      0.000351         0.000193        0.000013   \n",
       "4       0.000835      0.000303         0.000209        0.000025   \n",
       "\n",
       "  param_criterion param_max_depth param_min_samples_leaf  \\\n",
       "0            gini               2                     10   \n",
       "1            gini               2                     10   \n",
       "2            gini               2                     10   \n",
       "3            gini               2                     10   \n",
       "4            gini               2                     20   \n",
       "\n",
       "  param_min_samples_split                                             params  \\\n",
       "0                      10  {'criterion': 'gini', 'max_depth': 2, 'min_sam...   \n",
       "1                      12  {'criterion': 'gini', 'max_depth': 2, 'min_sam...   \n",
       "2                      18  {'criterion': 'gini', 'max_depth': 2, 'min_sam...   \n",
       "3                      20  {'criterion': 'gini', 'max_depth': 2, 'min_sam...   \n",
       "4                      10  {'criterion': 'gini', 'max_depth': 2, 'min_sam...   \n",
       "\n",
       "   split0_test_score  split1_test_score  split2_test_score  split3_test_score  \\\n",
       "0           0.866667               0.85           0.883333           0.916667   \n",
       "1           0.866667               0.85           0.883333           0.916667   \n",
       "2           0.866667               0.85           0.883333           0.916667   \n",
       "3           0.866667               0.85           0.883333           0.916667   \n",
       "4           0.866667               0.85           0.883333           0.916667   \n",
       "\n",
       "   split4_test_score  mean_test_score  std_test_score  rank_test_score  \n",
       "0           0.983333              0.9         0.04714                1  \n",
       "1           0.983333              0.9         0.04714                1  \n",
       "2           0.983333              0.9         0.04714                1  \n",
       "3           0.983333              0.9         0.04714                1  \n",
       "4           0.983333              0.9         0.04714                1  "
      ]
     },
     "execution_count": 78,
     "metadata": {},
     "output_type": "execute_result"
    }
   ],
   "source": [
    "score_df.nlargest(5,\"mean_test_score\")"
   ]
  },
  {
   "cell_type": "code",
   "execution_count": 79,
   "metadata": {},
   "outputs": [],
   "source": [
    "GS_dt_classifier  = GS.best_estimator_"
   ]
  },
  {
   "cell_type": "code",
   "execution_count": 80,
   "metadata": {},
   "outputs": [
    {
     "data": {
      "image/png": "[encoded data removed]",
      "text/plain": [
       "<Figure size 1080x720 with 1 Axes>"
      ]
     },
     "metadata": {
      "needs_background": "light"
     },
     "output_type": "display_data"
    }
   ],
   "source": [
    "# from sklearn.datasets import load_boston\n",
    "import matplotlib.pyplot as plt\n",
    "from sklearn import tree\n",
    "%matplotlib inline\n",
    "plt.figure(figsize=(15,10))\n",
    "tree.plot_tree(GS_dt_classifier,filled = True,rounded=True);\n",
    "               #feature_names=X_train.columns);\n",
    "# class_names to be added"
   ]
  },
  {
   "cell_type": "markdown",
   "metadata": {},
   "source": [
    "## Train Accuracy"
   ]
  },
  {
   "cell_type": "code",
   "execution_count": 81,
   "metadata": {},
   "outputs": [],
   "source": [
    "# Step 6 - Predicting NB classifier model on x_test\n",
    "y_pred_train_gs_dt = GS_dt_classifier.predict(X_train)"
   ]
  },
  {
   "cell_type": "code",
   "execution_count": 82,
   "metadata": {},
   "outputs": [
    {
     "data": {
      "image/png": "[encoded data removed]",
      "text/plain": [
       "<Figure size 432x288 with 1 Axes>"
      ]
     },
     "metadata": {
      "needs_background": "light"
     },
     "output_type": "display_data"
    }
   ],
   "source": [
    "# Let us check how well our model is predicting 1's and 0's \n",
    "# plot_confusion_matrix(log_sklearn,X,y)\n",
    "sns.heatmap(confusion_matrix(y_train,y_pred_train_gs_dt),\n",
    "            annot=True,\n",
    "            fmt='d',\n",
    "            cbar=False,\n",
    "            cmap='magma')\n",
    "\n",
    "plt.xlabel(\"Predicted Label on test data\")\n",
    "plt.ylabel(\"Actual Label of test data\");"
   ]
  },
  {
   "cell_type": "code",
   "execution_count": 83,
   "metadata": {},
   "outputs": [
    {
     "name": "stdout",
     "output_type": "stream",
     "text": [
      "              precision    recall  f1-score   support\n",
      "\n",
      "           0       0.96      0.89      0.93       189\n",
      "           1       0.84      0.94      0.89       111\n",
      "\n",
      "    accuracy                           0.91       300\n",
      "   macro avg       0.90      0.92      0.91       300\n",
      "weighted avg       0.92      0.91      0.91       300\n",
      "\n"
     ]
    }
   ],
   "source": [
    "print(classification_report(y_train,y_pred_train_gs_dt))"
   ]
  },
  {
   "cell_type": "markdown",
   "metadata": {},
   "source": [
    "## Test Accuracy"
   ]
  },
  {
   "cell_type": "code",
   "execution_count": 84,
   "metadata": {},
   "outputs": [],
   "source": [
    "# Step 6 - Predicting NB classifier model on x_test\n",
    "y_pred_test_gs_dt = GS_dt_classifier.predict(X_test)"
   ]
  },
  {
   "cell_type": "code",
   "execution_count": 85,
   "metadata": {},
   "outputs": [
    {
     "data": {
      "image/png": "[encoded data removed]",
      "text/plain": [
       "<Figure size 432x288 with 1 Axes>"
      ]
     },
     "metadata": {
      "needs_background": "light"
     },
     "output_type": "display_data"
    }
   ],
   "source": [
    "# Let us check how well our model is predicting 1's and 0's \n",
    "# plot_confusion_matrix(log_sklearn,X,y)\n",
    "sns.heatmap(confusion_matrix(y_test,y_pred_test_gs_dt),\n",
    "            annot=True,\n",
    "            fmt='d',\n",
    "            cbar=False,\n",
    "            cmap='magma')\n",
    "\n",
    "plt.xlabel(\"Predicted Label on test data\")\n",
    "plt.ylabel(\"Actual Label of test data\");"
   ]
  },
  {
   "cell_type": "code",
   "execution_count": 86,
   "metadata": {},
   "outputs": [
    {
     "name": "stdout",
     "output_type": "stream",
     "text": [
      "              precision    recall  f1-score   support\n",
      "\n",
      "           0       0.97      0.94      0.96        68\n",
      "           1       0.88      0.94      0.91        32\n",
      "\n",
      "    accuracy                           0.94       100\n",
      "   macro avg       0.93      0.94      0.93       100\n",
      "weighted avg       0.94      0.94      0.94       100\n",
      "\n"
     ]
    }
   ],
   "source": [
    "print(classification_report(y_test,y_pred_test_gs_dt))"
   ]
  },
  {
   "cell_type": "markdown",
   "metadata": {},
   "source": [
    "**Highest Accuray/F1 score with Decision Tree model**"
   ]
  },
  {
   "cell_type": "markdown",
   "metadata": {},
   "source": [
    "DT > SVM & KNN > NB & Logistic Reg"
   ]
  },
  {
   "cell_type": "markdown",
   "metadata": {},
   "source": [
    "https://www.kaggle.com/code/gauravduttakiit/hyperparameter-tuning-in-decision-trees"
   ]
  },
  {
   "cell_type": "markdown",
   "metadata": {},
   "source": [
    "# Random Forest Classifier"
   ]
  },
  {
   "cell_type": "code",
   "execution_count": 88,
   "metadata": {},
   "outputs": [],
   "source": [
    "from sklearn.ensemble import RandomForestClassifier"
   ]
  },
  {
   "cell_type": "code",
   "execution_count": 89,
   "metadata": {},
   "outputs": [],
   "source": [
    "rf_classifier = RandomForestClassifier(n_estimators=100) # number of DTs"
   ]
  },
  {
   "cell_type": "code",
   "execution_count": 90,
   "metadata": {},
   "outputs": [
    {
     "data": {
      "text/plain": [
       "RandomForestClassifier()"
      ]
     },
     "execution_count": 90,
     "metadata": {},
     "output_type": "execute_result"
    }
   ],
   "source": [
    "rf_classifier.fit(X_train, y_train) # fitting it on training dataset"
   ]
  },
  {
   "cell_type": "markdown",
   "metadata": {},
   "source": [
    "## Train Data"
   ]
  },
  {
   "cell_type": "code",
   "execution_count": 95,
   "metadata": {},
   "outputs": [],
   "source": [
    "y_pred_train_rf = rf_classifier.predict(X_train)"
   ]
  },
  {
   "cell_type": "code",
   "execution_count": 96,
   "metadata": {},
   "outputs": [
    {
     "name": "stdout",
     "output_type": "stream",
     "text": [
      "Accuracy score: 1.0\n"
     ]
    }
   ],
   "source": [
    "accuracy = accuracy_score(y_train, y_pred_train_rf) \n",
    "print(\"Accuracy score:\",accuracy)"
   ]
  },
  {
   "cell_type": "code",
   "execution_count": 97,
   "metadata": {},
   "outputs": [
    {
     "data": {
      "image/png": "[encoded data removed]",
      "text/plain": [
       "<Figure size 432x288 with 1 Axes>"
      ]
     },
     "metadata": {
      "needs_background": "light"
     },
     "output_type": "display_data"
    }
   ],
   "source": [
    "# Let us check how well our model is predicting 1's and 0's \n",
    "# plot_confusion_matrix(log_sklearn,X,y)\n",
    "sns.heatmap(confusion_matrix(y_train,y_pred_train_rf),\n",
    "            annot=True,\n",
    "            fmt='d',\n",
    "            cbar=False,\n",
    "            cmap='magma')\n",
    "\n",
    "plt.xlabel(\"Predicted Label on test data\")\n",
    "plt.ylabel(\"Actual Label of test data\");"
   ]
  },
  {
   "cell_type": "code",
   "execution_count": 98,
   "metadata": {},
   "outputs": [
    {
     "name": "stdout",
     "output_type": "stream",
     "text": [
      "              precision    recall  f1-score   support\n",
      "\n",
      "           0       1.00      1.00      1.00       189\n",
      "           1       1.00      1.00      1.00       111\n",
      "\n",
      "    accuracy                           1.00       300\n",
      "   macro avg       1.00      1.00      1.00       300\n",
      "weighted avg       1.00      1.00      1.00       300\n",
      "\n"
     ]
    }
   ],
   "source": [
    "print(classification_report(y_train,y_pred_train_rf))"
   ]
  },
  {
   "cell_type": "markdown",
   "metadata": {},
   "source": [
    "## Test Data"
   ]
  },
  {
   "cell_type": "code",
   "execution_count": 91,
   "metadata": {},
   "outputs": [],
   "source": [
    "# Step 6 - Predicting NB classifier model on x_test\n",
    "y_pred_test_rf = rf_classifier.predict(X_test)"
   ]
  },
  {
   "cell_type": "code",
   "execution_count": 92,
   "metadata": {},
   "outputs": [
    {
     "name": "stdout",
     "output_type": "stream",
     "text": [
      "Accuracy score: 0.92\n"
     ]
    }
   ],
   "source": [
    "accuracy = accuracy_score(y_test, y_pred_test_rf) \n",
    "print(\"Accuracy score:\",accuracy)"
   ]
  },
  {
   "cell_type": "code",
   "execution_count": 93,
   "metadata": {},
   "outputs": [
    {
     "data": {
      "image/png": "[encoded data removed]",
      "text/plain": [
       "<Figure size 432x288 with 1 Axes>"
      ]
     },
     "metadata": {
      "needs_background": "light"
     },
     "output_type": "display_data"
    }
   ],
   "source": [
    "# Let us check how well our model is predicting 1's and 0's \n",
    "# plot_confusion_matrix(log_sklearn,X,y)\n",
    "sns.heatmap(confusion_matrix(y_test,y_pred_test_rf),\n",
    "            annot=True,\n",
    "            fmt='d',\n",
    "            cbar=False,\n",
    "            cmap='magma')\n",
    "\n",
    "plt.xlabel(\"Predicted Label on test data\")\n",
    "plt.ylabel(\"Actual Label of test data\");"
   ]
  },
  {
   "cell_type": "code",
   "execution_count": 94,
   "metadata": {},
   "outputs": [
    {
     "name": "stdout",
     "output_type": "stream",
     "text": [
      "              precision    recall  f1-score   support\n",
      "\n",
      "           0       0.94      0.94      0.94        68\n",
      "           1       0.88      0.88      0.88        32\n",
      "\n",
      "    accuracy                           0.92       100\n",
      "   macro avg       0.91      0.91      0.91       100\n",
      "weighted avg       0.92      0.92      0.92       100\n",
      "\n"
     ]
    }
   ],
   "source": [
    "print(classification_report(y_test,y_pred_test_rf))"
   ]
  },
  {
   "cell_type": "markdown",
   "metadata": {},
   "source": [
    "## Regularization - Hyperparameter tuning RF"
   ]
  },
  {
   "cell_type": "code",
   "execution_count": 99,
   "metadata": {},
   "outputs": [],
   "source": [
    "from sklearn.model_selection import GridSearchCV"
   ]
  },
  {
   "cell_type": "code",
   "execution_count": 101,
   "metadata": {},
   "outputs": [],
   "source": [
    "# Create the parameter grid based on the results of random search \n",
    "params = {\n",
    "    'n_estimators': [10,20,30,50],\n",
    "    'max_depth': [2, 3, 5, 10], # Depth of the tree\n",
    "    'min_samples_leaf': [10, 20, 50,100],\n",
    "    'criterion': [\"gini\", \"entropy\"],\n",
    "    'min_samples_split':[10,12,18,20]\n",
    "}\n",
    "\n",
    "# criterion : Decides the measure of the quality of a split based on criteria like “gini” for the Gini impurity and “entropy” for the information gain.\n",
    "# max_depth : The maximum depth of the tree, the more depth of tree generally it overfits the data.\n",
    "# max_leaf_nodes : Grows the tree with a specified number of leaf nodes based on reduction in impurity.\n",
    "# min_samples_split : The minimum number of samples that are required to split an internal node.\n",
    "# min_samples_leaf : The minimum number of samples that are required to be at a leaf node of the tree."
   ]
  },
  {
   "cell_type": "code",
   "execution_count": 102,
   "metadata": {},
   "outputs": [],
   "source": [
    "rf_classifier_hp = RandomForestClassifier(random_state=43)"
   ]
  },
  {
   "cell_type": "code",
   "execution_count": 104,
   "metadata": {},
   "outputs": [],
   "source": [
    "GS = GridSearchCV(estimator = rf_classifier_hp,\n",
    "                  param_grid = params,\n",
    "                  cv=5,\n",
    "                  n_jobs = -1,\n",
    "                  verbose = True,\n",
    "                  scoring = 'accuracy')"
   ]
  },
  {
   "cell_type": "code",
   "execution_count": 105,
   "metadata": {},
   "outputs": [
    {
     "name": "stdout",
     "output_type": "stream",
     "text": [
      "Fitting 5 folds for each of 512 candidates, totalling 2560 fits\n"
     ]
    },
    {
     "data": {
      "text/plain": [
       "GridSearchCV(cv=5, estimator=RandomForestClassifier(random_state=43), n_jobs=-1,\n",
       "             param_grid={'criterion': ['gini', 'entropy'],\n",
       "                         'max_depth': [2, 3, 5, 10],\n",
       "                         'min_samples_leaf': [10, 20, 50, 100],\n",
       "                         'min_samples_split': [10, 12, 18, 20],\n",
       "                         'n_estimators': [10, 20, 30, 50]},\n",
       "             scoring='accuracy', verbose=True)"
      ]
     },
     "execution_count": 105,
     "metadata": {},
     "output_type": "execute_result"
    }
   ],
   "source": [
    "GS.fit(X_train, y_train)"
   ]
  },
  {
   "cell_type": "code",
   "execution_count": 106,
   "metadata": {},
   "outputs": [
    {
     "name": "stdout",
     "output_type": "stream",
     "text": [
      "Best Parameters: {'criterion': 'entropy', 'max_depth': 5, 'min_samples_leaf': 20, 'min_samples_split': 10, 'n_estimators': 50}\n",
      "\n",
      "Best Score: 0.9066666666666666\n"
     ]
    }
   ],
   "source": [
    "print('Best Parameters:',GS.best_params_,end='\\n\\n')\n",
    "print('Best Score:',GS.best_score_)"
   ]
  },
  {
   "cell_type": "code",
   "execution_count": 107,
   "metadata": {},
   "outputs": [],
   "source": [
    "GS_rf_classifier  = GS.best_estimator_"
   ]
  },
  {
   "cell_type": "markdown",
   "metadata": {},
   "source": [
    "## Train Data"
   ]
  },
  {
   "cell_type": "code",
   "execution_count": 108,
   "metadata": {},
   "outputs": [],
   "source": [
    "y_pred_train_rf_GS = GS_rf_classifier.predict(X_train)"
   ]
  },
  {
   "cell_type": "code",
   "execution_count": 109,
   "metadata": {},
   "outputs": [
    {
     "name": "stdout",
     "output_type": "stream",
     "text": [
      "Accuracy score: 0.91\n"
     ]
    }
   ],
   "source": [
    "accuracy = accuracy_score(y_train, y_pred_train_rf_GS) \n",
    "print(\"Accuracy score:\",accuracy)"
   ]
  },
  {
   "cell_type": "code",
   "execution_count": 110,
   "metadata": {},
   "outputs": [
    {
     "data": {
      "image/png": "[encoded data removed]",
      "text/plain": [
       "<Figure size 432x288 with 1 Axes>"
      ]
     },
     "metadata": {
      "needs_background": "light"
     },
     "output_type": "display_data"
    }
   ],
   "source": [
    "# Let us check how well our model is predicting 1's and 0's \n",
    "# plot_confusion_matrix(log_sklearn,X,y)\n",
    "sns.heatmap(confusion_matrix(y_train,y_pred_train_rf_GS),\n",
    "            annot=True,\n",
    "            fmt='d',\n",
    "            cbar=False,\n",
    "            cmap='magma')\n",
    "\n",
    "plt.xlabel(\"Predicted Label on test data\")\n",
    "plt.ylabel(\"Actual Label of test data\");"
   ]
  },
  {
   "cell_type": "code",
   "execution_count": 111,
   "metadata": {},
   "outputs": [
    {
     "name": "stdout",
     "output_type": "stream",
     "text": [
      "              precision    recall  f1-score   support\n",
      "\n",
      "           0       0.97      0.89      0.93       189\n",
      "           1       0.83      0.95      0.89       111\n",
      "\n",
      "    accuracy                           0.91       300\n",
      "   macro avg       0.90      0.92      0.91       300\n",
      "weighted avg       0.92      0.91      0.91       300\n",
      "\n"
     ]
    }
   ],
   "source": [
    "print(classification_report(y_train,y_pred_train_rf_GS))"
   ]
  },
  {
   "cell_type": "markdown",
   "metadata": {},
   "source": [
    "## Test Data"
   ]
  },
  {
   "cell_type": "code",
   "execution_count": 112,
   "metadata": {},
   "outputs": [],
   "source": [
    "# Step 6 - Predicting NB classifier model on x_test\n",
    "y_pred_test_rf_GS = GS_rf_classifier.predict(X_test)"
   ]
  },
  {
   "cell_type": "code",
   "execution_count": 113,
   "metadata": {},
   "outputs": [
    {
     "name": "stdout",
     "output_type": "stream",
     "text": [
      "Accuracy score: 0.94\n"
     ]
    }
   ],
   "source": [
    "accuracy = accuracy_score(y_test, y_pred_test_rf_GS) \n",
    "print(\"Accuracy score:\",accuracy)"
   ]
  },
  {
   "cell_type": "code",
   "execution_count": 114,
   "metadata": {},
   "outputs": [
    {
     "data": {
      "image/png": "[encoded data removed]",
      "text/plain": [
       "<Figure size 432x288 with 1 Axes>"
      ]
     },
     "metadata": {
      "needs_background": "light"
     },
     "output_type": "display_data"
    }
   ],
   "source": [
    "# Let us check how well our model is predicting 1's and 0's \n",
    "# plot_confusion_matrix(log_sklearn,X,y)\n",
    "sns.heatmap(confusion_matrix(y_test,y_pred_test_rf_GS),\n",
    "            annot=True,\n",
    "            fmt='d',\n",
    "            cbar=False,\n",
    "            cmap='magma')\n",
    "\n",
    "plt.xlabel(\"Predicted Label on test data\")\n",
    "plt.ylabel(\"Actual Label of test data\");"
   ]
  },
  {
   "cell_type": "code",
   "execution_count": 115,
   "metadata": {},
   "outputs": [
    {
     "name": "stdout",
     "output_type": "stream",
     "text": [
      "              precision    recall  f1-score   support\n",
      "\n",
      "           0       0.97      0.94      0.96        68\n",
      "           1       0.88      0.94      0.91        32\n",
      "\n",
      "    accuracy                           0.94       100\n",
      "   macro avg       0.93      0.94      0.93       100\n",
      "weighted avg       0.94      0.94      0.94       100\n",
      "\n"
     ]
    }
   ],
   "source": [
    "print(classification_report(y_test,y_pred_test_rf_GS))"
   ]
  },
  {
   "cell_type": "markdown",
   "metadata": {},
   "source": [
    "**Highest Accuray/F1 score along with Decision Tree model**\n",
    "\n",
    "**RF & DT > SVM & KNN > NB & Logistic Reg**"
   ]
  },
  {
   "cell_type": "markdown",
   "metadata": {
    "id": "SmN0HbK0u70c"
   },
   "source": [
    "### **Model Comparison**\n",
    "\n",
    "Note: Comparing the accuracy score of all the classifier models that we used above."
   ]
  },
  {
   "cell_type": "code",
   "execution_count": 116,
   "metadata": {
    "id": "olHCYAF4p5Oz"
   },
   "outputs": [],
   "source": [
    "# Step 9 - Compare classification algorithms\n",
    "from sklearn.model_selection import KFold\n",
    "from sklearn.model_selection import cross_val_score\n",
    "from sklearn.linear_model import LogisticRegression\n",
    "from sklearn.tree import DecisionTreeClassifier\n",
    "from sklearn.neighbors import KNeighborsClassifier\n",
    "from sklearn.ensemble import RandomForestClassifier\n",
    "from sklearn.naive_bayes import GaussianNB\n",
    "from sklearn.svm import SVC"
   ]
  },
  {
   "cell_type": "code",
   "execution_count": 117,
   "metadata": {
    "id": "5LeIg9oMqC-N"
   },
   "outputs": [],
   "source": [
    "classification_models = []\n",
    "classification_models.append(('Logistic Regression', LogisticRegression(solver=\"liblinear\")))\n",
    "classification_models.append(('K Nearest Neighbor', KNeighborsClassifier(n_neighbors=5, metric=\"minkowski\",p=2)))\n",
    "classification_models.append(('Kernel SVM', SVC(kernel = 'rbf',gamma='scale')))\n",
    "classification_models.append(('Naive Bayes', GaussianNB()))\n",
    "classification_models.append(('Decision Tree', DecisionTreeClassifier(criterion = \"entropy\")))\n",
    "classification_models.append(('Random Forest', RandomForestClassifier(n_estimators=100, criterion=\"entropy\")))"
   ]
  },
  {
   "cell_type": "code",
   "execution_count": 118,
   "metadata": {
    "id": "zMCO1i8DqJBC"
   },
   "outputs": [
    {
     "name": "stdout",
     "output_type": "stream",
     "text": [
      "Logistic Regression: Mean Accuracy = 64.25% - SD Accuracy = 8.14%\n",
      "K Nearest Neighbor: Mean Accuracy = 79.00% - SD Accuracy = 3.74%\n",
      "Kernel SVM: Mean Accuracy = 76.75% - SD Accuracy = 5.13%\n",
      "Naive Bayes: Mean Accuracy = 89.25% - SD Accuracy = 4.34%\n",
      "Decision Tree: Mean Accuracy = 86.00% - SD Accuracy = 6.44%\n",
      "Random Forest: Mean Accuracy = 89.75% - SD Accuracy = 4.67%\n"
     ]
    }
   ],
   "source": [
    "for name, model in classification_models:\n",
    "  kfold = KFold(n_splits=10, random_state=(7), shuffle=(True))\n",
    "  result = cross_val_score(model, X, y, cv=kfold, scoring='accuracy')\n",
    "  print(\"%s: Mean Accuracy = %.2f%% - SD Accuracy = %.2f%%\" % (name, result.mean()*100, result.std()*100))"
   ]
  },
  {
   "cell_type": "markdown",
   "metadata": {
    "id": "djHxWXPLEzVs"
   },
   "source": [
    "### **Conclusion**"
   ]
  },
  {
   "cell_type": "markdown",
   "metadata": {
    "id": "lCZVbbnDEsCT"
   },
   "source": [
    "From the results, we can see that KNN and Kernel SVM have done better than the others for this particular dataset. So, we will shortlist these two for this project. This is precisely the same result that we arrived at by independently applying each of those algorithms."
   ]
  },
  {
   "cell_type": "markdown",
   "metadata": {
    "id": "jjzXJkJ0YmsT"
   },
   "source": [
    "**Note: In this topic, we saw the use of the classification methods and in this lesson we have covered the concepts of supervised learning based on regression and classification, but in the next lesson we will be working on \"Decision Trees and Random Forest\".**"
   ]
  },
  {
   "cell_type": "markdown",
   "metadata": {
    "id": "ZlmPd32prmX-"
   },
   "source": [
    "![Simplilearn_Logo](https://labcontent.simplicdn.net/data-content/content-assets/Data_and_AI/Logo_Powered_By_Simplilearn/SL_Logo_1.png)"
   ]
  }
 ],
 "metadata": {
  "colab": {
   "collapsed_sections": [],
   "name": "3.04_Classification.ipynb",
   "private_outputs": true,
   "provenance": []
  },
  "kernelspec": {
   "display_name": "Python 3 (ipykernel)",
   "language": "python",
   "name": "python3"
  },
  "language_info": {
   "codemirror_mode": {
    "name": "ipython",
    "version": 3
   },
   "file_extension": ".py",
   "mimetype": "text/x-python",
   "name": "python",
   "nbconvert_exporter": "python",
   "pygments_lexer": "ipython3",
   "version": "3.9.7"
  }
 },
 "nbformat": 4,
 "nbformat_minor": 1
}
