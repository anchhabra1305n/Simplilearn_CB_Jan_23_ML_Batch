{
 "cells": [
  {
   "cell_type": "markdown",
   "metadata": {
    "id": "zeD8WGmObs_I"
   },
   "source": [
    "### <b>**Regression** </b>"
   ]
  },
  {
   "cell_type": "markdown",
   "metadata": {
    "id": "H9j_qmmEbzuy"
   },
   "source": [
    "### **Agenda**"
   ]
  },
  {
   "cell_type": "markdown",
   "metadata": {
    "id": "vOoy8vQqb-f9"
   },
   "source": [
    "In this lesson, we will cover the following concepts with the help of a business use case:\n",
    "* Use Case: Regression\n",
    "* Regression Algorithms\n",
    "* Types of Model Evaluation Metrics\n",
    "* Gradient Descent\n",
    "* Types of Gradient Descents\n",
    "* Use Case: Stochastic Gradient Descent (SGD)\n"
   ]
  },
  {
   "cell_type": "markdown",
   "metadata": {
    "id": "Po9OHdbTohLr"
   },
   "source": [
    "### **Use Case: Regression**\n",
    "\n",
    "Note: At first, with the help of a use case, we are going to perform all the basic steps to reach the model training and predicition part.\n",
    "  "
   ]
  },
  {
   "cell_type": "markdown",
   "metadata": {
    "id": "bQKjQddGolUL"
   },
   "source": [
    "#### <b> **Problem Statement:** </b>"
   ]
  },
  {
   "cell_type": "markdown",
   "metadata": {
    "id": "2nbWDeSHonx7"
   },
   "source": [
    "Google Play Store team is about to launch a new feature wherein, certain apps that are promising are boosted in visibility. The boost will manifest in multiple ways including higher priority in recommendations sections (“Similar apps”, “You might also like”, “New and updated games”). These will also get a boost in search results visibility.  This feature will help bring more attention to newer apps that have the potential."
   ]
  },
  {
   "cell_type": "markdown",
   "metadata": {
    "id": "-JlzR6UYbmkg"
   },
   "source": [
    "#### <b> **Analysis to be done:** </b>\n",
    "\n",
    "The problem is to identify the apps that are going to be good for Google to promote. App ratings, which are provided by the customers, are always great indicators of the goodness of the app. The problem reduces to: predict which apps will have high ratings."
   ]
  },
  {
   "cell_type": "markdown",
   "metadata": {
    "id": "oNYZuDx9op8z"
   },
   "source": [
    "#### <b>**Dataset**</b>"
   ]
  },
  {
   "cell_type": "markdown",
   "metadata": {
    "id": "8ExUfIJNotUZ"
   },
   "source": [
    "Google Play Store data (**googleplaystore.csv**)\n",
    "\n",
    "Link: https://www.dropbox.com/sh/i06ohrau3ucfgbm/AACeYXumL56543KnDNQFlj8ma?dl=0\n"
   ]
  },
  {
   "cell_type": "markdown",
   "metadata": {
    "id": "iMeGdaAwotkY"
   },
   "source": [
    "#### <b> **Data Dictionary:**</b>"
   ]
  },
  {
   "cell_type": "markdown",
   "metadata": {
    "id": "4YUU25rPowJf"
   },
   "source": [
    "|Variables|Description|\n",
    "|:-|:-|\n",
    "|App| Application name|\n",
    "|Category|Category to which the app belongs|\n",
    "|Rating|Overall user rating of the app|\n",
    "|Reviews|Number of user reviews for the app|\n",
    "|Size|Size of the app|\n",
    "|Installs|Number of user downloads/installs for the app|\n",
    "|Type|Paid or Free|\n",
    "|Price|Price of the app|\n",
    "|Content Rating|Age group the app is targeted at - Children / Mature 21+ / Adult|\n",
    "|Genres|An app can belong to multiple genres (apart from its main category)<br>For example, a musical family game will belong to Music, Game, Family genres|\n",
    "|Last Updated|Date when the app was last updated on Play Store|\n",
    "|Current Ver|Current version of the app available on Play Store|\n",
    "|Android Ver|Minimum required Android version|"
   ]
  },
  {
   "cell_type": "markdown",
   "metadata": {
    "id": "Kr90ro50ozGI"
   },
   "source": [
    "#### <b> **Solution:**</b>"
   ]
  },
  {
   "cell_type": "markdown",
   "metadata": {
    "id": "W14jX_v34LoZ"
   },
   "source": [
    "#### <b> **Import Libraries**</b>"
   ]
  },
  {
   "cell_type": "code",
   "execution_count": 1,
   "metadata": {
    "id": "6MAzISPa4L97"
   },
   "outputs": [],
   "source": [
    "#Importing libraries\n",
    "import pandas as pd\n",
    "import numpy as np\n",
    "import matplotlib.pyplot as plt, seaborn as sns\n",
    "%matplotlib inline"
   ]
  },
  {
   "cell_type": "markdown",
   "metadata": {
    "id": "kTrPpBFR4YZm"
   },
   "source": [
    "#### <b> **Import and Check Dataset**</b>"
   ]
  },
  {
   "cell_type": "code",
   "execution_count": 2,
   "metadata": {
    "id": "kcE49r1x4fL8"
   },
   "outputs": [],
   "source": [
    "inp0 = pd.read_csv(\"./googleplaystore.csv\")"
   ]
  },
  {
   "cell_type": "code",
   "execution_count": 3,
   "metadata": {
    "id": "4Aq-fRZv4fg5"
   },
   "outputs": [
    {
     "data": {
      "text/html": [
       "<div>\n",
       "<style scoped>\n",
       "    .dataframe tbody tr th:only-of-type {\n",
       "        vertical-align: middle;\n",
       "    }\n",
       "\n",
       "    .dataframe tbody tr th {\n",
       "        vertical-align: top;\n",
       "    }\n",
       "\n",
       "    .dataframe thead th {\n",
       "        text-align: right;\n",
       "    }\n",
       "</style>\n",
       "<table border=\"1\" class=\"dataframe\">\n",
       "  <thead>\n",
       "    <tr style=\"text-align: right;\">\n",
       "      <th></th>\n",
       "      <th>App</th>\n",
       "      <th>Category</th>\n",
       "      <th>Rating</th>\n",
       "      <th>Reviews</th>\n",
       "      <th>Size</th>\n",
       "      <th>Installs</th>\n",
       "      <th>Type</th>\n",
       "      <th>Price</th>\n",
       "      <th>Content_Rating</th>\n",
       "      <th>Genres</th>\n",
       "      <th>Last Updated</th>\n",
       "      <th>Current Ver</th>\n",
       "      <th>Android Ver</th>\n",
       "    </tr>\n",
       "  </thead>\n",
       "  <tbody>\n",
       "    <tr>\n",
       "      <th>0</th>\n",
       "      <td>Photo Editor &amp; Candy Camera &amp; Grid &amp; ScrapBook</td>\n",
       "      <td>ART_AND_DESIGN</td>\n",
       "      <td>4.1</td>\n",
       "      <td>159</td>\n",
       "      <td>19M</td>\n",
       "      <td>10,000+</td>\n",
       "      <td>Free</td>\n",
       "      <td>0</td>\n",
       "      <td>Everyone</td>\n",
       "      <td>Art_&amp;_Design</td>\n",
       "      <td>January 7, 2018</td>\n",
       "      <td>1.0.0</td>\n",
       "      <td>4.0.3 and up</td>\n",
       "    </tr>\n",
       "    <tr>\n",
       "      <th>1</th>\n",
       "      <td>Coloring book moana</td>\n",
       "      <td>ART_AND_DESIGN</td>\n",
       "      <td>3.9</td>\n",
       "      <td>967</td>\n",
       "      <td>14M</td>\n",
       "      <td>500,000+</td>\n",
       "      <td>Free</td>\n",
       "      <td>0</td>\n",
       "      <td>Everyone</td>\n",
       "      <td>Art_&amp;_Design_Pretend_Play</td>\n",
       "      <td>January 15, 2018</td>\n",
       "      <td>2.0.0</td>\n",
       "      <td>4.0.3 and up</td>\n",
       "    </tr>\n",
       "  </tbody>\n",
       "</table>\n",
       "</div>"
      ],
      "text/plain": [
       "                                              App        Category  Rating  \\\n",
       "0  Photo Editor & Candy Camera & Grid & ScrapBook  ART_AND_DESIGN     4.1   \n",
       "1                             Coloring book moana  ART_AND_DESIGN     3.9   \n",
       "\n",
       "  Reviews Size  Installs  Type Price Content_Rating  \\\n",
       "0     159  19M   10,000+  Free     0       Everyone   \n",
       "1     967  14M  500,000+  Free     0       Everyone   \n",
       "\n",
       "                      Genres      Last Updated Current Ver   Android Ver  \n",
       "0               Art_&_Design   January 7, 2018       1.0.0  4.0.3 and up  \n",
       "1  Art_&_Design_Pretend_Play  January 15, 2018       2.0.0  4.0.3 and up  "
      ]
     },
     "execution_count": 3,
     "metadata": {},
     "output_type": "execute_result"
    }
   ],
   "source": [
    "# Check first five rows\n",
    "inp0.head(2)"
   ]
  },
  {
   "cell_type": "markdown",
   "metadata": {
    "id": "xW16LHo8z8ii"
   },
   "source": [
    "#### <b> Observations </b>\n",
    "The data will be displayed on the screen."
   ]
  },
  {
   "cell_type": "code",
   "execution_count": 4,
   "metadata": {
    "id": "lHP7mep35QZl"
   },
   "outputs": [
    {
     "name": "stdout",
     "output_type": "stream",
     "text": [
      "<class 'pandas.core.frame.DataFrame'>\n",
      "RangeIndex: 10841 entries, 0 to 10840\n",
      "Data columns (total 13 columns):\n",
      " #   Column          Non-Null Count  Dtype  \n",
      "---  ------          --------------  -----  \n",
      " 0   App             10841 non-null  object \n",
      " 1   Category        10841 non-null  object \n",
      " 2   Rating          9367 non-null   float64\n",
      " 3   Reviews         10841 non-null  object \n",
      " 4   Size            10841 non-null  object \n",
      " 5   Installs        10841 non-null  object \n",
      " 6   Type            10840 non-null  object \n",
      " 7   Price           10841 non-null  object \n",
      " 8   Content_Rating  10840 non-null  object \n",
      " 9   Genres          10841 non-null  object \n",
      " 10  Last Updated    10841 non-null  object \n",
      " 11  Current Ver     10833 non-null  object \n",
      " 12  Android Ver     10838 non-null  object \n",
      "dtypes: float64(1), object(12)\n",
      "memory usage: 1.1+ MB\n"
     ]
    }
   ],
   "source": [
    "#Check number of columns and rows, and data types\n",
    "inp0.info()"
   ]
  },
  {
   "cell_type": "markdown",
   "metadata": {
    "id": "2Kh77c_4iYZe"
   },
   "source": [
    "#### <b> **Check Data Types**</b>"
   ]
  },
  {
   "cell_type": "code",
   "execution_count": 5,
   "metadata": {
    "id": "GQ9Xdj6NiYZf"
   },
   "outputs": [
    {
     "data": {
      "text/plain": [
       "App                object\n",
       "Category           object\n",
       "Rating            float64\n",
       "Reviews            object\n",
       "Size               object\n",
       "Installs           object\n",
       "Type               object\n",
       "Price              object\n",
       "Content_Rating     object\n",
       "Genres             object\n",
       "Last Updated       object\n",
       "Current Ver        object\n",
       "Android Ver        object\n",
       "dtype: object"
      ]
     },
     "execution_count": 5,
     "metadata": {},
     "output_type": "execute_result"
    }
   ],
   "source": [
    "#checking datatypes\n",
    "inp0.dtypes"
   ]
  },
  {
   "cell_type": "markdown",
   "metadata": {
    "id": "RdC9Cp5A59Zs"
   },
   "source": [
    "#### <b> **Finding and Treating Null Values**</b>"
   ]
  },
  {
   "cell_type": "code",
   "execution_count": 6,
   "metadata": {
    "id": "PUPGM_kN5S5P"
   },
   "outputs": [
    {
     "data": {
      "text/plain": [
       "App                  0\n",
       "Category             0\n",
       "Rating            1474\n",
       "Reviews              0\n",
       "Size                 0\n",
       "Installs             0\n",
       "Type                 1\n",
       "Price                0\n",
       "Content_Rating       1\n",
       "Genres               0\n",
       "Last Updated         0\n",
       "Current Ver          8\n",
       "Android Ver          3\n",
       "dtype: int64"
      ]
     },
     "execution_count": 6,
     "metadata": {},
     "output_type": "execute_result"
    }
   ],
   "source": [
    "#Finding count of null values\n",
    "inp0.isnull().sum(axis=0)"
   ]
  },
  {
   "cell_type": "code",
   "execution_count": 7,
   "metadata": {
    "id": "x63VpabT6DPm"
   },
   "outputs": [],
   "source": [
    "#Dropping the records with null ratings\n",
    "#This is done because ratings is our target variable\n",
    "inp0.dropna(how ='any', inplace = True)"
   ]
  },
  {
   "cell_type": "code",
   "execution_count": 8,
   "metadata": {
    "id": "x8J8PBEd6aOG"
   },
   "outputs": [
    {
     "data": {
      "text/plain": [
       "App               0\n",
       "Category          0\n",
       "Rating            0\n",
       "Reviews           0\n",
       "Size              0\n",
       "Installs          0\n",
       "Type              0\n",
       "Price             0\n",
       "Content_Rating    0\n",
       "Genres            0\n",
       "Last Updated      0\n",
       "Current Ver       0\n",
       "Android Ver       0\n",
       "dtype: int64"
      ]
     },
     "execution_count": 8,
     "metadata": {},
     "output_type": "execute_result"
    }
   ],
   "source": [
    "inp0.isnull().sum(axis=0)"
   ]
  },
  {
   "cell_type": "markdown",
   "metadata": {
    "id": "bWju26fEULXA"
   },
   "source": [
    "#### <b> Handling the Variables </b>"
   ]
  },
  {
   "cell_type": "markdown",
   "metadata": {
    "id": "UWKyYsF7iYZj"
   },
   "source": [
    "**1. Clean the price column**"
   ]
  },
  {
   "cell_type": "code",
   "execution_count": 9,
   "metadata": {
    "id": "z0Km-RkWiYZk"
   },
   "outputs": [
    {
     "data": {
      "text/plain": [
       "0        8715\n",
       "$2.99     114\n",
       "$0.99     106\n",
       "$4.99      70\n",
       "$1.99      59\n",
       "Name: Price, dtype: int64"
      ]
     },
     "execution_count": 9,
     "metadata": {},
     "output_type": "execute_result"
    }
   ],
   "source": [
    "#Cleaning the price column\n",
    "inp0.Price.value_counts()[:5]"
   ]
  },
  {
   "cell_type": "markdown",
   "metadata": {
    "id": "GsFTB2GkiYZm"
   },
   "source": [
    "#### <b> Observations </b>\n",
    "Some have dollars, some have 0\n",
    "* We need to conditionally handle this.\n",
    "* First, let's modify the column to take 0 if value is 0, else take the first letter onwards."
   ]
  },
  {
   "cell_type": "code",
   "execution_count": 10,
   "metadata": {
    "id": "39s073WbiYZm"
   },
   "outputs": [],
   "source": [
    "#Modifying the column\n",
    "inp0['Price'] = inp0.Price.map(lambda x: 0 if x=='0' else float(x[1:]))"
   ]
  },
  {
   "cell_type": "code",
   "execution_count": 11,
   "metadata": {},
   "outputs": [
    {
     "data": {
      "text/html": [
       "<div>\n",
       "<style scoped>\n",
       "    .dataframe tbody tr th:only-of-type {\n",
       "        vertical-align: middle;\n",
       "    }\n",
       "\n",
       "    .dataframe tbody tr th {\n",
       "        vertical-align: top;\n",
       "    }\n",
       "\n",
       "    .dataframe thead th {\n",
       "        text-align: right;\n",
       "    }\n",
       "</style>\n",
       "<table border=\"1\" class=\"dataframe\">\n",
       "  <thead>\n",
       "    <tr style=\"text-align: right;\">\n",
       "      <th></th>\n",
       "      <th>App</th>\n",
       "      <th>Category</th>\n",
       "      <th>Rating</th>\n",
       "      <th>Reviews</th>\n",
       "      <th>Size</th>\n",
       "      <th>Installs</th>\n",
       "      <th>Type</th>\n",
       "      <th>Price</th>\n",
       "      <th>Content_Rating</th>\n",
       "      <th>Genres</th>\n",
       "      <th>Last Updated</th>\n",
       "      <th>Current Ver</th>\n",
       "      <th>Android Ver</th>\n",
       "    </tr>\n",
       "  </thead>\n",
       "  <tbody>\n",
       "    <tr>\n",
       "      <th>0</th>\n",
       "      <td>Photo Editor &amp; Candy Camera &amp; Grid &amp; ScrapBook</td>\n",
       "      <td>ART_AND_DESIGN</td>\n",
       "      <td>4.1</td>\n",
       "      <td>159</td>\n",
       "      <td>19M</td>\n",
       "      <td>10,000+</td>\n",
       "      <td>Free</td>\n",
       "      <td>0.0</td>\n",
       "      <td>Everyone</td>\n",
       "      <td>Art_&amp;_Design</td>\n",
       "      <td>January 7, 2018</td>\n",
       "      <td>1.0.0</td>\n",
       "      <td>4.0.3 and up</td>\n",
       "    </tr>\n",
       "    <tr>\n",
       "      <th>1</th>\n",
       "      <td>Coloring book moana</td>\n",
       "      <td>ART_AND_DESIGN</td>\n",
       "      <td>3.9</td>\n",
       "      <td>967</td>\n",
       "      <td>14M</td>\n",
       "      <td>500,000+</td>\n",
       "      <td>Free</td>\n",
       "      <td>0.0</td>\n",
       "      <td>Everyone</td>\n",
       "      <td>Art_&amp;_Design_Pretend_Play</td>\n",
       "      <td>January 15, 2018</td>\n",
       "      <td>2.0.0</td>\n",
       "      <td>4.0.3 and up</td>\n",
       "    </tr>\n",
       "  </tbody>\n",
       "</table>\n",
       "</div>"
      ],
      "text/plain": [
       "                                              App        Category  Rating  \\\n",
       "0  Photo Editor & Candy Camera & Grid & ScrapBook  ART_AND_DESIGN     4.1   \n",
       "1                             Coloring book moana  ART_AND_DESIGN     3.9   \n",
       "\n",
       "  Reviews Size  Installs  Type  Price Content_Rating  \\\n",
       "0     159  19M   10,000+  Free    0.0       Everyone   \n",
       "1     967  14M  500,000+  Free    0.0       Everyone   \n",
       "\n",
       "                      Genres      Last Updated Current Ver   Android Ver  \n",
       "0               Art_&_Design   January 7, 2018       1.0.0  4.0.3 and up  \n",
       "1  Art_&_Design_Pretend_Play  January 15, 2018       2.0.0  4.0.3 and up  "
      ]
     },
     "execution_count": 11,
     "metadata": {},
     "output_type": "execute_result"
    }
   ],
   "source": [
    "inp0.head(2)"
   ]
  },
  {
   "cell_type": "markdown",
   "metadata": {
    "id": "jA16xDwviYZp"
   },
   "source": [
    "**The other columns with numeric data are:<br>**\n",
    "1. Reviews\n",
    "2. Installs\n",
    "3. Size"
   ]
  },
  {
   "cell_type": "markdown",
   "metadata": {
    "id": "OeoT3_56iYZp"
   },
   "source": [
    "**2. Convert reviews to numeric**"
   ]
  },
  {
   "cell_type": "code",
   "execution_count": 12,
   "metadata": {
    "id": "UK1BOY4iiYZp"
   },
   "outputs": [],
   "source": [
    "#Converting reviews to numeric\n",
    "inp0.Reviews = inp0.Reviews.astype(\"int32\")"
   ]
  },
  {
   "cell_type": "code",
   "execution_count": 13,
   "metadata": {
    "id": "oyFJKcmniYZr"
   },
   "outputs": [
    {
     "data": {
      "text/plain": [
       "count    9.360000e+03\n",
       "mean     5.143767e+05\n",
       "std      3.145023e+06\n",
       "min      1.000000e+00\n",
       "25%      1.867500e+02\n",
       "50%      5.955000e+03\n",
       "75%      8.162750e+04\n",
       "max      7.815831e+07\n",
       "Name: Reviews, dtype: float64"
      ]
     },
     "execution_count": 13,
     "metadata": {},
     "output_type": "execute_result"
    }
   ],
   "source": [
    "inp0.Reviews.describe()"
   ]
  },
  {
   "cell_type": "markdown",
   "metadata": {
    "id": "ai6T8UdaiYZu"
   },
   "source": [
    "**3. Handle the installs column**"
   ]
  },
  {
   "cell_type": "code",
   "execution_count": 14,
   "metadata": {
    "id": "DE_b23nRiYZu"
   },
   "outputs": [
    {
     "data": {
      "text/plain": [
       "1,000,000+        1576\n",
       "10,000,000+       1252\n",
       "100,000+          1150\n",
       "10,000+           1009\n",
       "5,000,000+         752\n",
       "1,000+             712\n",
       "500,000+           537\n",
       "50,000+            466\n",
       "5,000+             431\n",
       "100,000,000+       409\n",
       "100+               309\n",
       "50,000,000+        289\n",
       "500+               201\n",
       "500,000,000+        72\n",
       "10+                 69\n",
       "1,000,000,000+      58\n",
       "50+                 56\n",
       "5+                   9\n",
       "1+                   3\n",
       "Name: Installs, dtype: int64"
      ]
     },
     "execution_count": 14,
     "metadata": {},
     "output_type": "execute_result"
    }
   ],
   "source": [
    "#Handling the installs column\n",
    "inp0.Installs.value_counts()"
   ]
  },
  {
   "cell_type": "markdown",
   "metadata": {
    "id": "2xTkBcWtiYZw"
   },
   "source": [
    "We'll need to remove the commas and the plus signs."
   ]
  },
  {
   "cell_type": "markdown",
   "metadata": {
    "id": "y8SDpiyAiYZw"
   },
   "source": [
    "<b> Defining function for the same </b>"
   ]
  },
  {
   "cell_type": "code",
   "execution_count": 15,
   "metadata": {
    "id": "ILohI9zHiYZx"
   },
   "outputs": [],
   "source": [
    "def clean_installs(val):\n",
    "    return int(val.replace(\",\",\"\").replace(\"+\",\"\"))"
   ]
  },
  {
   "cell_type": "code",
   "execution_count": 16,
   "metadata": {
    "id": "j4B6bJfFiYZz"
   },
   "outputs": [],
   "source": [
    "inp0.Installs = inp0.Installs.map(clean_installs)"
   ]
  },
  {
   "cell_type": "code",
   "execution_count": 17,
   "metadata": {
    "id": "X_mgD2ONiYZ1"
   },
   "outputs": [
    {
     "data": {
      "text/plain": [
       "count    9.360000e+03\n",
       "mean     1.790875e+07\n",
       "std      9.126637e+07\n",
       "min      1.000000e+00\n",
       "25%      1.000000e+04\n",
       "50%      5.000000e+05\n",
       "75%      5.000000e+06\n",
       "max      1.000000e+09\n",
       "Name: Installs, dtype: float64"
      ]
     },
     "execution_count": 17,
     "metadata": {},
     "output_type": "execute_result"
    }
   ],
   "source": [
    "inp0.Installs.describe()"
   ]
  },
  {
   "cell_type": "code",
   "execution_count": 18,
   "metadata": {},
   "outputs": [
    {
     "data": {
      "text/plain": [
       "1000000       1576\n",
       "10000000      1252\n",
       "100000        1150\n",
       "10000         1009\n",
       "5000000        752\n",
       "1000           712\n",
       "500000         537\n",
       "50000          466\n",
       "5000           431\n",
       "100000000      409\n",
       "100            309\n",
       "50000000       289\n",
       "500            201\n",
       "500000000       72\n",
       "10              69\n",
       "1000000000      58\n",
       "50              56\n",
       "5                9\n",
       "1                3\n",
       "Name: Installs, dtype: int64"
      ]
     },
     "execution_count": 18,
     "metadata": {},
     "output_type": "execute_result"
    }
   ],
   "source": [
    "inp0.Installs.value_counts()"
   ]
  },
  {
   "cell_type": "markdown",
   "metadata": {
    "id": "J1lIXPfviYZ3"
   },
   "source": [
    "**4. Handle the app size field**"
   ]
  },
  {
   "cell_type": "code",
   "execution_count": 19,
   "metadata": {},
   "outputs": [
    {
     "data": {
      "text/plain": [
       "Varies with device    1637\n",
       "14M                    165\n",
       "12M                    161\n",
       "15M                    159\n",
       "11M                    159\n",
       "                      ... \n",
       "383k                     1\n",
       "454k                     1\n",
       "812k                     1\n",
       "442k                     1\n",
       "619k                     1\n",
       "Name: Size, Length: 413, dtype: int64"
      ]
     },
     "execution_count": 19,
     "metadata": {},
     "output_type": "execute_result"
    }
   ],
   "source": [
    "inp0[\"Size\"].value_counts()"
   ]
  },
  {
   "cell_type": "code",
   "execution_count": 20,
   "metadata": {
    "id": "lENw90neiYZ4"
   },
   "outputs": [],
   "source": [
    "#Handling the app size field\n",
    "def change_size(size):\n",
    "    if 'M' in size:\n",
    "        x = size[:-1]\n",
    "        x = float(x)*1000\n",
    "        return(x)\n",
    "    elif 'k' == size[-1:]:\n",
    "        x = size[:-1]\n",
    "        x = float(x)\n",
    "        return(x)\n",
    "    else:\n",
    "        return None"
   ]
  },
  {
   "cell_type": "code",
   "execution_count": 21,
   "metadata": {
    "id": "eG9fjJn8iYZ6"
   },
   "outputs": [],
   "source": [
    "inp0[\"Size\"] = inp0[\"Size\"].map(change_size)"
   ]
  },
  {
   "cell_type": "code",
   "execution_count": 22,
   "metadata": {
    "id": "232kUvlliYZ8"
   },
   "outputs": [
    {
     "data": {
      "text/plain": [
       "count      7723.000000\n",
       "mean      22970.456105\n",
       "std       23449.628935\n",
       "min           8.500000\n",
       "25%        5300.000000\n",
       "50%       14000.000000\n",
       "75%       33000.000000\n",
       "max      100000.000000\n",
       "Name: Size, dtype: float64"
      ]
     },
     "execution_count": 22,
     "metadata": {},
     "output_type": "execute_result"
    }
   ],
   "source": [
    "inp0.Size.describe()"
   ]
  },
  {
   "cell_type": "code",
   "execution_count": 23,
   "metadata": {},
   "outputs": [
    {
     "data": {
      "text/plain": [
       "14000.0    165\n",
       "12000.0    161\n",
       "15000.0    159\n",
       "11000.0    159\n",
       "13000.0    157\n",
       "          ... \n",
       "383.0        1\n",
       "454.0        1\n",
       "812.0        1\n",
       "442.0        1\n",
       "619.0        1\n",
       "Name: Size, Length: 411, dtype: int64"
      ]
     },
     "execution_count": 23,
     "metadata": {},
     "output_type": "execute_result"
    }
   ],
   "source": [
    "inp0[\"Size\"].value_counts()"
   ]
  },
  {
   "cell_type": "code",
   "execution_count": 24,
   "metadata": {
    "id": "BMJQPESkiYZ-"
   },
   "outputs": [],
   "source": [
    "#Filling Size which had NA\n",
    "inp0.Size.fillna(method = 'ffill', inplace = True)"
   ]
  },
  {
   "cell_type": "code",
   "execution_count": 25,
   "metadata": {
    "id": "GNUrivb0iYaA"
   },
   "outputs": [
    {
     "data": {
      "text/plain": [
       "App                object\n",
       "Category           object\n",
       "Rating            float64\n",
       "Reviews             int32\n",
       "Size              float64\n",
       "Installs            int64\n",
       "Type               object\n",
       "Price             float64\n",
       "Content_Rating     object\n",
       "Genres             object\n",
       "Last Updated       object\n",
       "Current Ver        object\n",
       "Android Ver        object\n",
       "dtype: object"
      ]
     },
     "execution_count": 25,
     "metadata": {},
     "output_type": "execute_result"
    }
   ],
   "source": [
    "#Checking datatypes\n",
    "inp0.dtypes"
   ]
  },
  {
   "cell_type": "markdown",
   "metadata": {
    "id": "yF-L5Vs-iYaC"
   },
   "source": [
    "#### **Sanity checks**"
   ]
  },
  {
   "cell_type": "markdown",
   "metadata": {
    "id": "sRUvEtMpiYaD"
   },
   "source": [
    "1. Average rating should be between 1 and 5, as only these values are allowed on Play Store. Drop any rows that have a value outside this range."
   ]
  },
  {
   "cell_type": "code",
   "execution_count": 26,
   "metadata": {
    "id": "wWqz6ARViYaD",
    "scrolled": true
   },
   "outputs": [
    {
     "data": {
      "text/plain": [
       "count    9360.000000\n",
       "mean        4.191838\n",
       "std         0.515263\n",
       "min         1.000000\n",
       "25%         4.000000\n",
       "50%         4.300000\n",
       "75%         4.500000\n",
       "max         5.000000\n",
       "Name: Rating, dtype: float64"
      ]
     },
     "execution_count": 26,
     "metadata": {},
     "output_type": "execute_result"
    }
   ],
   "source": [
    "#Checking the rating\n",
    "inp0.Rating.describe()"
   ]
  },
  {
   "cell_type": "markdown",
   "metadata": {
    "id": "6Ze0cfTyZgB4"
   },
   "source": [
    "#### <b> Observations </b>"
   ]
  },
  {
   "cell_type": "markdown",
   "metadata": {
    "id": "HNY_wVsziYaF"
   },
   "source": [
    "Min is 1 and max is 5. None of the values have rating outside the range."
   ]
  },
  {
   "cell_type": "markdown",
   "metadata": {
    "id": "L2o5-NgkiYaG"
   },
   "source": [
    "2. Reviews should not be more than installs as only those who installed can review the app."
   ]
  },
  {
   "cell_type": "markdown",
   "metadata": {
    "id": "Q6qjc2SciYaG"
   },
   "source": [
    "Checking if reviews are more than installs. Counting total rows like this."
   ]
  },
  {
   "cell_type": "code",
   "execution_count": 27,
   "metadata": {
    "id": "pCCYfKDfiYaG"
   },
   "outputs": [
    {
     "data": {
      "text/plain": [
       "7"
      ]
     },
     "execution_count": 27,
     "metadata": {},
     "output_type": "execute_result"
    }
   ],
   "source": [
    "#Checking and counting the rows\n",
    "len(inp0[inp0.Reviews > inp0.Installs])"
   ]
  },
  {
   "cell_type": "code",
   "execution_count": 28,
   "metadata": {
    "id": "trhR-Sq-iYaJ"
   },
   "outputs": [
    {
     "data": {
      "text/html": [
       "<div>\n",
       "<style scoped>\n",
       "    .dataframe tbody tr th:only-of-type {\n",
       "        vertical-align: middle;\n",
       "    }\n",
       "\n",
       "    .dataframe tbody tr th {\n",
       "        vertical-align: top;\n",
       "    }\n",
       "\n",
       "    .dataframe thead th {\n",
       "        text-align: right;\n",
       "    }\n",
       "</style>\n",
       "<table border=\"1\" class=\"dataframe\">\n",
       "  <thead>\n",
       "    <tr style=\"text-align: right;\">\n",
       "      <th></th>\n",
       "      <th>App</th>\n",
       "      <th>Category</th>\n",
       "      <th>Rating</th>\n",
       "      <th>Reviews</th>\n",
       "      <th>Size</th>\n",
       "      <th>Installs</th>\n",
       "      <th>Type</th>\n",
       "      <th>Price</th>\n",
       "      <th>Content_Rating</th>\n",
       "      <th>Genres</th>\n",
       "      <th>Last Updated</th>\n",
       "      <th>Current Ver</th>\n",
       "      <th>Android Ver</th>\n",
       "    </tr>\n",
       "  </thead>\n",
       "  <tbody>\n",
       "    <tr>\n",
       "      <th>2454</th>\n",
       "      <td>KBA-EZ Health Guide</td>\n",
       "      <td>MEDICAL</td>\n",
       "      <td>5.0</td>\n",
       "      <td>4</td>\n",
       "      <td>25000.0</td>\n",
       "      <td>1</td>\n",
       "      <td>Free</td>\n",
       "      <td>0.00</td>\n",
       "      <td>Everyone</td>\n",
       "      <td>Medical</td>\n",
       "      <td>August 2, 2018</td>\n",
       "      <td>1.0.72</td>\n",
       "      <td>4.0.3 and up</td>\n",
       "    </tr>\n",
       "    <tr>\n",
       "      <th>4663</th>\n",
       "      <td>Alarmy (Sleep If U Can) - Pro</td>\n",
       "      <td>LIFESTYLE</td>\n",
       "      <td>4.8</td>\n",
       "      <td>10249</td>\n",
       "      <td>30000.0</td>\n",
       "      <td>10000</td>\n",
       "      <td>Paid</td>\n",
       "      <td>2.49</td>\n",
       "      <td>Everyone</td>\n",
       "      <td>Lifestyle</td>\n",
       "      <td>July 30, 2018</td>\n",
       "      <td>Varies with device</td>\n",
       "      <td>Varies with device</td>\n",
       "    </tr>\n",
       "    <tr>\n",
       "      <th>5917</th>\n",
       "      <td>Ra Ga Ba</td>\n",
       "      <td>GAME</td>\n",
       "      <td>5.0</td>\n",
       "      <td>2</td>\n",
       "      <td>20000.0</td>\n",
       "      <td>1</td>\n",
       "      <td>Paid</td>\n",
       "      <td>1.49</td>\n",
       "      <td>Everyone</td>\n",
       "      <td>Arcade</td>\n",
       "      <td>February 8, 2017</td>\n",
       "      <td>1.0.4</td>\n",
       "      <td>2.3 and up</td>\n",
       "    </tr>\n",
       "    <tr>\n",
       "      <th>6700</th>\n",
       "      <td>Brick Breaker BR</td>\n",
       "      <td>GAME</td>\n",
       "      <td>5.0</td>\n",
       "      <td>7</td>\n",
       "      <td>19000.0</td>\n",
       "      <td>5</td>\n",
       "      <td>Free</td>\n",
       "      <td>0.00</td>\n",
       "      <td>Everyone</td>\n",
       "      <td>Arcade</td>\n",
       "      <td>July 23, 2018</td>\n",
       "      <td>1</td>\n",
       "      <td>4.1 and up</td>\n",
       "    </tr>\n",
       "    <tr>\n",
       "      <th>7402</th>\n",
       "      <td>Trovami se ci riesci</td>\n",
       "      <td>GAME</td>\n",
       "      <td>5.0</td>\n",
       "      <td>11</td>\n",
       "      <td>6100.0</td>\n",
       "      <td>10</td>\n",
       "      <td>Free</td>\n",
       "      <td>0.00</td>\n",
       "      <td>Everyone</td>\n",
       "      <td>Arcade</td>\n",
       "      <td>March 11, 2017</td>\n",
       "      <td>0.1</td>\n",
       "      <td>2.3 and up</td>\n",
       "    </tr>\n",
       "    <tr>\n",
       "      <th>8591</th>\n",
       "      <td>DN Blog</td>\n",
       "      <td>SOCIAL</td>\n",
       "      <td>5.0</td>\n",
       "      <td>20</td>\n",
       "      <td>4200.0</td>\n",
       "      <td>10</td>\n",
       "      <td>Free</td>\n",
       "      <td>0.00</td>\n",
       "      <td>Teen</td>\n",
       "      <td>Social</td>\n",
       "      <td>July 23, 2018</td>\n",
       "      <td>1</td>\n",
       "      <td>4.0 and up</td>\n",
       "    </tr>\n",
       "    <tr>\n",
       "      <th>10697</th>\n",
       "      <td>Mu.F.O.</td>\n",
       "      <td>GAME</td>\n",
       "      <td>5.0</td>\n",
       "      <td>2</td>\n",
       "      <td>16000.0</td>\n",
       "      <td>1</td>\n",
       "      <td>Paid</td>\n",
       "      <td>0.99</td>\n",
       "      <td>Everyone</td>\n",
       "      <td>Arcade</td>\n",
       "      <td>March 3, 2017</td>\n",
       "      <td>1</td>\n",
       "      <td>2.3 and up</td>\n",
       "    </tr>\n",
       "  </tbody>\n",
       "</table>\n",
       "</div>"
      ],
      "text/plain": [
       "                                 App   Category  Rating  Reviews     Size  \\\n",
       "2454             KBA-EZ Health Guide    MEDICAL     5.0        4  25000.0   \n",
       "4663   Alarmy (Sleep If U Can) - Pro  LIFESTYLE     4.8    10249  30000.0   \n",
       "5917                        Ra Ga Ba       GAME     5.0        2  20000.0   \n",
       "6700                Brick Breaker BR       GAME     5.0        7  19000.0   \n",
       "7402            Trovami se ci riesci       GAME     5.0       11   6100.0   \n",
       "8591                         DN Blog     SOCIAL     5.0       20   4200.0   \n",
       "10697                        Mu.F.O.       GAME     5.0        2  16000.0   \n",
       "\n",
       "       Installs  Type  Price Content_Rating     Genres      Last Updated  \\\n",
       "2454          1  Free   0.00       Everyone    Medical    August 2, 2018   \n",
       "4663      10000  Paid   2.49       Everyone  Lifestyle     July 30, 2018   \n",
       "5917          1  Paid   1.49       Everyone     Arcade  February 8, 2017   \n",
       "6700          5  Free   0.00       Everyone     Arcade     July 23, 2018   \n",
       "7402         10  Free   0.00       Everyone     Arcade    March 11, 2017   \n",
       "8591         10  Free   0.00           Teen     Social     July 23, 2018   \n",
       "10697         1  Paid   0.99       Everyone     Arcade     March 3, 2017   \n",
       "\n",
       "              Current Ver         Android Ver  \n",
       "2454               1.0.72        4.0.3 and up  \n",
       "4663   Varies with device  Varies with device  \n",
       "5917                1.0.4          2.3 and up  \n",
       "6700                    1          4.1 and up  \n",
       "7402                  0.1          2.3 and up  \n",
       "8591                    1          4.0 and up  \n",
       "10697                   1          2.3 and up  "
      ]
     },
     "execution_count": 28,
     "metadata": {},
     "output_type": "execute_result"
    }
   ],
   "source": [
    "inp0[inp0.Reviews > inp0.Installs]"
   ]
  },
  {
   "cell_type": "code",
   "execution_count": 29,
   "metadata": {
    "id": "anu7J6FEiYaL"
   },
   "outputs": [],
   "source": [
    "inp0 = inp0[inp0.Reviews <= inp0.Installs].copy()"
   ]
  },
  {
   "cell_type": "code",
   "execution_count": 30,
   "metadata": {
    "id": "wbkBvVLOiYaN"
   },
   "outputs": [
    {
     "data": {
      "text/plain": [
       "(9353, 13)"
      ]
     },
     "execution_count": 30,
     "metadata": {},
     "output_type": "execute_result"
    }
   ],
   "source": [
    "inp0.shape"
   ]
  },
  {
   "cell_type": "markdown",
   "metadata": {
    "id": "o7mV1Ug0iYaT"
   },
   "source": [
    "3. For free apps **(Type == “Free”)**, the price should not be **> 0**. Drop any such rows."
   ]
  },
  {
   "cell_type": "code",
   "execution_count": 31,
   "metadata": {
    "id": "PCWSrL1jiYaT"
   },
   "outputs": [
    {
     "data": {
      "text/plain": [
       "0"
      ]
     },
     "execution_count": 31,
     "metadata": {},
     "output_type": "execute_result"
    }
   ],
   "source": [
    "len(inp0[(inp0.Type == \"Free\") & (inp0.Price>0)])"
   ]
  },
  {
   "cell_type": "markdown",
   "metadata": {
    "id": "MytS2idhiYaV"
   },
   "source": [
    "#### **EDA**"
   ]
  },
  {
   "cell_type": "markdown",
   "metadata": {
    "id": "1IUocNLqiYaW"
   },
   "source": [
    "#### <b> Box Plot: Price</b>"
   ]
  },
  {
   "cell_type": "code",
   "execution_count": 32,
   "metadata": {
    "id": "L2joMoc-iYaW"
   },
   "outputs": [
    {
     "name": "stderr",
     "output_type": "stream",
     "text": [
      "/Users/anchhabra/opt/anaconda3/lib/python3.9/site-packages/seaborn/_decorators.py:36: FutureWarning: Pass the following variable as a keyword arg: x. From version 0.12, the only valid positional argument will be `data`, and passing other arguments without an explicit keyword will result in an error or misinterpretation.\n",
      "  warnings.warn(\n"
     ]
    },
    {
     "data": {
      "image/png": "[encoded data removed]",
      "text/plain": [
       "<Figure size 432x288 with 1 Axes>"
      ]
     },
     "metadata": {
      "needs_background": "light"
     },
     "output_type": "display_data"
    }
   ],
   "source": [
    "#Are there any outliers? Think about the price of usual apps on the Play Store.\n",
    "sns.boxplot(inp0.Price)\n",
    "plt.show()"
   ]
  },
  {
   "cell_type": "markdown",
   "metadata": {
    "id": "LBUZ1sI9iYaY"
   },
   "source": [
    "#### <b> Box Plot: Reviews</b>"
   ]
  },
  {
   "cell_type": "code",
   "execution_count": 33,
   "metadata": {
    "id": "Y4W5mSiviYaY"
   },
   "outputs": [
    {
     "name": "stderr",
     "output_type": "stream",
     "text": [
      "/Users/anchhabra/opt/anaconda3/lib/python3.9/site-packages/seaborn/_decorators.py:36: FutureWarning: Pass the following variable as a keyword arg: x. From version 0.12, the only valid positional argument will be `data`, and passing other arguments without an explicit keyword will result in an error or misinterpretation.\n",
      "  warnings.warn(\n"
     ]
    },
    {
     "data": {
      "image/png": "[encoded data removed]",
      "text/plain": [
       "<Figure size 432x288 with 1 Axes>"
      ]
     },
     "metadata": {
      "needs_background": "light"
     },
     "output_type": "display_data"
    }
   ],
   "source": [
    "#Are there any apps with very high number of reviews? Do the values seem right?\n",
    "sns.boxplot(inp0.Reviews)\n",
    "plt.show()"
   ]
  },
  {
   "cell_type": "markdown",
   "metadata": {
    "id": "vW9AgNBVa1Wc"
   },
   "source": [
    "#### **Checking Distribution and Skewness:**\n",
    "\n",
    "How are the ratings distributed? Is it more toward higher ratings?"
   ]
  },
  {
   "cell_type": "markdown",
   "metadata": {
    "id": "ndvWSN3RiYaa"
   },
   "source": [
    "##### **Distribution of Ratings**"
   ]
  },
  {
   "cell_type": "code",
   "execution_count": 34,
   "metadata": {
    "id": "Xw7CH8UliYab"
   },
   "outputs": [
    {
     "data": {
      "image/png": "[encoded data removed]",
      "text/plain": [
       "<Figure size 432x288 with 1 Axes>"
      ]
     },
     "metadata": {
      "needs_background": "light"
     },
     "output_type": "display_data"
    }
   ],
   "source": [
    "#Distributing the ratings\n",
    "inp0.Rating.plot.hist()\n",
    "#Show plot\n",
    "plt.show()"
   ]
  },
  {
   "cell_type": "markdown",
   "metadata": {
    "id": "4wZHlXf-iYad"
   },
   "source": [
    "##### **Histogram: Size**"
   ]
  },
  {
   "cell_type": "code",
   "execution_count": 35,
   "metadata": {
    "id": "ib13K1wSiYad"
   },
   "outputs": [
    {
     "data": {
      "image/png": "[encoded data removed]",
      "text/plain": [
       "<Figure size 432x288 with 1 Axes>"
      ]
     },
     "metadata": {
      "needs_background": "light"
     },
     "output_type": "display_data"
    }
   ],
   "source": [
    "inp0['Size'].plot.hist()\n",
    "#Show plot\n",
    "plt.show()"
   ]
  },
  {
   "cell_type": "markdown",
   "metadata": {
    "id": "f7vcIm-pZgB8"
   },
   "source": [
    "#### <b> Observations </b>\n",
    "A histogram is plotted with ratings on the x-axis and frequency on the y-axis, and the ratings are distributed."
   ]
  },
  {
   "cell_type": "code",
   "execution_count": 36,
   "metadata": {
    "id": "18slR9triYaf"
   },
   "outputs": [
    {
     "data": {
      "text/plain": [
       "<seaborn.axisgrid.PairGrid at 0x7faa999d5ca0>"
      ]
     },
     "execution_count": 36,
     "metadata": {},
     "output_type": "execute_result"
    },
    {
     "data": {
      "image/png": "[encoded data removed]",
      "text/plain": [
       "<Figure size 900x900 with 30 Axes>"
      ]
     },
     "metadata": {
      "needs_background": "light"
     },
     "output_type": "display_data"
    }
   ],
   "source": [
    "#Pair plot\n",
    "sns.pairplot(data=inp0)"
   ]
  },
  {
   "cell_type": "markdown",
   "metadata": {
    "id": "PXV4d2U6iYah"
   },
   "source": [
    "##### **Outlier Treatment:**\n"
   ]
  },
  {
   "cell_type": "markdown",
   "metadata": {
    "id": "LCxDNFiDdwln"
   },
   "source": [
    "##### **1. Price:** \n",
    "\n",
    "From the box plot, it seems like there are some apps with very high prices. A price of $200 for an application on the Play Store is very high and suspicious.\n",
    "Check the records that have very high price:\n",
    "Is 200 a high price?"
   ]
  },
  {
   "cell_type": "code",
   "execution_count": 37,
   "metadata": {
    "id": "Cx1sY6HCiYah",
    "scrolled": true
   },
   "outputs": [
    {
     "data": {
      "text/plain": [
       "15"
      ]
     },
     "execution_count": 37,
     "metadata": {},
     "output_type": "execute_result"
    }
   ],
   "source": [
    "#Checking the records\n",
    "len(inp0[inp0.Price > 200])"
   ]
  },
  {
   "cell_type": "code",
   "execution_count": 38,
   "metadata": {
    "id": "dNN02OKgiYaj"
   },
   "outputs": [
    {
     "data": {
      "text/html": [
       "<div>\n",
       "<style scoped>\n",
       "    .dataframe tbody tr th:only-of-type {\n",
       "        vertical-align: middle;\n",
       "    }\n",
       "\n",
       "    .dataframe tbody tr th {\n",
       "        vertical-align: top;\n",
       "    }\n",
       "\n",
       "    .dataframe thead th {\n",
       "        text-align: right;\n",
       "    }\n",
       "</style>\n",
       "<table border=\"1\" class=\"dataframe\">\n",
       "  <thead>\n",
       "    <tr style=\"text-align: right;\">\n",
       "      <th></th>\n",
       "      <th>App</th>\n",
       "      <th>Category</th>\n",
       "      <th>Rating</th>\n",
       "      <th>Reviews</th>\n",
       "      <th>Size</th>\n",
       "      <th>Installs</th>\n",
       "      <th>Type</th>\n",
       "      <th>Price</th>\n",
       "      <th>Content_Rating</th>\n",
       "      <th>Genres</th>\n",
       "      <th>Last Updated</th>\n",
       "      <th>Current Ver</th>\n",
       "      <th>Android Ver</th>\n",
       "    </tr>\n",
       "  </thead>\n",
       "  <tbody>\n",
       "    <tr>\n",
       "      <th>4197</th>\n",
       "      <td>most expensive app (H)</td>\n",
       "      <td>FAMILY</td>\n",
       "      <td>4.3</td>\n",
       "      <td>6</td>\n",
       "      <td>1500.0</td>\n",
       "      <td>100</td>\n",
       "      <td>Paid</td>\n",
       "      <td>399.99</td>\n",
       "      <td>Everyone</td>\n",
       "      <td>Entertainment</td>\n",
       "      <td>July 16, 2018</td>\n",
       "      <td>1</td>\n",
       "      <td>7.0 and up</td>\n",
       "    </tr>\n",
       "    <tr>\n",
       "      <th>4362</th>\n",
       "      <td>💎 I'm rich</td>\n",
       "      <td>LIFESTYLE</td>\n",
       "      <td>3.8</td>\n",
       "      <td>718</td>\n",
       "      <td>26000.0</td>\n",
       "      <td>10000</td>\n",
       "      <td>Paid</td>\n",
       "      <td>399.99</td>\n",
       "      <td>Everyone</td>\n",
       "      <td>Lifestyle</td>\n",
       "      <td>March 11, 2018</td>\n",
       "      <td>1.0.0</td>\n",
       "      <td>4.4 and up</td>\n",
       "    </tr>\n",
       "    <tr>\n",
       "      <th>4367</th>\n",
       "      <td>I'm Rich - Trump Edition</td>\n",
       "      <td>LIFESTYLE</td>\n",
       "      <td>3.6</td>\n",
       "      <td>275</td>\n",
       "      <td>7300.0</td>\n",
       "      <td>10000</td>\n",
       "      <td>Paid</td>\n",
       "      <td>400.00</td>\n",
       "      <td>Everyone</td>\n",
       "      <td>Lifestyle</td>\n",
       "      <td>May 3, 2018</td>\n",
       "      <td>1.0.1</td>\n",
       "      <td>4.1 and up</td>\n",
       "    </tr>\n",
       "    <tr>\n",
       "      <th>5351</th>\n",
       "      <td>I am rich</td>\n",
       "      <td>LIFESTYLE</td>\n",
       "      <td>3.8</td>\n",
       "      <td>3547</td>\n",
       "      <td>1800.0</td>\n",
       "      <td>100000</td>\n",
       "      <td>Paid</td>\n",
       "      <td>399.99</td>\n",
       "      <td>Everyone</td>\n",
       "      <td>Lifestyle</td>\n",
       "      <td>January 12, 2018</td>\n",
       "      <td>2</td>\n",
       "      <td>4.0.3 and up</td>\n",
       "    </tr>\n",
       "    <tr>\n",
       "      <th>5354</th>\n",
       "      <td>I am Rich Plus</td>\n",
       "      <td>FAMILY</td>\n",
       "      <td>4.0</td>\n",
       "      <td>856</td>\n",
       "      <td>8700.0</td>\n",
       "      <td>10000</td>\n",
       "      <td>Paid</td>\n",
       "      <td>399.99</td>\n",
       "      <td>Everyone</td>\n",
       "      <td>Entertainment</td>\n",
       "      <td>May 19, 2018</td>\n",
       "      <td>3</td>\n",
       "      <td>4.4 and up</td>\n",
       "    </tr>\n",
       "    <tr>\n",
       "      <th>5355</th>\n",
       "      <td>I am rich VIP</td>\n",
       "      <td>LIFESTYLE</td>\n",
       "      <td>3.8</td>\n",
       "      <td>411</td>\n",
       "      <td>2600.0</td>\n",
       "      <td>10000</td>\n",
       "      <td>Paid</td>\n",
       "      <td>299.99</td>\n",
       "      <td>Everyone</td>\n",
       "      <td>Lifestyle</td>\n",
       "      <td>July 21, 2018</td>\n",
       "      <td>1.1.1</td>\n",
       "      <td>4.3 and up</td>\n",
       "    </tr>\n",
       "    <tr>\n",
       "      <th>5356</th>\n",
       "      <td>I Am Rich Premium</td>\n",
       "      <td>FINANCE</td>\n",
       "      <td>4.1</td>\n",
       "      <td>1867</td>\n",
       "      <td>4700.0</td>\n",
       "      <td>50000</td>\n",
       "      <td>Paid</td>\n",
       "      <td>399.99</td>\n",
       "      <td>Everyone</td>\n",
       "      <td>Finance</td>\n",
       "      <td>November 12, 2017</td>\n",
       "      <td>1.6</td>\n",
       "      <td>4.0 and up</td>\n",
       "    </tr>\n",
       "    <tr>\n",
       "      <th>5357</th>\n",
       "      <td>I am extremely Rich</td>\n",
       "      <td>LIFESTYLE</td>\n",
       "      <td>2.9</td>\n",
       "      <td>41</td>\n",
       "      <td>2900.0</td>\n",
       "      <td>1000</td>\n",
       "      <td>Paid</td>\n",
       "      <td>379.99</td>\n",
       "      <td>Everyone</td>\n",
       "      <td>Lifestyle</td>\n",
       "      <td>July 1, 2018</td>\n",
       "      <td>1</td>\n",
       "      <td>4.0 and up</td>\n",
       "    </tr>\n",
       "    <tr>\n",
       "      <th>5358</th>\n",
       "      <td>I am Rich!</td>\n",
       "      <td>FINANCE</td>\n",
       "      <td>3.8</td>\n",
       "      <td>93</td>\n",
       "      <td>22000.0</td>\n",
       "      <td>1000</td>\n",
       "      <td>Paid</td>\n",
       "      <td>399.99</td>\n",
       "      <td>Everyone</td>\n",
       "      <td>Finance</td>\n",
       "      <td>December 11, 2017</td>\n",
       "      <td>1</td>\n",
       "      <td>4.1 and up</td>\n",
       "    </tr>\n",
       "    <tr>\n",
       "      <th>5359</th>\n",
       "      <td>I am rich(premium)</td>\n",
       "      <td>FINANCE</td>\n",
       "      <td>3.5</td>\n",
       "      <td>472</td>\n",
       "      <td>965.0</td>\n",
       "      <td>5000</td>\n",
       "      <td>Paid</td>\n",
       "      <td>399.99</td>\n",
       "      <td>Everyone</td>\n",
       "      <td>Finance</td>\n",
       "      <td>May 1, 2017</td>\n",
       "      <td>3.4</td>\n",
       "      <td>4.4 and up</td>\n",
       "    </tr>\n",
       "    <tr>\n",
       "      <th>5362</th>\n",
       "      <td>I Am Rich Pro</td>\n",
       "      <td>FAMILY</td>\n",
       "      <td>4.4</td>\n",
       "      <td>201</td>\n",
       "      <td>2700.0</td>\n",
       "      <td>5000</td>\n",
       "      <td>Paid</td>\n",
       "      <td>399.99</td>\n",
       "      <td>Everyone</td>\n",
       "      <td>Entertainment</td>\n",
       "      <td>May 30, 2017</td>\n",
       "      <td>1.54</td>\n",
       "      <td>1.6 and up</td>\n",
       "    </tr>\n",
       "    <tr>\n",
       "      <th>5364</th>\n",
       "      <td>I am rich (Most expensive app)</td>\n",
       "      <td>FINANCE</td>\n",
       "      <td>4.1</td>\n",
       "      <td>129</td>\n",
       "      <td>2700.0</td>\n",
       "      <td>1000</td>\n",
       "      <td>Paid</td>\n",
       "      <td>399.99</td>\n",
       "      <td>Teen</td>\n",
       "      <td>Finance</td>\n",
       "      <td>December 6, 2017</td>\n",
       "      <td>2</td>\n",
       "      <td>4.0.3 and up</td>\n",
       "    </tr>\n",
       "    <tr>\n",
       "      <th>5366</th>\n",
       "      <td>I Am Rich</td>\n",
       "      <td>FAMILY</td>\n",
       "      <td>3.6</td>\n",
       "      <td>217</td>\n",
       "      <td>4900.0</td>\n",
       "      <td>10000</td>\n",
       "      <td>Paid</td>\n",
       "      <td>389.99</td>\n",
       "      <td>Everyone</td>\n",
       "      <td>Entertainment</td>\n",
       "      <td>June 22, 2018</td>\n",
       "      <td>1.5</td>\n",
       "      <td>4.2 and up</td>\n",
       "    </tr>\n",
       "    <tr>\n",
       "      <th>5369</th>\n",
       "      <td>I am Rich</td>\n",
       "      <td>FINANCE</td>\n",
       "      <td>4.3</td>\n",
       "      <td>180</td>\n",
       "      <td>3800.0</td>\n",
       "      <td>5000</td>\n",
       "      <td>Paid</td>\n",
       "      <td>399.99</td>\n",
       "      <td>Everyone</td>\n",
       "      <td>Finance</td>\n",
       "      <td>March 22, 2018</td>\n",
       "      <td>1</td>\n",
       "      <td>4.2 and up</td>\n",
       "    </tr>\n",
       "    <tr>\n",
       "      <th>5373</th>\n",
       "      <td>I AM RICH PRO PLUS</td>\n",
       "      <td>FINANCE</td>\n",
       "      <td>4.0</td>\n",
       "      <td>36</td>\n",
       "      <td>41000.0</td>\n",
       "      <td>1000</td>\n",
       "      <td>Paid</td>\n",
       "      <td>399.99</td>\n",
       "      <td>Everyone</td>\n",
       "      <td>Finance</td>\n",
       "      <td>June 25, 2018</td>\n",
       "      <td>1.0.2</td>\n",
       "      <td>4.1 and up</td>\n",
       "    </tr>\n",
       "  </tbody>\n",
       "</table>\n",
       "</div>"
      ],
      "text/plain": [
       "                                 App   Category  Rating  Reviews     Size  \\\n",
       "4197          most expensive app (H)     FAMILY     4.3        6   1500.0   \n",
       "4362                      💎 I'm rich  LIFESTYLE     3.8      718  26000.0   \n",
       "4367        I'm Rich - Trump Edition  LIFESTYLE     3.6      275   7300.0   \n",
       "5351                       I am rich  LIFESTYLE     3.8     3547   1800.0   \n",
       "5354                  I am Rich Plus     FAMILY     4.0      856   8700.0   \n",
       "5355                   I am rich VIP  LIFESTYLE     3.8      411   2600.0   \n",
       "5356               I Am Rich Premium    FINANCE     4.1     1867   4700.0   \n",
       "5357             I am extremely Rich  LIFESTYLE     2.9       41   2900.0   \n",
       "5358                      I am Rich!    FINANCE     3.8       93  22000.0   \n",
       "5359              I am rich(premium)    FINANCE     3.5      472    965.0   \n",
       "5362                   I Am Rich Pro     FAMILY     4.4      201   2700.0   \n",
       "5364  I am rich (Most expensive app)    FINANCE     4.1      129   2700.0   \n",
       "5366                       I Am Rich     FAMILY     3.6      217   4900.0   \n",
       "5369                       I am Rich    FINANCE     4.3      180   3800.0   \n",
       "5373              I AM RICH PRO PLUS    FINANCE     4.0       36  41000.0   \n",
       "\n",
       "      Installs  Type   Price Content_Rating         Genres       Last Updated  \\\n",
       "4197       100  Paid  399.99       Everyone  Entertainment      July 16, 2018   \n",
       "4362     10000  Paid  399.99       Everyone      Lifestyle     March 11, 2018   \n",
       "4367     10000  Paid  400.00       Everyone      Lifestyle        May 3, 2018   \n",
       "5351    100000  Paid  399.99       Everyone      Lifestyle   January 12, 2018   \n",
       "5354     10000  Paid  399.99       Everyone  Entertainment       May 19, 2018   \n",
       "5355     10000  Paid  299.99       Everyone      Lifestyle      July 21, 2018   \n",
       "5356     50000  Paid  399.99       Everyone        Finance  November 12, 2017   \n",
       "5357      1000  Paid  379.99       Everyone      Lifestyle       July 1, 2018   \n",
       "5358      1000  Paid  399.99       Everyone        Finance  December 11, 2017   \n",
       "5359      5000  Paid  399.99       Everyone        Finance        May 1, 2017   \n",
       "5362      5000  Paid  399.99       Everyone  Entertainment       May 30, 2017   \n",
       "5364      1000  Paid  399.99           Teen        Finance   December 6, 2017   \n",
       "5366     10000  Paid  389.99       Everyone  Entertainment      June 22, 2018   \n",
       "5369      5000  Paid  399.99       Everyone        Finance     March 22, 2018   \n",
       "5373      1000  Paid  399.99       Everyone        Finance      June 25, 2018   \n",
       "\n",
       "     Current Ver   Android Ver  \n",
       "4197           1    7.0 and up  \n",
       "4362       1.0.0    4.4 and up  \n",
       "4367       1.0.1    4.1 and up  \n",
       "5351           2  4.0.3 and up  \n",
       "5354           3    4.4 and up  \n",
       "5355       1.1.1    4.3 and up  \n",
       "5356         1.6    4.0 and up  \n",
       "5357           1    4.0 and up  \n",
       "5358           1    4.1 and up  \n",
       "5359         3.4    4.4 and up  \n",
       "5362        1.54    1.6 and up  \n",
       "5364           2  4.0.3 and up  \n",
       "5366         1.5    4.2 and up  \n",
       "5369           1    4.2 and up  \n",
       "5373       1.0.2    4.1 and up  "
      ]
     },
     "execution_count": 38,
     "metadata": {},
     "output_type": "execute_result"
    }
   ],
   "source": [
    "inp0[inp0.Price > 200]"
   ]
  },
  {
   "cell_type": "code",
   "execution_count": 39,
   "metadata": {
    "id": "CpqkCkmeiYal"
   },
   "outputs": [
    {
     "data": {
      "text/plain": [
       "(9338, 13)"
      ]
     },
     "execution_count": 39,
     "metadata": {},
     "output_type": "execute_result"
    }
   ],
   "source": [
    "inp0 = inp0[inp0.Price <= 200].copy()\n",
    "\n",
    "inp0.shape"
   ]
  },
  {
   "cell_type": "markdown",
   "metadata": {
    "id": "UvbcViJ2d8-Y"
   },
   "source": [
    "##### **2. Reviews:**\n",
    "\n",
    "Very few apps have very high number of reviews. These are all star apps that don’t help with the analysis and, in fact, will skew it. Drop records having more than 2 million reviews."
   ]
  },
  {
   "cell_type": "code",
   "execution_count": 40,
   "metadata": {
    "id": "U8uOf23NiYao"
   },
   "outputs": [
    {
     "data": {
      "text/plain": [
       "(8885, 13)"
      ]
     },
     "execution_count": 40,
     "metadata": {},
     "output_type": "execute_result"
    }
   ],
   "source": [
    "#Dropping the records with more than 2 million reviews\n",
    "inp0 = inp0[inp0.Reviews <= 2000000]\n",
    "inp0.shape"
   ]
  },
  {
   "cell_type": "markdown",
   "metadata": {
    "id": "HXtw_jNiiYar"
   },
   "source": [
    "##### **3. Installs:**\n",
    "\n",
    "There seem to be some outliers in this field too. Apps having a very high number of installs should be dropped from the analysis.\n",
    "Find out the different percentiles – 10, 25, 50, 70, 90, 95, 99.\n",
    "\n",
    "Decide a threshold as the cutoff for outliers and drop records having values more than the threshold.\n",
    "\n",
    "\n"
   ]
  },
  {
   "cell_type": "code",
   "execution_count": 41,
   "metadata": {
    "id": "bHCK_AwdiYar"
   },
   "outputs": [
    {
     "data": {
      "text/plain": [
       "0.10         1000.0\n",
       "0.25        10000.0\n",
       "0.50       500000.0\n",
       "0.70      1000000.0\n",
       "0.90     10000000.0\n",
       "0.95     10000000.0\n",
       "0.99    100000000.0\n",
       "Name: Installs, dtype: float64"
      ]
     },
     "execution_count": 41,
     "metadata": {},
     "output_type": "execute_result"
    }
   ],
   "source": [
    "#Dropping the apps that have a very high number of installs\n",
    "inp0.Installs.quantile([0.1, 0.25, 0.5, 0.70, 0.9, 0.95, 0.99])"
   ]
  },
  {
   "cell_type": "markdown",
   "metadata": {
    "id": "i2uTG0sNZgB9"
   },
   "source": [
    "#### <b> Observations </b>"
   ]
  },
  {
   "cell_type": "markdown",
   "metadata": {
    "id": "ak3aontjiYau"
   },
   "source": [
    "Looks like there are just 1% of apps having more than 100M installs. These apps might be genuine, but will definitely skew our analysis.  \n",
    "We need to drop these.\n"
   ]
  },
  {
   "cell_type": "code",
   "execution_count": 42,
   "metadata": {
    "id": "h36NFnV8iYau"
   },
   "outputs": [
    {
     "data": {
      "text/plain": [
       "6"
      ]
     },
     "execution_count": 42,
     "metadata": {},
     "output_type": "execute_result"
    }
   ],
   "source": [
    "#Dropping the apps with more than 100M installs\n",
    "len(inp0[inp0.Installs >= 1000000000])"
   ]
  },
  {
   "cell_type": "code",
   "execution_count": 43,
   "metadata": {
    "id": "cfD2ZFf9iYax"
   },
   "outputs": [
    {
     "data": {
      "text/plain": [
       "(8879, 13)"
      ]
     },
     "execution_count": 43,
     "metadata": {},
     "output_type": "execute_result"
    }
   ],
   "source": [
    "inp0 = inp0[inp0.Installs < 1000000000].copy()\n",
    "inp0.shape"
   ]
  },
  {
   "cell_type": "code",
   "execution_count": 44,
   "metadata": {
    "id": "hrZkGODGiYa0"
   },
   "outputs": [],
   "source": [
    "#Importing warnings\n",
    "import warnings\n",
    "warnings.filterwarnings(\"ignore\")"
   ]
  },
  {
   "cell_type": "markdown",
   "metadata": {
    "id": "0p7aaAfYiYa2"
   },
   "source": [
    "#### **Bi-variate Analysis:**"
   ]
  },
  {
   "cell_type": "markdown",
   "metadata": {
    "id": "eWEdZlW4fo2U"
   },
   "source": [
    "Let’s look at how the available predictors relate to the variable of interest, i.e., our target variable rating. Make scatter plots (for numeric features) and box plots (for character features) to assess the relationhips between rating and the other features."
   ]
  },
  {
   "cell_type": "markdown",
   "metadata": {
    "id": "z3a_GTWViYa2"
   },
   "source": [
    "##### **1.\tMake scatter plot/join plot for Rating vs. Price**"
   ]
  },
  {
   "cell_type": "code",
   "execution_count": 45,
   "metadata": {
    "id": "SEtsOwwIiYa3"
   },
   "outputs": [
    {
     "data": {
      "text/plain": [
       "<seaborn.axisgrid.JointGrid at 0x7faa9bc77dc0>"
      ]
     },
     "execution_count": 45,
     "metadata": {},
     "output_type": "execute_result"
    },
    {
     "data": {
      "image/png": "[encoded data removed]",
      "text/plain": [
       "<Figure size 432x432 with 3 Axes>"
      ]
     },
     "metadata": {
      "needs_background": "light"
     },
     "output_type": "display_data"
    }
   ],
   "source": [
    "#What pattern do you observe? Does rating increase with price?\n",
    "sns.jointplot(inp0.Price, inp0.Rating)"
   ]
  },
  {
   "cell_type": "markdown",
   "metadata": {
    "id": "jTntjoDiiYa6"
   },
   "source": [
    "##### **2.\tMake scatter plot/joinplot for Rating vs Size**"
   ]
  },
  {
   "cell_type": "code",
   "execution_count": 46,
   "metadata": {
    "id": "jYfuh8YRiYa6"
   },
   "outputs": [
    {
     "data": {
      "text/plain": [
       "<seaborn.axisgrid.JointGrid at 0x7faa89defa60>"
      ]
     },
     "execution_count": 46,
     "metadata": {},
     "output_type": "execute_result"
    },
    {
     "data": {
      "image/png": "[encoded data removed]",
      "text/plain": [
       "<Figure size 432x432 with 3 Axes>"
      ]
     },
     "metadata": {
      "needs_background": "light"
     },
     "output_type": "display_data"
    }
   ],
   "source": [
    "#Are heavier apps rated better?\n",
    "sns.jointplot(inp0.Size, inp0.Rating)"
   ]
  },
  {
   "cell_type": "markdown",
   "metadata": {
    "id": "d5YUE0-yiYa8"
   },
   "source": [
    "##### **3.\tMake scatter plot/joinplot for Rating vs Reviews**"
   ]
  },
  {
   "cell_type": "code",
   "execution_count": 47,
   "metadata": {
    "id": "sAnz2OOxiYa9"
   },
   "outputs": [
    {
     "data": {
      "text/plain": [
       "<seaborn.axisgrid.JointGrid at 0x7faa89cc6250>"
      ]
     },
     "execution_count": 47,
     "metadata": {},
     "output_type": "execute_result"
    },
    {
     "data": {
      "image/png": "[encoded data removed]",
      "text/plain": [
       "<Figure size 432x432 with 3 Axes>"
      ]
     },
     "metadata": {
      "needs_background": "light"
     },
     "output_type": "display_data"
    }
   ],
   "source": [
    "# Does more review mean a better rating always?\n",
    "sns.jointplot(inp0.Reviews, inp0.Rating)"
   ]
  },
  {
   "cell_type": "markdown",
   "metadata": {
    "id": "TUNw3cfbiYbA"
   },
   "source": [
    "##### **4.\tMake boxplot for Rating vs Content Rating**"
   ]
  },
  {
   "cell_type": "code",
   "execution_count": 48,
   "metadata": {
    "id": "ByNz7YM6iYbB"
   },
   "outputs": [
    {
     "data": {
      "text/plain": [
       "<AxesSubplot:xlabel='Content_Rating', ylabel='Rating'>"
      ]
     },
     "execution_count": 48,
     "metadata": {},
     "output_type": "execute_result"
    },
    {
     "data": {
      "image/png": "[encoded data removed]",
      "text/plain": [
       "<Figure size 576x432 with 1 Axes>"
      ]
     },
     "metadata": {
      "needs_background": "light"
     },
     "output_type": "display_data"
    }
   ],
   "source": [
    "#Is there any difference in the ratings? Are some types liked better?\n",
    "plt.figure(figsize=[8,6])\n",
    "sns.boxplot(inp0['Content_Rating'], inp0.Rating)"
   ]
  },
  {
   "cell_type": "markdown",
   "metadata": {
    "id": "cTsKCO1MgKNv"
   },
   "source": [
    "##### **5. Make boxplot for Ratings vs. Category**"
   ]
  },
  {
   "cell_type": "code",
   "execution_count": 49,
   "metadata": {
    "id": "uW4cbujciYbC"
   },
   "outputs": [
    {
     "data": {
      "image/png": "[encoded data removed]",
      "text/plain": [
       "<Figure size 1296x432 with 1 Axes>"
      ]
     },
     "metadata": {
      "needs_background": "light"
     },
     "output_type": "display_data"
    }
   ],
   "source": [
    "#Which genre has the best ratings?\n",
    "plt.figure(figsize=[18,6])\n",
    "g = sns.boxplot(inp0.Category, inp0.Rating)\n",
    "plt.xticks(rotation=90);"
   ]
  },
  {
   "cell_type": "markdown",
   "metadata": {
    "id": "K84OIeq5iYbE"
   },
   "source": [
    "#### **Pre-processing the Dataset**"
   ]
  },
  {
   "cell_type": "markdown",
   "metadata": {
    "id": "1QwhHCpPiYbF"
   },
   "source": [
    "##### **1. Make a copy of the dataset**"
   ]
  },
  {
   "cell_type": "code",
   "execution_count": 50,
   "metadata": {
    "id": "vi9bn-ypiYbF"
   },
   "outputs": [],
   "source": [
    "#Making a copy\n",
    "inp1 = inp0.copy()"
   ]
  },
  {
   "cell_type": "markdown",
   "metadata": {
    "id": "7wdlD-_EkusJ"
   },
   "source": [
    "##### **2. Apply log transformation (np.log1p) to Reviews and Installs**\n",
    "\n",
    "Reviews and Installs have some values that are still relatively very high.\n",
    "Before building a linear regression model, you need to reduce the skew."
   ]
  },
  {
   "cell_type": "code",
   "execution_count": 51,
   "metadata": {
    "id": "Psvvu5pwiYbI"
   },
   "outputs": [
    {
     "data": {
      "text/plain": [
       "count    8.879000e+03\n",
       "mean     5.595862e+06\n",
       "std      2.421042e+07\n",
       "min      5.000000e+00\n",
       "25%      1.000000e+04\n",
       "50%      5.000000e+05\n",
       "75%      5.000000e+06\n",
       "max      5.000000e+08\n",
       "Name: Installs, dtype: float64"
      ]
     },
     "execution_count": 51,
     "metadata": {},
     "output_type": "execute_result"
    }
   ],
   "source": [
    "#Reducing the skew\n",
    "inp0.Installs.describe()"
   ]
  },
  {
   "cell_type": "code",
   "execution_count": 52,
   "metadata": {
    "id": "wqUaLLD0iYbL"
   },
   "outputs": [],
   "source": [
    "inp1.Installs = inp1.Installs.apply(np.log1p)"
   ]
  },
  {
   "cell_type": "code",
   "execution_count": 53,
   "metadata": {
    "id": "UM2pmr5ziYbN"
   },
   "outputs": [],
   "source": [
    "inp1.Reviews = inp1.Reviews.apply(np.log1p)"
   ]
  },
  {
   "cell_type": "markdown",
   "metadata": {
    "id": "xsZEsfMKiYbQ"
   },
   "source": [
    "##### **3. Drop columns App, Last Updated, Current Ver, and Android Ver**\n",
    "\n",
    " These variables are not useful for our task."
   ]
  },
  {
   "cell_type": "code",
   "execution_count": 54,
   "metadata": {
    "id": "YtobZfveiYbQ"
   },
   "outputs": [
    {
     "data": {
      "text/plain": [
       "App                object\n",
       "Category           object\n",
       "Rating            float64\n",
       "Reviews           float64\n",
       "Size              float64\n",
       "Installs          float64\n",
       "Type               object\n",
       "Price             float64\n",
       "Content_Rating     object\n",
       "Genres             object\n",
       "Last Updated       object\n",
       "Current Ver        object\n",
       "Android Ver        object\n",
       "dtype: object"
      ]
     },
     "execution_count": 54,
     "metadata": {},
     "output_type": "execute_result"
    }
   ],
   "source": [
    "inp1.dtypes"
   ]
  },
  {
   "cell_type": "code",
   "execution_count": 55,
   "metadata": {
    "id": "HGezO1I6iYbS"
   },
   "outputs": [
    {
     "data": {
      "text/plain": [
       "(8879, 9)"
      ]
     },
     "execution_count": 55,
     "metadata": {},
     "output_type": "execute_result"
    }
   ],
   "source": [
    "#Dropping the variables that are not useful for our task\n",
    "inp1.drop([\"App\", \"Last Updated\", \"Current Ver\", \"Android Ver\"], axis=1, inplace=True)\n",
    "inp1.shape"
   ]
  },
  {
   "cell_type": "markdown",
   "metadata": {
    "id": "srbCi7VwlT2-"
   },
   "source": [
    "##### **4. Dummy Columns:**\n",
    "\n",
    "\n",
    "Get dummy columns for Category, Genres, and Content Rating. This needs to be done as the models do not understand categorical data, and all data should be numeric. Dummy encoding is one way to convert character fields to numeric fields. Name of the dataframe should be **inp2**."
   ]
  },
  {
   "cell_type": "code",
   "execution_count": 56,
   "metadata": {
    "id": "mHqSQ_NuiYbV"
   },
   "outputs": [],
   "source": [
    "inp2 = pd.get_dummies(inp1, drop_first=True)"
   ]
  },
  {
   "cell_type": "code",
   "execution_count": 57,
   "metadata": {
    "id": "w7OQaLh4iYbX"
   },
   "outputs": [
    {
     "data": {
      "text/plain": [
       "Index(['Rating', 'Reviews', 'Size', 'Installs', 'Price',\n",
       "       'Category_AUTO_AND_VEHICLES', 'Category_BEAUTY',\n",
       "       'Category_BOOKS_AND_REFERENCE', 'Category_BUSINESS', 'Category_COMICS',\n",
       "       ...\n",
       "       'Genres_Tools', 'Genres_Tools_Education', 'Genres_Travel_&_Local',\n",
       "       'Genres_Travel_&_Local_Action_&_Adventure', 'Genres_Trivia',\n",
       "       'Genres_Video_Players_&_Editors',\n",
       "       'Genres_Video_Players_&_Editors_Creativity',\n",
       "       'Genres_Video_Players_&_Editors_Music_&_Video', 'Genres_Weather',\n",
       "       'Genres_Word'],\n",
       "      dtype='object', length=157)"
      ]
     },
     "execution_count": 57,
     "metadata": {},
     "output_type": "execute_result"
    }
   ],
   "source": [
    "inp2.columns"
   ]
  },
  {
   "cell_type": "code",
   "execution_count": 58,
   "metadata": {
    "id": "gKS6RUcU3gww"
   },
   "outputs": [
    {
     "data": {
      "text/plain": [
       "(8879, 157)"
      ]
     },
     "execution_count": 58,
     "metadata": {},
     "output_type": "execute_result"
    }
   ],
   "source": [
    "inp2.shape"
   ]
  },
  {
   "cell_type": "markdown",
   "metadata": {
    "id": "Ko2AVCZriYbY"
   },
   "source": [
    "#### **Train-test split**"
   ]
  },
  {
   "cell_type": "markdown",
   "metadata": {
    "id": "cxAnZejbz8jP"
   },
   "source": [
    "Let us distribute the data into **training** and **test** datasets using the **train_test_split()** function."
   ]
  },
  {
   "cell_type": "code",
   "execution_count": 59,
   "metadata": {
    "id": "JBbvq6Z8iYbZ"
   },
   "outputs": [],
   "source": [
    "from sklearn.model_selection import train_test_split"
   ]
  },
  {
   "cell_type": "code",
   "execution_count": 60,
   "metadata": {
    "id": "gaBkZtKsiYbb"
   },
   "outputs": [],
   "source": [
    "#?train_test_split"
   ]
  },
  {
   "cell_type": "code",
   "execution_count": 61,
   "metadata": {
    "id": "GhBFCj3jiYbc"
   },
   "outputs": [],
   "source": [
    "df_train, df_test = train_test_split(inp2, train_size = 0.7, random_state = 100)"
   ]
  },
  {
   "cell_type": "code",
   "execution_count": 62,
   "metadata": {
    "id": "OiPz2HP2iYbe"
   },
   "outputs": [
    {
     "data": {
      "text/plain": [
       "((6215, 157), (2664, 157))"
      ]
     },
     "execution_count": 62,
     "metadata": {},
     "output_type": "execute_result"
    }
   ],
   "source": [
    "df_train.shape, df_test.shape"
   ]
  },
  {
   "cell_type": "markdown",
   "metadata": {
    "id": "0K8Dc4E9iYbf"
   },
   "source": [
    "Let us separate the dataframes into **X_train, y_train, X_test, y_test.**"
   ]
  },
  {
   "cell_type": "code",
   "execution_count": 63,
   "metadata": {
    "id": "LZqLkOrliYbf"
   },
   "outputs": [],
   "source": [
    "y_train = df_train.pop(\"Rating\")\n",
    "X_train = df_train"
   ]
  },
  {
   "cell_type": "code",
   "execution_count": 64,
   "metadata": {
    "id": "rIooKn-21WB8"
   },
   "outputs": [
    {
     "data": {
      "text/html": [
       "<div>\n",
       "<style scoped>\n",
       "    .dataframe tbody tr th:only-of-type {\n",
       "        vertical-align: middle;\n",
       "    }\n",
       "\n",
       "    .dataframe tbody tr th {\n",
       "        vertical-align: top;\n",
       "    }\n",
       "\n",
       "    .dataframe thead th {\n",
       "        text-align: right;\n",
       "    }\n",
       "</style>\n",
       "<table border=\"1\" class=\"dataframe\">\n",
       "  <thead>\n",
       "    <tr style=\"text-align: right;\">\n",
       "      <th></th>\n",
       "      <th>Reviews</th>\n",
       "      <th>Size</th>\n",
       "      <th>Installs</th>\n",
       "      <th>Price</th>\n",
       "      <th>Category_AUTO_AND_VEHICLES</th>\n",
       "      <th>Category_BEAUTY</th>\n",
       "      <th>Category_BOOKS_AND_REFERENCE</th>\n",
       "      <th>Category_BUSINESS</th>\n",
       "      <th>Category_COMICS</th>\n",
       "      <th>Category_COMMUNICATION</th>\n",
       "      <th>...</th>\n",
       "      <th>Genres_Tools</th>\n",
       "      <th>Genres_Tools_Education</th>\n",
       "      <th>Genres_Travel_&amp;_Local</th>\n",
       "      <th>Genres_Travel_&amp;_Local_Action_&amp;_Adventure</th>\n",
       "      <th>Genres_Trivia</th>\n",
       "      <th>Genres_Video_Players_&amp;_Editors</th>\n",
       "      <th>Genres_Video_Players_&amp;_Editors_Creativity</th>\n",
       "      <th>Genres_Video_Players_&amp;_Editors_Music_&amp;_Video</th>\n",
       "      <th>Genres_Weather</th>\n",
       "      <th>Genres_Word</th>\n",
       "    </tr>\n",
       "  </thead>\n",
       "  <tbody>\n",
       "    <tr>\n",
       "      <th>1279</th>\n",
       "      <td>7.63627</td>\n",
       "      <td>6900.0</td>\n",
       "      <td>11.512935</td>\n",
       "      <td>0.0</td>\n",
       "      <td>0</td>\n",
       "      <td>0</td>\n",
       "      <td>0</td>\n",
       "      <td>0</td>\n",
       "      <td>0</td>\n",
       "      <td>0</td>\n",
       "      <td>...</td>\n",
       "      <td>0</td>\n",
       "      <td>0</td>\n",
       "      <td>0</td>\n",
       "      <td>0</td>\n",
       "      <td>0</td>\n",
       "      <td>0</td>\n",
       "      <td>0</td>\n",
       "      <td>0</td>\n",
       "      <td>0</td>\n",
       "      <td>0</td>\n",
       "    </tr>\n",
       "  </tbody>\n",
       "</table>\n",
       "<p>1 rows × 156 columns</p>\n",
       "</div>"
      ],
      "text/plain": [
       "      Reviews    Size   Installs  Price  Category_AUTO_AND_VEHICLES  \\\n",
       "1279  7.63627  6900.0  11.512935    0.0                           0   \n",
       "\n",
       "      Category_BEAUTY  Category_BOOKS_AND_REFERENCE  Category_BUSINESS  \\\n",
       "1279                0                             0                  0   \n",
       "\n",
       "      Category_COMICS  Category_COMMUNICATION  ...  Genres_Tools  \\\n",
       "1279                0                       0  ...             0   \n",
       "\n",
       "      Genres_Tools_Education  Genres_Travel_&_Local  \\\n",
       "1279                       0                      0   \n",
       "\n",
       "      Genres_Travel_&_Local_Action_&_Adventure  Genres_Trivia  \\\n",
       "1279                                         0              0   \n",
       "\n",
       "      Genres_Video_Players_&_Editors  \\\n",
       "1279                               0   \n",
       "\n",
       "      Genres_Video_Players_&_Editors_Creativity  \\\n",
       "1279                                          0   \n",
       "\n",
       "      Genres_Video_Players_&_Editors_Music_&_Video  Genres_Weather  \\\n",
       "1279                                             0               0   \n",
       "\n",
       "      Genres_Word  \n",
       "1279            0  \n",
       "\n",
       "[1 rows x 156 columns]"
      ]
     },
     "execution_count": 64,
     "metadata": {},
     "output_type": "execute_result"
    }
   ],
   "source": [
    "X_train.head(1)"
   ]
  },
  {
   "cell_type": "code",
   "execution_count": 65,
   "metadata": {
    "id": "ZmlT5RUwiYbh"
   },
   "outputs": [],
   "source": [
    "y_test = df_test.pop(\"Rating\")\n",
    "X_test = df_test"
   ]
  },
  {
   "cell_type": "code",
   "execution_count": 66,
   "metadata": {
    "id": "H7FoNKI4_XCj"
   },
   "outputs": [
    {
     "data": {
      "text/html": [
       "<div>\n",
       "<style scoped>\n",
       "    .dataframe tbody tr th:only-of-type {\n",
       "        vertical-align: middle;\n",
       "    }\n",
       "\n",
       "    .dataframe tbody tr th {\n",
       "        vertical-align: top;\n",
       "    }\n",
       "\n",
       "    .dataframe thead th {\n",
       "        text-align: right;\n",
       "    }\n",
       "</style>\n",
       "<table border=\"1\" class=\"dataframe\">\n",
       "  <thead>\n",
       "    <tr style=\"text-align: right;\">\n",
       "      <th></th>\n",
       "      <th>Reviews</th>\n",
       "      <th>Size</th>\n",
       "      <th>Installs</th>\n",
       "      <th>Price</th>\n",
       "      <th>Category_AUTO_AND_VEHICLES</th>\n",
       "      <th>Category_BEAUTY</th>\n",
       "      <th>Category_BOOKS_AND_REFERENCE</th>\n",
       "      <th>Category_BUSINESS</th>\n",
       "      <th>Category_COMICS</th>\n",
       "      <th>Category_COMMUNICATION</th>\n",
       "      <th>...</th>\n",
       "      <th>Genres_Tools</th>\n",
       "      <th>Genres_Tools_Education</th>\n",
       "      <th>Genres_Travel_&amp;_Local</th>\n",
       "      <th>Genres_Travel_&amp;_Local_Action_&amp;_Adventure</th>\n",
       "      <th>Genres_Trivia</th>\n",
       "      <th>Genres_Video_Players_&amp;_Editors</th>\n",
       "      <th>Genres_Video_Players_&amp;_Editors_Creativity</th>\n",
       "      <th>Genres_Video_Players_&amp;_Editors_Music_&amp;_Video</th>\n",
       "      <th>Genres_Weather</th>\n",
       "      <th>Genres_Word</th>\n",
       "    </tr>\n",
       "  </thead>\n",
       "  <tbody>\n",
       "    <tr>\n",
       "      <th>1161</th>\n",
       "      <td>9.329456</td>\n",
       "      <td>24000.0</td>\n",
       "      <td>13.815512</td>\n",
       "      <td>0.0</td>\n",
       "      <td>0</td>\n",
       "      <td>0</td>\n",
       "      <td>0</td>\n",
       "      <td>0</td>\n",
       "      <td>0</td>\n",
       "      <td>0</td>\n",
       "      <td>...</td>\n",
       "      <td>0</td>\n",
       "      <td>0</td>\n",
       "      <td>0</td>\n",
       "      <td>0</td>\n",
       "      <td>0</td>\n",
       "      <td>0</td>\n",
       "      <td>0</td>\n",
       "      <td>0</td>\n",
       "      <td>0</td>\n",
       "      <td>0</td>\n",
       "    </tr>\n",
       "  </tbody>\n",
       "</table>\n",
       "<p>1 rows × 156 columns</p>\n",
       "</div>"
      ],
      "text/plain": [
       "       Reviews     Size   Installs  Price  Category_AUTO_AND_VEHICLES  \\\n",
       "1161  9.329456  24000.0  13.815512    0.0                           0   \n",
       "\n",
       "      Category_BEAUTY  Category_BOOKS_AND_REFERENCE  Category_BUSINESS  \\\n",
       "1161                0                             0                  0   \n",
       "\n",
       "      Category_COMICS  Category_COMMUNICATION  ...  Genres_Tools  \\\n",
       "1161                0                       0  ...             0   \n",
       "\n",
       "      Genres_Tools_Education  Genres_Travel_&_Local  \\\n",
       "1161                       0                      0   \n",
       "\n",
       "      Genres_Travel_&_Local_Action_&_Adventure  Genres_Trivia  \\\n",
       "1161                                         0              0   \n",
       "\n",
       "      Genres_Video_Players_&_Editors  \\\n",
       "1161                               0   \n",
       "\n",
       "      Genres_Video_Players_&_Editors_Creativity  \\\n",
       "1161                                          0   \n",
       "\n",
       "      Genres_Video_Players_&_Editors_Music_&_Video  Genres_Weather  \\\n",
       "1161                                             0               0   \n",
       "\n",
       "      Genres_Word  \n",
       "1161            0  \n",
       "\n",
       "[1 rows x 156 columns]"
      ]
     },
     "execution_count": 66,
     "metadata": {},
     "output_type": "execute_result"
    }
   ],
   "source": [
    "X_test.head(1)"
   ]
  },
  {
   "cell_type": "markdown",
   "metadata": {
    "id": "J6SlMiJrgoZj"
   },
   "source": [
    "### <b> **Regression Algorithms:**</b>\n",
    "\n",
    "Note: Let us take a look at the theory part before moving on to the training and prediction."
   ]
  },
  {
   "cell_type": "markdown",
   "metadata": {
    "id": "BmvPniXBhEDw"
   },
   "source": [
    "#### <b>Types of Regression Algorithms:</b>"
   ]
  },
  {
   "cell_type": "markdown",
   "metadata": {
    "id": "DSn9GMFhhPFM"
   },
   "source": [
    "* Linear regression\n",
    "* Multiple linear regression\n",
    "* Polynomial regression\n",
    "* Ridge regression\n",
    "* Lasso regression\n",
    "* ElasticNet regression"
   ]
  },
  {
   "cell_type": "markdown",
   "metadata": {
    "id": "ZUsnK-BxjXUH"
   },
   "source": [
    "#### **When to use regression?**"
   ]
  },
  {
   "cell_type": "markdown",
   "metadata": {
    "id": "-hZzR-UsjuMB"
   },
   "source": [
    "If target variable is a continuous numeric variable (100–2000), then use a regression algorithm.<br><br>\n",
    "\n",
    "![Use of Reg](https://labcontent.simplicdn.net/data-content/content-assets/Data_and_AI/Applied_Machine_Learning/Images/0.7_Supervised_Learning_-_Regression_and_Classification/Trainer_PPT_and_IPYNB/0.2_Linear_Regression/Use%20of%20Reg.JPG)\n",
    "\n",
    "<br><br>\n",
    "Note: Let us take a look at the basics of linear regression and then move on to the model builiding part where we are going to use all the concepts that we saw in previous sessions."
   ]
  },
  {
   "cell_type": "markdown",
   "metadata": {
    "id": "yjP1JLXdhn68"
   },
   "source": [
    "#### **1. Linear Regression:**"
   ]
  },
  {
   "cell_type": "markdown",
   "metadata": {
    "id": "qIGWoFPKh9EO"
   },
   "source": [
    "Linear Regression is a statistical model used to predict the relationship between independent and dependent variables denoted by x and y respectively.\n"
   ]
  },
  {
   "cell_type": "markdown",
   "metadata": {
    "id": "ZHjjpch3ibIb"
   },
   "source": [
    "![Lin Reg](https://labcontent.simplicdn.net/data-content/content-assets/Data_and_AI/Applied_Machine_Learning/Images/0.7_Supervised_Learning_-_Regression_and_Classification/Trainer_PPT_and_IPYNB/0.2_Linear_Regression/Lin%20Reg.JPG)"
   ]
  },
  {
   "cell_type": "markdown",
   "metadata": {
    "id": "x7yOduLSlQuq"
   },
   "source": [
    "#### **2. Muliple Linear Regression:**"
   ]
  },
  {
   "cell_type": "markdown",
   "metadata": {
    "id": "dXg3x1S1lT44"
   },
   "source": [
    "Multiple linear regression is a statistical technique used to predict the outcome of a response variable through several explanatory variables and model the relationships between them."
   ]
  },
  {
   "cell_type": "markdown",
   "metadata": {
    "id": "tg1VjZnGlYmU"
   },
   "source": [
    "![Multiple LR](https://labcontent.simplicdn.net/data-content/content-assets/Data_and_AI/Applied_Machine_Learning/Images/0.7_Supervised_Learning_-_Regression_and_Classification/Trainer_PPT_and_IPYNB/0.2_Linear_Regression/Multiple%20LR.JPG)"
   ]
  },
  {
   "cell_type": "markdown",
   "metadata": {
    "id": "d9TqAOj7l6Gt"
   },
   "source": [
    "#### **3. Polynomial Regression:**"
   ]
  },
  {
   "cell_type": "markdown",
   "metadata": {
    "id": "FZoN6CFBl8Ia"
   },
   "source": [
    "Polynomial regression is applied when data is not formed in a straight line. \n",
    "It is used to fit a linear model to non-linear data by creating new features from powers of non-linear features.\n",
    "\n",
    "Example: Quadratic features \n"
   ]
  },
  {
   "cell_type": "markdown",
   "metadata": {
    "id": "SsoRmWzOnlUV"
   },
   "source": [
    "![Pol Reg](https://labcontent.simplicdn.net/data-content/content-assets/Data_and_AI/Applied_Machine_Learning/Images/0.7_Supervised_Learning_-_Regression_and_Classification/Trainer_PPT_and_IPYNB/0.2_Linear_Regression/Pol%20Reg.JPG)"
   ]
  },
  {
   "cell_type": "markdown",
   "metadata": {
    "id": "O1Axf7SUQ8ir"
   },
   "source": [
    "### <b> Types of Model Evaluation Metrics:</b>"
   ]
  },
  {
   "cell_type": "markdown",
   "metadata": {
    "id": "NghG9e0g4EIn"
   },
   "source": [
    "#### **Assumption** <br>\n",
    "\n",
    "Let us consider the following:\n",
    "\n",
    "$y_i$ – the observed value\n",
    "\n",
    "$\\bar{y}$ – the mean value of a sample\n",
    "\n",
    "$\\hat{y}_i$ – the value estimated by the regression line\n"
   ]
  },
  {
   "cell_type": "markdown",
   "metadata": {
    "id": "w37a9h7kJToC"
   },
   "source": [
    "#### **Sum of Squares Total (SST)** <br>\n",
    "\n",
    "  The squared variations between the measured dependent variable and its mean are referred to as the **Sum of Squares Total (SST)** or **Total Sum of Squares (TSS)**.\n",
    "\n",
    "  It's similar to the variation of descriptive statistics in that it's the dispersion of measured variables around the mean.\n",
    "\n",
    "  It is a measure of the dataset's overall variability.\n",
    "\n",
    "  $$\n",
    "  SST = SSR + SSE = \\sum_{i=1}^{n}(\\hat{y}_i - \\bar{y}_i)^2 + \\sum_{i=1}^{n}(y_i - \\hat{y}_i)^2\n",
    "  $$\n",
    "\n",
    "  ![SST](https://labcontent.simplicdn.net/data-content/content-assets/Data_and_AI/Applied_Machine_Learning/Images/0.7_Supervised_Learning_-_Regression_and_Classification/Trainer_PPT_and_IPYNB/0.2_Linear_Regression/SST.png)\n",
    "\n",
    "<br/>\n",
    "\n",
    "#### **Sum of Squares due to Regression (SSR)** <br>\n",
    "\n",
    "  The difference between the predicted value and the dependent variable's mean are referred to as the **Sum of Squares due to Regression (SSR)** or **Explained Sum of Squares (ESS)**.\n",
    "\n",
    "  It can be considered as a metric for describing how well our line fits the data.\n",
    "\n",
    "  If the SSR (or ESS) is equal to the SST (or TSS), the regression model is flawless and captures all observed variability.\n",
    "\n",
    "  $$\n",
    "  SSR = \\sum_{i=1}^{n}(y_i - \\bar{y})^2\n",
    "  $$\n",
    "\n",
    "  ![SSR](https://labcontent.simplicdn.net/data-content/content-assets/Data_and_AI/Applied_Machine_Learning/Images/0.7_Supervised_Learning_-_Regression_and_Classification/Trainer_PPT_and_IPYNB/0.2_Linear_Regression/SSR.png)\n",
    "\n",
    "<br/>\n",
    "\n",
    "#### **Sum of Squares Error (SSE)** <br>\n",
    "\n",
    "  The difference between the observed and predicted values are referred to as the **Sum of Squares Error (SSE)** or **Residual Sum of Squares (RSS)**, where `residual` stands for `remaining` or `unexplained`.\n",
    "\n",
    "  This error must be reduced since the smaller it is, the better the regression's estimation power.\n",
    "\n",
    "  $$\n",
    "  SSE = \\sum_{i=1}^{n}(y_i - \\hat{y}_i)^2\n",
    "  $$\n",
    "\n",
    "  $$\n",
    "  Or\n",
    "  $$\n",
    "\n",
    "  $$\n",
    "  SSE = \\sum_{i=1}^{n}e_i^2\n",
    "  $$\n",
    "\n",
    "  $$\n",
    "  where,\n",
    "  $$\n",
    "  \n",
    "  $$\n",
    "  e_i = (y_i - \\hat{y}_i)\n",
    "  $$\n",
    "\n",
    "  ![SSE](https://labcontent.simplicdn.net/data-content/content-assets/Data_and_AI/Applied_Machine_Learning/Images/0.7_Supervised_Learning_-_Regression_and_Classification/Trainer_PPT_and_IPYNB/0.2_Linear_Regression/SSE.png)\n",
    "\n",
    "<br/>\n",
    "\n",
    "#### **Relation Among SST, SSR, and SSE** <br>\n",
    "\n",
    "  Since certain people use these abbreviations in various ways, it can be very confusing.\n",
    "\n",
    "  We use one of two sets of notations for these abbreviations: SST, SSR, and SSE or TSS, ESS, and RSS.\n",
    "\n",
    "  These equations are related in the following ways:\n",
    "\n",
    "  $$\n",
    "  SST = SSR + SSE\n",
    "  $$\n",
    "\n",
    "  $$Or$$\n",
    "\n",
    "  $$\n",
    "  TSS = ESS + RSS\n",
    "  $$\n",
    "\n",
    "  This is because the overall variability of the dataset is equivalent to the variability described by the regression line and the unknown variability (also known as error).\n",
    "\n",
    "  For a constant total variability, a lower error would result in a better regression. A higher error, on the other hand, would result in a weaker regression. This should always be remembered regardless of the notation set used.\n",
    "\n",
    "  ![Connection](https://labcontent.simplicdn.net/data-content/content-assets/Data_and_AI/Applied_Machine_Learning/Images/0.7_Supervised_Learning_-_Regression_and_Classification/Trainer_PPT_and_IPYNB/0.2_Linear_Regression/Connection.png)\n",
    "\n",
    "<br/>\n",
    "\n",
    "#### **R-Square Matrix** <br>\n",
    "\n",
    "  The determination coefficient also known as **R2 (R-squared) score** is used for the performance evaluation of a linear regression model.\n",
    "\n",
    "  R2 displays the proportion of data points inside the regression equation line.\n",
    "\n",
    "  A higher R2 value means improved results.\n",
    "\n",
    "  It is calculated as follows:\n",
    "\n",
    "  $$\n",
    "  R^2 = 1 - \\frac{SSE}{SSR}\n",
    "  $$\n",
    "\n",
    "  $$\n",
    "  Or\n",
    "  $$\n",
    "\n",
    "  $$\n",
    "  R^2 = 1 - \\frac{RSS}{ESS}\n",
    "  $$\n",
    "\n",
    "  The highest possible score is 1, which is achieved when the predicted and actual values are the same.\n",
    "\n",
    "  The R2 score is 0 for a baseline model.\n",
    "\n",
    "  In the worst-case scenario, the R2 score can also be negative.\n",
    "\n",
    "<br/>\n"
   ]
  },
  {
   "cell_type": "markdown",
   "metadata": {
    "id": "JcMO9bJoQtZ_"
   },
   "source": [
    "#### **Import *statsmodels* Library for Linear Regression**"
   ]
  },
  {
   "cell_type": "code",
   "execution_count": 72,
   "metadata": {
    "id": "dxQrGQ4nQt0p"
   },
   "outputs": [],
   "source": [
    "#Importing the statsmodel library\n",
    "import statsmodels.api as sm"
   ]
  },
  {
   "cell_type": "code",
   "execution_count": 73,
   "metadata": {
    "id": "ZsNHSNlYQ631"
   },
   "outputs": [],
   "source": [
    "#Applying linear regression\n",
    "model1 = sm.OLS(y_train, X_train)"
   ]
  },
  {
   "cell_type": "code",
   "execution_count": 74,
   "metadata": {
    "id": "cNn50TMfQ7FZ"
   },
   "outputs": [],
   "source": [
    "model1 = model1.fit()"
   ]
  },
  {
   "cell_type": "code",
   "execution_count": 75,
   "metadata": {
    "id": "4lFH1DRYQ7MW"
   },
   "outputs": [
    {
     "data": {
      "text/html": [
       "<table class=\"simpletable\">\n",
       "<caption>OLS Regression Results</caption>\n",
       "<tr>\n",
       "  <th>Dep. Variable:</th>         <td>Rating</td>      <th>  R-squared (uncentered):</th>      <td>   0.987</td>\n",
       "</tr>\n",
       "<tr>\n",
       "  <th>Model:</th>                   <td>OLS</td>       <th>  Adj. R-squared (uncentered):</th> <td>   0.987</td>\n",
       "</tr>\n",
       "<tr>\n",
       "  <th>Method:</th>             <td>Least Squares</td>  <th>  F-statistic:       </th>          <td>   3717.</td>\n",
       "</tr>\n",
       "<tr>\n",
       "  <th>Date:</th>             <td>Tue, 03 Jan 2023</td> <th>  Prob (F-statistic):</th>           <td>  0.00</td> \n",
       "</tr>\n",
       "<tr>\n",
       "  <th>Time:</th>                 <td>21:41:06</td>     <th>  Log-Likelihood:    </th>          <td> -4281.7</td>\n",
       "</tr>\n",
       "<tr>\n",
       "  <th>No. Observations:</th>      <td>  6215</td>      <th>  AIC:               </th>          <td>   8811.</td>\n",
       "</tr>\n",
       "<tr>\n",
       "  <th>Df Residuals:</th>          <td>  6091</td>      <th>  BIC:               </th>          <td>   9646.</td>\n",
       "</tr>\n",
       "<tr>\n",
       "  <th>Df Model:</th>              <td>   124</td>      <th>                     </th>              <td> </td>   \n",
       "</tr>\n",
       "<tr>\n",
       "  <th>Covariance Type:</th>      <td>nonrobust</td>    <th>                     </th>              <td> </td>   \n",
       "</tr>\n",
       "</table>\n",
       "<table class=\"simpletable\">\n",
       "<tr>\n",
       "                        <td></td>                          <th>coef</th>     <th>std err</th>      <th>t</th>      <th>P>|t|</th>  <th>[0.025</th>    <th>0.975]</th>  \n",
       "</tr>\n",
       "<tr>\n",
       "  <th>Reviews</th>                                      <td>    0.1752</td> <td>    0.006</td> <td>   28.037</td> <td> 0.000</td> <td>    0.163</td> <td>    0.187</td>\n",
       "</tr>\n",
       "<tr>\n",
       "  <th>Size</th>                                         <td>-2.896e-07</td> <td> 3.37e-07</td> <td>   -0.859</td> <td> 0.391</td> <td>-9.51e-07</td> <td> 3.72e-07</td>\n",
       "</tr>\n",
       "<tr>\n",
       "  <th>Installs</th>                                     <td>   -0.1499</td> <td>    0.006</td> <td>  -24.184</td> <td> 0.000</td> <td>   -0.162</td> <td>   -0.138</td>\n",
       "</tr>\n",
       "<tr>\n",
       "  <th>Price</th>                                        <td>    0.0006</td> <td>    0.003</td> <td>    0.177</td> <td> 0.860</td> <td>   -0.006</td> <td>    0.007</td>\n",
       "</tr>\n",
       "<tr>\n",
       "  <th>Category_AUTO_AND_VEHICLES</th>                   <td>    1.6381</td> <td>    0.125</td> <td>   13.136</td> <td> 0.000</td> <td>    1.394</td> <td>    1.883</td>\n",
       "</tr>\n",
       "<tr>\n",
       "  <th>Category_BEAUTY</th>                              <td>    1.7213</td> <td>    0.128</td> <td>   13.462</td> <td> 0.000</td> <td>    1.471</td> <td>    1.972</td>\n",
       "</tr>\n",
       "<tr>\n",
       "  <th>Category_BOOKS_AND_REFERENCE</th>                 <td>    1.6843</td> <td>    0.122</td> <td>   13.826</td> <td> 0.000</td> <td>    1.445</td> <td>    1.923</td>\n",
       "</tr>\n",
       "<tr>\n",
       "  <th>Category_BUSINESS</th>                            <td>    1.6046</td> <td>    0.121</td> <td>   13.272</td> <td> 0.000</td> <td>    1.368</td> <td>    1.842</td>\n",
       "</tr>\n",
       "<tr>\n",
       "  <th>Category_COMICS</th>                              <td>    2.3786</td> <td>    0.226</td> <td>   10.517</td> <td> 0.000</td> <td>    1.935</td> <td>    2.822</td>\n",
       "</tr>\n",
       "<tr>\n",
       "  <th>Category_COMMUNICATION</th>                       <td>    1.5478</td> <td>    0.121</td> <td>   12.765</td> <td> 0.000</td> <td>    1.310</td> <td>    1.786</td>\n",
       "</tr>\n",
       "<tr>\n",
       "  <th>Category_DATING</th>                              <td>    1.5013</td> <td>    0.122</td> <td>   12.262</td> <td> 0.000</td> <td>    1.261</td> <td>    1.741</td>\n",
       "</tr>\n",
       "<tr>\n",
       "  <th>Category_EDUCATION</th>                           <td>    2.8642</td> <td>    0.251</td> <td>   11.419</td> <td> 0.000</td> <td>    2.373</td> <td>    3.356</td>\n",
       "</tr>\n",
       "<tr>\n",
       "  <th>Category_ENTERTAINMENT</th>                       <td>    2.7757</td> <td>    0.251</td> <td>   11.065</td> <td> 0.000</td> <td>    2.284</td> <td>    3.267</td>\n",
       "</tr>\n",
       "<tr>\n",
       "  <th>Category_EVENTS</th>                              <td>    1.7447</td> <td>    0.126</td> <td>   13.792</td> <td> 0.000</td> <td>    1.497</td> <td>    1.993</td>\n",
       "</tr>\n",
       "<tr>\n",
       "  <th>Category_FAMILY</th>                              <td>    2.8988</td> <td>    0.243</td> <td>   11.920</td> <td> 0.000</td> <td>    2.422</td> <td>    3.376</td>\n",
       "</tr>\n",
       "<tr>\n",
       "  <th>Category_FINANCE</th>                             <td>    1.5685</td> <td>    0.121</td> <td>   12.976</td> <td> 0.000</td> <td>    1.332</td> <td>    1.806</td>\n",
       "</tr>\n",
       "<tr>\n",
       "  <th>Category_FOOD_AND_DRINK</th>                      <td>    1.5993</td> <td>    0.123</td> <td>   13.006</td> <td> 0.000</td> <td>    1.358</td> <td>    1.840</td>\n",
       "</tr>\n",
       "<tr>\n",
       "  <th>Category_GAME</th>                                <td>    3.1390</td> <td>    0.241</td> <td>   13.046</td> <td> 0.000</td> <td>    2.667</td> <td>    3.611</td>\n",
       "</tr>\n",
       "<tr>\n",
       "  <th>Category_HEALTH_AND_FITNESS</th>                  <td>    1.6296</td> <td>    0.121</td> <td>   13.464</td> <td> 0.000</td> <td>    1.392</td> <td>    1.867</td>\n",
       "</tr>\n",
       "<tr>\n",
       "  <th>Category_HOUSE_AND_HOME</th>                      <td>    1.6151</td> <td>    0.124</td> <td>   13.002</td> <td> 0.000</td> <td>    1.372</td> <td>    1.859</td>\n",
       "</tr>\n",
       "<tr>\n",
       "  <th>Category_LIBRARIES_AND_DEMO</th>                  <td>    1.6541</td> <td>    0.125</td> <td>   13.247</td> <td> 0.000</td> <td>    1.409</td> <td>    1.899</td>\n",
       "</tr>\n",
       "<tr>\n",
       "  <th>Category_LIFESTYLE</th>                           <td>    1.5913</td> <td>    0.121</td> <td>   13.156</td> <td> 0.000</td> <td>    1.354</td> <td>    1.828</td>\n",
       "</tr>\n",
       "<tr>\n",
       "  <th>Category_MAPS_AND_NAVIGATION</th>                 <td>    1.5212</td> <td>    0.123</td> <td>   12.399</td> <td> 0.000</td> <td>    1.281</td> <td>    1.762</td>\n",
       "</tr>\n",
       "<tr>\n",
       "  <th>Category_MEDICAL</th>                             <td>    1.6353</td> <td>    0.121</td> <td>   13.543</td> <td> 0.000</td> <td>    1.399</td> <td>    1.872</td>\n",
       "</tr>\n",
       "<tr>\n",
       "  <th>Category_NEWS_AND_MAGAZINES</th>                  <td>    1.5639</td> <td>    0.121</td> <td>   12.897</td> <td> 0.000</td> <td>    1.326</td> <td>    1.802</td>\n",
       "</tr>\n",
       "<tr>\n",
       "  <th>Category_PARENTING</th>                           <td>    2.5348</td> <td>    0.213</td> <td>   11.914</td> <td> 0.000</td> <td>    2.118</td> <td>    2.952</td>\n",
       "</tr>\n",
       "<tr>\n",
       "  <th>Category_PERSONALIZATION</th>                     <td>    1.6774</td> <td>    0.121</td> <td>   13.866</td> <td> 0.000</td> <td>    1.440</td> <td>    1.915</td>\n",
       "</tr>\n",
       "<tr>\n",
       "  <th>Category_PHOTOGRAPHY</th>                         <td>    1.5848</td> <td>    0.121</td> <td>   13.077</td> <td> 0.000</td> <td>    1.347</td> <td>    1.822</td>\n",
       "</tr>\n",
       "<tr>\n",
       "  <th>Category_PRODUCTIVITY</th>                        <td>    1.6213</td> <td>    0.121</td> <td>   13.399</td> <td> 0.000</td> <td>    1.384</td> <td>    1.859</td>\n",
       "</tr>\n",
       "<tr>\n",
       "  <th>Category_SHOPPING</th>                            <td>    1.6088</td> <td>    0.121</td> <td>   13.245</td> <td> 0.000</td> <td>    1.371</td> <td>    1.847</td>\n",
       "</tr>\n",
       "<tr>\n",
       "  <th>Category_SOCIAL</th>                              <td>    1.6116</td> <td>    0.121</td> <td>   13.299</td> <td> 0.000</td> <td>    1.374</td> <td>    1.849</td>\n",
       "</tr>\n",
       "<tr>\n",
       "  <th>Category_SPORTS</th>                              <td>    3.0934</td> <td>    0.421</td> <td>    7.352</td> <td> 0.000</td> <td>    2.269</td> <td>    3.918</td>\n",
       "</tr>\n",
       "<tr>\n",
       "  <th>Category_TOOLS</th>                               <td>    2.1455</td> <td>    0.228</td> <td>    9.412</td> <td> 0.000</td> <td>    1.699</td> <td>    2.592</td>\n",
       "</tr>\n",
       "<tr>\n",
       "  <th>Category_TRAVEL_AND_LOCAL</th>                    <td>    2.1361</td> <td>    0.228</td> <td>    9.359</td> <td> 0.000</td> <td>    1.689</td> <td>    2.583</td>\n",
       "</tr>\n",
       "<tr>\n",
       "  <th>Category_VIDEO_PLAYERS</th>                       <td>    2.8638</td> <td>    0.644</td> <td>    4.444</td> <td> 0.000</td> <td>    1.601</td> <td>    4.127</td>\n",
       "</tr>\n",
       "<tr>\n",
       "  <th>Category_WEATHER</th>                             <td>    1.6195</td> <td>    0.125</td> <td>   12.999</td> <td> 0.000</td> <td>    1.375</td> <td>    1.864</td>\n",
       "</tr>\n",
       "<tr>\n",
       "  <th>Type_Paid</th>                                    <td>   -0.0839</td> <td>    0.032</td> <td>   -2.641</td> <td> 0.008</td> <td>   -0.146</td> <td>   -0.022</td>\n",
       "</tr>\n",
       "<tr>\n",
       "  <th>Content_Rating_Everyone</th>                      <td>    1.3855</td> <td>    0.239</td> <td>    5.807</td> <td> 0.000</td> <td>    0.918</td> <td>    1.853</td>\n",
       "</tr>\n",
       "<tr>\n",
       "  <th>Content_Rating_Everyone_10+</th>                  <td>    1.3848</td> <td>    0.240</td> <td>    5.760</td> <td> 0.000</td> <td>    0.913</td> <td>    1.856</td>\n",
       "</tr>\n",
       "<tr>\n",
       "  <th>Content_Rating_Mature_17+</th>                    <td>    1.3697</td> <td>    0.241</td> <td>    5.689</td> <td> 0.000</td> <td>    0.898</td> <td>    1.842</td>\n",
       "</tr>\n",
       "<tr>\n",
       "  <th>Content_Rating_Teen</th>                          <td>    1.3954</td> <td>    0.239</td> <td>    5.843</td> <td> 0.000</td> <td>    0.927</td> <td>    1.864</td>\n",
       "</tr>\n",
       "<tr>\n",
       "  <th>Content_Rating_Unrated</th>                       <td>    1.3438</td> <td>    0.543</td> <td>    2.477</td> <td> 0.013</td> <td>    0.280</td> <td>    2.407</td>\n",
       "</tr>\n",
       "<tr>\n",
       "  <th>Genres_Action_Action_&_Adventure</th>             <td>    0.2739</td> <td>    0.153</td> <td>    1.793</td> <td> 0.073</td> <td>   -0.026</td> <td>    0.573</td>\n",
       "</tr>\n",
       "<tr>\n",
       "  <th>Genres_Adventure</th>                             <td>   -0.0817</td> <td>    0.078</td> <td>   -1.053</td> <td> 0.292</td> <td>   -0.234</td> <td>    0.070</td>\n",
       "</tr>\n",
       "<tr>\n",
       "  <th>Genres_Adventure_Action_&_Adventure</th>          <td>    0.3259</td> <td>    0.352</td> <td>    0.925</td> <td> 0.355</td> <td>   -0.364</td> <td>    1.016</td>\n",
       "</tr>\n",
       "<tr>\n",
       "  <th>Genres_Adventure_Brain_Games</th>                 <td>    0.5704</td> <td>    0.493</td> <td>    1.157</td> <td> 0.247</td> <td>   -0.396</td> <td>    1.537</td>\n",
       "</tr>\n",
       "<tr>\n",
       "  <th>Genres_Adventure_Education</th>                   <td>    0.0545</td> <td>    0.353</td> <td>    0.155</td> <td> 0.877</td> <td>   -0.637</td> <td>    0.746</td>\n",
       "</tr>\n",
       "<tr>\n",
       "  <th>Genres_Arcade</th>                                <td>    0.0809</td> <td>    0.055</td> <td>    1.466</td> <td> 0.143</td> <td>   -0.027</td> <td>    0.189</td>\n",
       "</tr>\n",
       "<tr>\n",
       "  <th>Genres_Arcade_Action_&_Adventure</th>             <td>    0.2865</td> <td>    0.164</td> <td>    1.746</td> <td> 0.081</td> <td>   -0.035</td> <td>    0.608</td>\n",
       "</tr>\n",
       "<tr>\n",
       "  <th>Genres_Arcade_Pretend_Play</th>                   <td>    0.5474</td> <td>    0.493</td> <td>    1.111</td> <td> 0.267</td> <td>   -0.419</td> <td>    1.513</td>\n",
       "</tr>\n",
       "<tr>\n",
       "  <th>Genres_Art_&_Design</th>                          <td>    3.4662</td> <td>    0.253</td> <td>   13.711</td> <td> 0.000</td> <td>    2.971</td> <td>    3.962</td>\n",
       "</tr>\n",
       "<tr>\n",
       "  <th>Genres_Art_&_Design_Creativity</th>               <td>    2.5998</td> <td>    0.258</td> <td>   10.079</td> <td> 0.000</td> <td>    2.094</td> <td>    3.105</td>\n",
       "</tr>\n",
       "<tr>\n",
       "  <th>Genres_Art_&_Design_Pretend_Play</th>             <td>    3.2802</td> <td>    0.543</td> <td>    6.039</td> <td> 0.000</td> <td>    2.215</td> <td>    4.345</td>\n",
       "</tr>\n",
       "<tr>\n",
       "  <th>Genres_Auto_&_Vehicles</th>                       <td>    1.6381</td> <td>    0.125</td> <td>   13.136</td> <td> 0.000</td> <td>    1.394</td> <td>    1.883</td>\n",
       "</tr>\n",
       "<tr>\n",
       "  <th>Genres_Beauty</th>                                <td>    1.7213</td> <td>    0.128</td> <td>   13.462</td> <td> 0.000</td> <td>    1.471</td> <td>    1.972</td>\n",
       "</tr>\n",
       "<tr>\n",
       "  <th>Genres_Board</th>                                 <td>    0.0196</td> <td>    0.093</td> <td>    0.210</td> <td> 0.834</td> <td>   -0.163</td> <td>    0.202</td>\n",
       "</tr>\n",
       "<tr>\n",
       "  <th>Genres_Board_Action_&_Adventure</th>              <td>    0.0976</td> <td>    0.493</td> <td>    0.198</td> <td> 0.843</td> <td>   -0.868</td> <td>    1.063</td>\n",
       "</tr>\n",
       "<tr>\n",
       "  <th>Genres_Board_Brain_Games</th>                     <td>    0.4762</td> <td>    0.171</td> <td>    2.782</td> <td> 0.005</td> <td>    0.141</td> <td>    0.812</td>\n",
       "</tr>\n",
       "<tr>\n",
       "  <th>Genres_Board_Pretend_Play</th>                    <td> 4.287e-12</td> <td> 2.66e-11</td> <td>    0.161</td> <td> 0.872</td> <td>-4.78e-11</td> <td> 5.64e-11</td>\n",
       "</tr>\n",
       "<tr>\n",
       "  <th>Genres_Books_&_Reference</th>                     <td>    1.6843</td> <td>    0.122</td> <td>   13.826</td> <td> 0.000</td> <td>    1.445</td> <td>    1.923</td>\n",
       "</tr>\n",
       "<tr>\n",
       "  <th>Genres_Books_&_Reference_Education</th>           <td>    0.3094</td> <td>    0.352</td> <td>    0.879</td> <td> 0.380</td> <td>   -0.381</td> <td>    1.000</td>\n",
       "</tr>\n",
       "<tr>\n",
       "  <th>Genres_Business</th>                              <td>    1.6046</td> <td>    0.121</td> <td>   13.272</td> <td> 0.000</td> <td>    1.368</td> <td>    1.842</td>\n",
       "</tr>\n",
       "<tr>\n",
       "  <th>Genres_Card</th>                                  <td>   -0.1032</td> <td>    0.088</td> <td>   -1.175</td> <td> 0.240</td> <td>   -0.275</td> <td>    0.069</td>\n",
       "</tr>\n",
       "<tr>\n",
       "  <th>Genres_Card_Action_&_Adventure</th>               <td>    0.0730</td> <td>    0.353</td> <td>    0.207</td> <td> 0.836</td> <td>   -0.619</td> <td>    0.765</td>\n",
       "</tr>\n",
       "<tr>\n",
       "  <th>Genres_Card_Brain_Games</th>                      <td>    0.7041</td> <td>    0.492</td> <td>    1.430</td> <td> 0.153</td> <td>   -0.261</td> <td>    1.669</td>\n",
       "</tr>\n",
       "<tr>\n",
       "  <th>Genres_Casino</th>                                <td>    0.0818</td> <td>    0.097</td> <td>    0.845</td> <td> 0.398</td> <td>   -0.108</td> <td>    0.272</td>\n",
       "</tr>\n",
       "<tr>\n",
       "  <th>Genres_Casual</th>                                <td>    0.1815</td> <td>    0.082</td> <td>    2.226</td> <td> 0.026</td> <td>    0.022</td> <td>    0.341</td>\n",
       "</tr>\n",
       "<tr>\n",
       "  <th>Genres_Casual_Action_&_Adventure</th>             <td>    0.4097</td> <td>    0.159</td> <td>    2.577</td> <td> 0.010</td> <td>    0.098</td> <td>    0.721</td>\n",
       "</tr>\n",
       "<tr>\n",
       "  <th>Genres_Casual_Brain_Games</th>                    <td>    0.6562</td> <td>    0.185</td> <td>    3.550</td> <td> 0.000</td> <td>    0.294</td> <td>    1.018</td>\n",
       "</tr>\n",
       "<tr>\n",
       "  <th>Genres_Casual_Creativity</th>                     <td>    0.3377</td> <td>    0.227</td> <td>    1.489</td> <td> 0.136</td> <td>   -0.107</td> <td>    0.782</td>\n",
       "</tr>\n",
       "<tr>\n",
       "  <th>Genres_Casual_Education</th>                      <td>    0.3845</td> <td>    0.352</td> <td>    1.092</td> <td> 0.275</td> <td>   -0.306</td> <td>    1.075</td>\n",
       "</tr>\n",
       "<tr>\n",
       "  <th>Genres_Casual_Music_&_Video</th>                  <td>    0.3886</td> <td>    0.493</td> <td>    0.789</td> <td> 0.430</td> <td>   -0.577</td> <td>    1.354</td>\n",
       "</tr>\n",
       "<tr>\n",
       "  <th>Genres_Casual_Pretend_Play</th>                   <td>    0.2678</td> <td>    0.126</td> <td>    2.123</td> <td> 0.034</td> <td>    0.020</td> <td>    0.515</td>\n",
       "</tr>\n",
       "<tr>\n",
       "  <th>Genres_Comics</th>                                <td>    0.8128</td> <td>    0.185</td> <td>    4.385</td> <td> 0.000</td> <td>    0.449</td> <td>    1.176</td>\n",
       "</tr>\n",
       "<tr>\n",
       "  <th>Genres_Comics_Creativity</th>                     <td>    1.5659</td> <td>    0.337</td> <td>    4.653</td> <td> 0.000</td> <td>    0.906</td> <td>    2.226</td>\n",
       "</tr>\n",
       "<tr>\n",
       "  <th>Genres_Communication</th>                         <td>    1.5478</td> <td>    0.121</td> <td>   12.765</td> <td> 0.000</td> <td>    1.310</td> <td>    1.786</td>\n",
       "</tr>\n",
       "<tr>\n",
       "  <th>Genres_Communication_Creativity</th>              <td>    0.4552</td> <td>    0.493</td> <td>    0.924</td> <td> 0.355</td> <td>   -0.510</td> <td>    1.421</td>\n",
       "</tr>\n",
       "<tr>\n",
       "  <th>Genres_Dating</th>                                <td>    1.5013</td> <td>    0.122</td> <td>   12.262</td> <td> 0.000</td> <td>    1.261</td> <td>    1.741</td>\n",
       "</tr>\n",
       "<tr>\n",
       "  <th>Genres_Education</th>                             <td>    0.4813</td> <td>    0.080</td> <td>    5.998</td> <td> 0.000</td> <td>    0.324</td> <td>    0.639</td>\n",
       "</tr>\n",
       "<tr>\n",
       "  <th>Genres_Education_Action_&_Adventure</th>          <td>    0.8246</td> <td>    0.292</td> <td>    2.826</td> <td> 0.005</td> <td>    0.253</td> <td>    1.397</td>\n",
       "</tr>\n",
       "<tr>\n",
       "  <th>Genres_Education_Brain_Games</th>                 <td>    0.3587</td> <td>    0.293</td> <td>    1.223</td> <td> 0.222</td> <td>   -0.216</td> <td>    0.934</td>\n",
       "</tr>\n",
       "<tr>\n",
       "  <th>Genres_Education_Creativity</th>                  <td>    0.7808</td> <td>    0.232</td> <td>    3.370</td> <td> 0.001</td> <td>    0.327</td> <td>    1.235</td>\n",
       "</tr>\n",
       "<tr>\n",
       "  <th>Genres_Education_Education</th>                   <td>    0.5631</td> <td>    0.115</td> <td>    4.894</td> <td> 0.000</td> <td>    0.338</td> <td>    0.789</td>\n",
       "</tr>\n",
       "<tr>\n",
       "  <th>Genres_Education_Music_&_Video</th>               <td>    0.3892</td> <td>    0.493</td> <td>    0.790</td> <td> 0.430</td> <td>   -0.577</td> <td>    1.355</td>\n",
       "</tr>\n",
       "<tr>\n",
       "  <th>Genres_Education_Pretend_Play</th>                <td>    0.5627</td> <td>    0.133</td> <td>    4.236</td> <td> 0.000</td> <td>    0.302</td> <td>    0.823</td>\n",
       "</tr>\n",
       "<tr>\n",
       "  <th>Genres_Educational</th>                           <td>    0.0147</td> <td>    0.125</td> <td>    0.118</td> <td> 0.906</td> <td>   -0.230</td> <td>    0.260</td>\n",
       "</tr>\n",
       "<tr>\n",
       "  <th>Genres_Educational_Action_&_Adventure</th>        <td>    0.3506</td> <td>    0.255</td> <td>    1.377</td> <td> 0.169</td> <td>   -0.149</td> <td>    0.850</td>\n",
       "</tr>\n",
       "<tr>\n",
       "  <th>Genres_Educational_Brain_Games</th>               <td>    0.4424</td> <td>    0.255</td> <td>    1.737</td> <td> 0.082</td> <td>   -0.057</td> <td>    0.942</td>\n",
       "</tr>\n",
       "<tr>\n",
       "  <th>Genres_Educational_Creativity</th>                <td>    0.2078</td> <td>    0.291</td> <td>    0.713</td> <td> 0.476</td> <td>   -0.364</td> <td>    0.779</td>\n",
       "</tr>\n",
       "<tr>\n",
       "  <th>Genres_Educational_Education</th>                 <td>    0.4526</td> <td>    0.118</td> <td>    3.822</td> <td> 0.000</td> <td>    0.221</td> <td>    0.685</td>\n",
       "</tr>\n",
       "<tr>\n",
       "  <th>Genres_Educational_Pretend_Play</th>              <td>    0.3586</td> <td>    0.150</td> <td>    2.391</td> <td> 0.017</td> <td>    0.065</td> <td>    0.653</td>\n",
       "</tr>\n",
       "<tr>\n",
       "  <th>Genres_Entertainment</th>                         <td>    0.2606</td> <td>    0.079</td> <td>    3.294</td> <td> 0.001</td> <td>    0.106</td> <td>    0.416</td>\n",
       "</tr>\n",
       "<tr>\n",
       "  <th>Genres_Entertainment_Action_&_Adventure</th>      <td>    0.3654</td> <td>    0.291</td> <td>    1.256</td> <td> 0.209</td> <td>   -0.205</td> <td>    0.935</td>\n",
       "</tr>\n",
       "<tr>\n",
       "  <th>Genres_Entertainment_Brain_Games</th>             <td>    0.4481</td> <td>    0.199</td> <td>    2.248</td> <td> 0.025</td> <td>    0.057</td> <td>    0.839</td>\n",
       "</tr>\n",
       "<tr>\n",
       "  <th>Genres_Entertainment_Creativity</th>              <td>    0.7096</td> <td>    0.354</td> <td>    2.007</td> <td> 0.045</td> <td>    0.017</td> <td>    1.403</td>\n",
       "</tr>\n",
       "<tr>\n",
       "  <th>Genres_Entertainment_Education</th>               <td>    0.6296</td> <td>    0.493</td> <td>    1.278</td> <td> 0.201</td> <td>   -0.336</td> <td>    1.595</td>\n",
       "</tr>\n",
       "<tr>\n",
       "  <th>Genres_Entertainment_Music_&_Video</th>           <td>    0.4017</td> <td>    0.155</td> <td>    2.598</td> <td> 0.009</td> <td>    0.099</td> <td>    0.705</td>\n",
       "</tr>\n",
       "<tr>\n",
       "  <th>Genres_Entertainment_Pretend_Play</th>            <td>    0.0043</td> <td>    0.352</td> <td>    0.012</td> <td> 0.990</td> <td>   -0.686</td> <td>    0.695</td>\n",
       "</tr>\n",
       "<tr>\n",
       "  <th>Genres_Events</th>                                <td>    1.7447</td> <td>    0.126</td> <td>   13.792</td> <td> 0.000</td> <td>    1.497</td> <td>    1.993</td>\n",
       "</tr>\n",
       "<tr>\n",
       "  <th>Genres_Finance</th>                               <td>    1.5685</td> <td>    0.121</td> <td>   12.976</td> <td> 0.000</td> <td>    1.332</td> <td>    1.806</td>\n",
       "</tr>\n",
       "<tr>\n",
       "  <th>Genres_Food_&_Drink</th>                          <td>    1.5993</td> <td>    0.123</td> <td>   13.006</td> <td> 0.000</td> <td>    1.358</td> <td>    1.840</td>\n",
       "</tr>\n",
       "<tr>\n",
       "  <th>Genres_Health_&_Fitness</th>                      <td>    1.6296</td> <td>    0.121</td> <td>   13.464</td> <td> 0.000</td> <td>    1.392</td> <td>    1.867</td>\n",
       "</tr>\n",
       "<tr>\n",
       "  <th>Genres_Health_&_Fitness_Action_&_Adventure</th>   <td>   -0.1025</td> <td>    0.493</td> <td>   -0.208</td> <td> 0.835</td> <td>   -1.068</td> <td>    0.863</td>\n",
       "</tr>\n",
       "<tr>\n",
       "  <th>Genres_Health_&_Fitness_Education</th>            <td>    0.5455</td> <td>    0.492</td> <td>    1.108</td> <td> 0.268</td> <td>   -0.420</td> <td>    1.511</td>\n",
       "</tr>\n",
       "<tr>\n",
       "  <th>Genres_House_&_Home</th>                          <td>    1.6151</td> <td>    0.124</td> <td>   13.002</td> <td> 0.000</td> <td>    1.372</td> <td>    1.859</td>\n",
       "</tr>\n",
       "<tr>\n",
       "  <th>Genres_Libraries_&_Demo</th>                      <td>    1.6541</td> <td>    0.125</td> <td>   13.247</td> <td> 0.000</td> <td>    1.409</td> <td>    1.899</td>\n",
       "</tr>\n",
       "<tr>\n",
       "  <th>Genres_Lifestyle</th>                             <td>    1.5913</td> <td>    0.121</td> <td>   13.156</td> <td> 0.000</td> <td>    1.354</td> <td>    1.828</td>\n",
       "</tr>\n",
       "<tr>\n",
       "  <th>Genres_Lifestyle_Education</th>                   <td>-2.247e-12</td> <td>  5.1e-12</td> <td>   -0.440</td> <td> 0.660</td> <td>-1.23e-11</td> <td> 7.76e-12</td>\n",
       "</tr>\n",
       "<tr>\n",
       "  <th>Genres_Lifestyle_Pretend_Play</th>                <td> 2.359e-12</td> <td>  1.2e-11</td> <td>    0.197</td> <td> 0.844</td> <td>-2.11e-11</td> <td> 2.59e-11</td>\n",
       "</tr>\n",
       "<tr>\n",
       "  <th>Genres_Maps_&_Navigation</th>                     <td>    1.5212</td> <td>    0.123</td> <td>   12.399</td> <td> 0.000</td> <td>    1.281</td> <td>    1.762</td>\n",
       "</tr>\n",
       "<tr>\n",
       "  <th>Genres_Medical</th>                               <td>    1.6353</td> <td>    0.121</td> <td>   13.543</td> <td> 0.000</td> <td>    1.399</td> <td>    1.872</td>\n",
       "</tr>\n",
       "<tr>\n",
       "  <th>Genres_Music</th>                                 <td>   -0.0491</td> <td>    0.134</td> <td>   -0.365</td> <td> 0.715</td> <td>   -0.313</td> <td>    0.215</td>\n",
       "</tr>\n",
       "<tr>\n",
       "  <th>Genres_Music_&_Audio_Music_&_Video</th>           <td>    0.7194</td> <td>    0.493</td> <td>    1.460</td> <td> 0.144</td> <td>   -0.246</td> <td>    1.685</td>\n",
       "</tr>\n",
       "<tr>\n",
       "  <th>Genres_Music_Music_&_Video</th>                   <td>    0.7628</td> <td>    0.352</td> <td>    2.166</td> <td> 0.030</td> <td>    0.072</td> <td>    1.453</td>\n",
       "</tr>\n",
       "<tr>\n",
       "  <th>Genres_News_&_Magazines</th>                      <td>    1.5639</td> <td>    0.121</td> <td>   12.897</td> <td> 0.000</td> <td>    1.326</td> <td>    1.802</td>\n",
       "</tr>\n",
       "<tr>\n",
       "  <th>Genres_Parenting</th>                             <td>    0.8856</td> <td>    0.142</td> <td>    6.229</td> <td> 0.000</td> <td>    0.607</td> <td>    1.164</td>\n",
       "</tr>\n",
       "<tr>\n",
       "  <th>Genres_Parenting_Brain_Games</th>                 <td> 5.063e-13</td> <td> 4.04e-12</td> <td>    0.125</td> <td> 0.900</td> <td>-7.41e-12</td> <td> 8.42e-12</td>\n",
       "</tr>\n",
       "<tr>\n",
       "  <th>Genres_Parenting_Education</th>                   <td>    0.6841</td> <td>    0.275</td> <td>    2.485</td> <td> 0.013</td> <td>    0.144</td> <td>    1.224</td>\n",
       "</tr>\n",
       "<tr>\n",
       "  <th>Genres_Parenting_Music_&_Video</th>               <td>    0.9651</td> <td>    0.236</td> <td>    4.081</td> <td> 0.000</td> <td>    0.502</td> <td>    1.429</td>\n",
       "</tr>\n",
       "<tr>\n",
       "  <th>Genres_Personalization</th>                       <td>    1.6774</td> <td>    0.121</td> <td>   13.866</td> <td> 0.000</td> <td>    1.440</td> <td>    1.915</td>\n",
       "</tr>\n",
       "<tr>\n",
       "  <th>Genres_Photography</th>                           <td>    1.5848</td> <td>    0.121</td> <td>   13.077</td> <td> 0.000</td> <td>    1.347</td> <td>    1.822</td>\n",
       "</tr>\n",
       "<tr>\n",
       "  <th>Genres_Productivity</th>                          <td>    1.6213</td> <td>    0.121</td> <td>   13.399</td> <td> 0.000</td> <td>    1.384</td> <td>    1.859</td>\n",
       "</tr>\n",
       "<tr>\n",
       "  <th>Genres_Puzzle</th>                                <td>    0.3274</td> <td>    0.077</td> <td>    4.254</td> <td> 0.000</td> <td>    0.177</td> <td>    0.478</td>\n",
       "</tr>\n",
       "<tr>\n",
       "  <th>Genres_Puzzle_Action_&_Adventure</th>             <td>    0.3040</td> <td>    0.230</td> <td>    1.320</td> <td> 0.187</td> <td>   -0.147</td> <td>    0.755</td>\n",
       "</tr>\n",
       "<tr>\n",
       "  <th>Genres_Puzzle_Brain_Games</th>                    <td>    0.4838</td> <td>    0.146</td> <td>    3.311</td> <td> 0.001</td> <td>    0.197</td> <td>    0.770</td>\n",
       "</tr>\n",
       "<tr>\n",
       "  <th>Genres_Puzzle_Creativity</th>                     <td>    0.5716</td> <td>    0.493</td> <td>    1.160</td> <td> 0.246</td> <td>   -0.394</td> <td>    1.537</td>\n",
       "</tr>\n",
       "<tr>\n",
       "  <th>Genres_Puzzle_Education</th>                      <td>    0.8685</td> <td>    0.492</td> <td>    1.764</td> <td> 0.078</td> <td>   -0.097</td> <td>    1.834</td>\n",
       "</tr>\n",
       "<tr>\n",
       "  <th>Genres_Racing</th>                                <td>   -0.0124</td> <td>    0.076</td> <td>   -0.162</td> <td> 0.871</td> <td>   -0.162</td> <td>    0.137</td>\n",
       "</tr>\n",
       "<tr>\n",
       "  <th>Genres_Racing_Action_&_Adventure</th>             <td>    0.4695</td> <td>    0.150</td> <td>    3.126</td> <td> 0.002</td> <td>    0.175</td> <td>    0.764</td>\n",
       "</tr>\n",
       "<tr>\n",
       "  <th>Genres_Racing_Pretend_Play</th>                   <td>    0.9584</td> <td>    0.493</td> <td>    1.945</td> <td> 0.052</td> <td>   -0.008</td> <td>    1.925</td>\n",
       "</tr>\n",
       "<tr>\n",
       "  <th>Genres_Role_Playing</th>                          <td>    0.1774</td> <td>    0.085</td> <td>    2.094</td> <td> 0.036</td> <td>    0.011</td> <td>    0.344</td>\n",
       "</tr>\n",
       "<tr>\n",
       "  <th>Genres_Role_Playing_Action_&_Adventure</th>       <td>    0.3217</td> <td>    0.230</td> <td>    1.399</td> <td> 0.162</td> <td>   -0.129</td> <td>    0.772</td>\n",
       "</tr>\n",
       "<tr>\n",
       "  <th>Genres_Role_Playing_Brain_Games</th>              <td>         0</td> <td>        0</td> <td>      nan</td> <td>   nan</td> <td>        0</td> <td>        0</td>\n",
       "</tr>\n",
       "<tr>\n",
       "  <th>Genres_Role_Playing_Pretend_Play</th>             <td>    0.7804</td> <td>    0.493</td> <td>    1.584</td> <td> 0.113</td> <td>   -0.186</td> <td>    1.746</td>\n",
       "</tr>\n",
       "<tr>\n",
       "  <th>Genres_Shopping</th>                              <td>    1.6088</td> <td>    0.121</td> <td>   13.245</td> <td> 0.000</td> <td>    1.371</td> <td>    1.847</td>\n",
       "</tr>\n",
       "<tr>\n",
       "  <th>Genres_Simulation</th>                            <td>    0.2076</td> <td>    0.082</td> <td>    2.538</td> <td> 0.011</td> <td>    0.047</td> <td>    0.368</td>\n",
       "</tr>\n",
       "<tr>\n",
       "  <th>Genres_Simulation_Action_&_Adventure</th>         <td>    0.4333</td> <td>    0.176</td> <td>    2.460</td> <td> 0.014</td> <td>    0.088</td> <td>    0.779</td>\n",
       "</tr>\n",
       "<tr>\n",
       "  <th>Genres_Simulation_Education</th>                  <td>    0.2594</td> <td>    0.287</td> <td>    0.904</td> <td> 0.366</td> <td>   -0.303</td> <td>    0.822</td>\n",
       "</tr>\n",
       "<tr>\n",
       "  <th>Genres_Simulation_Pretend_Play</th>               <td>    0.2141</td> <td>    0.291</td> <td>    0.737</td> <td> 0.461</td> <td>   -0.355</td> <td>    0.784</td>\n",
       "</tr>\n",
       "<tr>\n",
       "  <th>Genres_Social</th>                                <td>    1.6116</td> <td>    0.121</td> <td>   13.299</td> <td> 0.000</td> <td>    1.374</td> <td>    1.849</td>\n",
       "</tr>\n",
       "<tr>\n",
       "  <th>Genres_Sports</th>                                <td>    0.0669</td> <td>    0.346</td> <td>    0.193</td> <td> 0.847</td> <td>   -0.612</td> <td>    0.746</td>\n",
       "</tr>\n",
       "<tr>\n",
       "  <th>Genres_Sports_Action_&_Adventure</th>             <td>    0.2767</td> <td>    0.291</td> <td>    0.951</td> <td> 0.342</td> <td>   -0.294</td> <td>    0.847</td>\n",
       "</tr>\n",
       "<tr>\n",
       "  <th>Genres_Strategy</th>                              <td>    0.1675</td> <td>    0.095</td> <td>    1.768</td> <td> 0.077</td> <td>   -0.018</td> <td>    0.353</td>\n",
       "</tr>\n",
       "<tr>\n",
       "  <th>Genres_Strategy_Action_&_Adventure</th>           <td>    0.3910</td> <td>    0.493</td> <td>    0.793</td> <td> 0.428</td> <td>   -0.576</td> <td>    1.358</td>\n",
       "</tr>\n",
       "<tr>\n",
       "  <th>Genres_Strategy_Creativity</th>                   <td>         0</td> <td>        0</td> <td>      nan</td> <td>   nan</td> <td>        0</td> <td>        0</td>\n",
       "</tr>\n",
       "<tr>\n",
       "  <th>Genres_Strategy_Education</th>                    <td>    0.8569</td> <td>    0.493</td> <td>    1.740</td> <td> 0.082</td> <td>   -0.109</td> <td>    1.822</td>\n",
       "</tr>\n",
       "<tr>\n",
       "  <th>Genres_Tools</th>                                 <td>    0.9933</td> <td>    0.181</td> <td>    5.473</td> <td> 0.000</td> <td>    0.638</td> <td>    1.349</td>\n",
       "</tr>\n",
       "<tr>\n",
       "  <th>Genres_Tools_Education</th>                       <td>    1.1522</td> <td>    0.334</td> <td>    3.445</td> <td> 0.001</td> <td>    0.497</td> <td>    1.808</td>\n",
       "</tr>\n",
       "<tr>\n",
       "  <th>Genres_Travel_&_Local</th>                        <td>    1.0204</td> <td>    0.183</td> <td>    5.578</td> <td> 0.000</td> <td>    0.662</td> <td>    1.379</td>\n",
       "</tr>\n",
       "<tr>\n",
       "  <th>Genres_Travel_&_Local_Action_&_Adventure</th>     <td>    1.1156</td> <td>    0.335</td> <td>    3.335</td> <td> 0.001</td> <td>    0.460</td> <td>    1.771</td>\n",
       "</tr>\n",
       "<tr>\n",
       "  <th>Genres_Trivia</th>                                <td>   -0.1316</td> <td>    0.108</td> <td>   -1.221</td> <td> 0.222</td> <td>   -0.343</td> <td>    0.080</td>\n",
       "</tr>\n",
       "<tr>\n",
       "  <th>Genres_Video_Players_&_Editors</th>               <td>    0.2532</td> <td>    0.603</td> <td>    0.420</td> <td> 0.675</td> <td>   -0.930</td> <td>    1.436</td>\n",
       "</tr>\n",
       "<tr>\n",
       "  <th>Genres_Video_Players_&_Editors_Creativity</th>    <td>    0.0344</td> <td>    0.493</td> <td>    0.070</td> <td> 0.944</td> <td>   -0.931</td> <td>    1.000</td>\n",
       "</tr>\n",
       "<tr>\n",
       "  <th>Genres_Video_Players_&_Editors_Music_&_Video</th> <td>    0.1329</td> <td>    0.352</td> <td>    0.377</td> <td> 0.706</td> <td>   -0.558</td> <td>    0.823</td>\n",
       "</tr>\n",
       "<tr>\n",
       "  <th>Genres_Weather</th>                               <td>    1.6195</td> <td>    0.125</td> <td>   12.999</td> <td> 0.000</td> <td>    1.375</td> <td>    1.864</td>\n",
       "</tr>\n",
       "<tr>\n",
       "  <th>Genres_Word</th>                                  <td>    0.1096</td> <td>    0.109</td> <td>    1.001</td> <td> 0.317</td> <td>   -0.105</td> <td>    0.324</td>\n",
       "</tr>\n",
       "</table>\n",
       "<table class=\"simpletable\">\n",
       "<tr>\n",
       "  <th>Omnibus:</th>       <td>2313.775</td> <th>  Durbin-Watson:     </th> <td>   2.022</td> \n",
       "</tr>\n",
       "<tr>\n",
       "  <th>Prob(Omnibus):</th>  <td> 0.000</td>  <th>  Jarque-Bera (JB):  </th> <td>13556.581</td>\n",
       "</tr>\n",
       "<tr>\n",
       "  <th>Skew:</th>           <td>-1.673</td>  <th>  Prob(JB):          </th> <td>    0.00</td> \n",
       "</tr>\n",
       "<tr>\n",
       "  <th>Kurtosis:</th>       <td> 9.416</td>  <th>  Cond. No.          </th> <td>5.96e+20</td> \n",
       "</tr>\n",
       "</table><br/><br/>Notes:<br/>[1] R² is computed without centering (uncentered) since the model does not contain a constant.<br/>[2] Standard Errors assume that the covariance matrix of the errors is correctly specified.<br/>[3] The smallest eigenvalue is 1.73e-29. This might indicate that there are<br/>strong multicollinearity problems or that the design matrix is singular."
      ],
      "text/plain": [
       "<class 'statsmodels.iolib.summary.Summary'>\n",
       "\"\"\"\n",
       "                                 OLS Regression Results                                \n",
       "=======================================================================================\n",
       "Dep. Variable:                 Rating   R-squared (uncentered):                   0.987\n",
       "Model:                            OLS   Adj. R-squared (uncentered):              0.987\n",
       "Method:                 Least Squares   F-statistic:                              3717.\n",
       "Date:                Tue, 03 Jan 2023   Prob (F-statistic):                        0.00\n",
       "Time:                        21:41:06   Log-Likelihood:                         -4281.7\n",
       "No. Observations:                6215   AIC:                                      8811.\n",
       "Df Residuals:                    6091   BIC:                                      9646.\n",
       "Df Model:                         124                                                  \n",
       "Covariance Type:            nonrobust                                                  \n",
       "================================================================================================================\n",
       "                                                   coef    std err          t      P>|t|      [0.025      0.975]\n",
       "----------------------------------------------------------------------------------------------------------------\n",
       "Reviews                                          0.1752      0.006     28.037      0.000       0.163       0.187\n",
       "Size                                         -2.896e-07   3.37e-07     -0.859      0.391   -9.51e-07    3.72e-07\n",
       "Installs                                        -0.1499      0.006    -24.184      0.000      -0.162      -0.138\n",
       "Price                                            0.0006      0.003      0.177      0.860      -0.006       0.007\n",
       "Category_AUTO_AND_VEHICLES                       1.6381      0.125     13.136      0.000       1.394       1.883\n",
       "Category_BEAUTY                                  1.7213      0.128     13.462      0.000       1.471       1.972\n",
       "Category_BOOKS_AND_REFERENCE                     1.6843      0.122     13.826      0.000       1.445       1.923\n",
       "Category_BUSINESS                                1.6046      0.121     13.272      0.000       1.368       1.842\n",
       "Category_COMICS                                  2.3786      0.226     10.517      0.000       1.935       2.822\n",
       "Category_COMMUNICATION                           1.5478      0.121     12.765      0.000       1.310       1.786\n",
       "Category_DATING                                  1.5013      0.122     12.262      0.000       1.261       1.741\n",
       "Category_EDUCATION                               2.8642      0.251     11.419      0.000       2.373       3.356\n",
       "Category_ENTERTAINMENT                           2.7757      0.251     11.065      0.000       2.284       3.267\n",
       "Category_EVENTS                                  1.7447      0.126     13.792      0.000       1.497       1.993\n",
       "Category_FAMILY                                  2.8988      0.243     11.920      0.000       2.422       3.376\n",
       "Category_FINANCE                                 1.5685      0.121     12.976      0.000       1.332       1.806\n",
       "Category_FOOD_AND_DRINK                          1.5993      0.123     13.006      0.000       1.358       1.840\n",
       "Category_GAME                                    3.1390      0.241     13.046      0.000       2.667       3.611\n",
       "Category_HEALTH_AND_FITNESS                      1.6296      0.121     13.464      0.000       1.392       1.867\n",
       "Category_HOUSE_AND_HOME                          1.6151      0.124     13.002      0.000       1.372       1.859\n",
       "Category_LIBRARIES_AND_DEMO                      1.6541      0.125     13.247      0.000       1.409       1.899\n",
       "Category_LIFESTYLE                               1.5913      0.121     13.156      0.000       1.354       1.828\n",
       "Category_MAPS_AND_NAVIGATION                     1.5212      0.123     12.399      0.000       1.281       1.762\n",
       "Category_MEDICAL                                 1.6353      0.121     13.543      0.000       1.399       1.872\n",
       "Category_NEWS_AND_MAGAZINES                      1.5639      0.121     12.897      0.000       1.326       1.802\n",
       "Category_PARENTING                               2.5348      0.213     11.914      0.000       2.118       2.952\n",
       "Category_PERSONALIZATION                         1.6774      0.121     13.866      0.000       1.440       1.915\n",
       "Category_PHOTOGRAPHY                             1.5848      0.121     13.077      0.000       1.347       1.822\n",
       "Category_PRODUCTIVITY                            1.6213      0.121     13.399      0.000       1.384       1.859\n",
       "Category_SHOPPING                                1.6088      0.121     13.245      0.000       1.371       1.847\n",
       "Category_SOCIAL                                  1.6116      0.121     13.299      0.000       1.374       1.849\n",
       "Category_SPORTS                                  3.0934      0.421      7.352      0.000       2.269       3.918\n",
       "Category_TOOLS                                   2.1455      0.228      9.412      0.000       1.699       2.592\n",
       "Category_TRAVEL_AND_LOCAL                        2.1361      0.228      9.359      0.000       1.689       2.583\n",
       "Category_VIDEO_PLAYERS                           2.8638      0.644      4.444      0.000       1.601       4.127\n",
       "Category_WEATHER                                 1.6195      0.125     12.999      0.000       1.375       1.864\n",
       "Type_Paid                                       -0.0839      0.032     -2.641      0.008      -0.146      -0.022\n",
       "Content_Rating_Everyone                          1.3855      0.239      5.807      0.000       0.918       1.853\n",
       "Content_Rating_Everyone_10+                      1.3848      0.240      5.760      0.000       0.913       1.856\n",
       "Content_Rating_Mature_17+                        1.3697      0.241      5.689      0.000       0.898       1.842\n",
       "Content_Rating_Teen                              1.3954      0.239      5.843      0.000       0.927       1.864\n",
       "Content_Rating_Unrated                           1.3438      0.543      2.477      0.013       0.280       2.407\n",
       "Genres_Action_Action_&_Adventure                 0.2739      0.153      1.793      0.073      -0.026       0.573\n",
       "Genres_Adventure                                -0.0817      0.078     -1.053      0.292      -0.234       0.070\n",
       "Genres_Adventure_Action_&_Adventure              0.3259      0.352      0.925      0.355      -0.364       1.016\n",
       "Genres_Adventure_Brain_Games                     0.5704      0.493      1.157      0.247      -0.396       1.537\n",
       "Genres_Adventure_Education                       0.0545      0.353      0.155      0.877      -0.637       0.746\n",
       "Genres_Arcade                                    0.0809      0.055      1.466      0.143      -0.027       0.189\n",
       "Genres_Arcade_Action_&_Adventure                 0.2865      0.164      1.746      0.081      -0.035       0.608\n",
       "Genres_Arcade_Pretend_Play                       0.5474      0.493      1.111      0.267      -0.419       1.513\n",
       "Genres_Art_&_Design                              3.4662      0.253     13.711      0.000       2.971       3.962\n",
       "Genres_Art_&_Design_Creativity                   2.5998      0.258     10.079      0.000       2.094       3.105\n",
       "Genres_Art_&_Design_Pretend_Play                 3.2802      0.543      6.039      0.000       2.215       4.345\n",
       "Genres_Auto_&_Vehicles                           1.6381      0.125     13.136      0.000       1.394       1.883\n",
       "Genres_Beauty                                    1.7213      0.128     13.462      0.000       1.471       1.972\n",
       "Genres_Board                                     0.0196      0.093      0.210      0.834      -0.163       0.202\n",
       "Genres_Board_Action_&_Adventure                  0.0976      0.493      0.198      0.843      -0.868       1.063\n",
       "Genres_Board_Brain_Games                         0.4762      0.171      2.782      0.005       0.141       0.812\n",
       "Genres_Board_Pretend_Play                     4.287e-12   2.66e-11      0.161      0.872   -4.78e-11    5.64e-11\n",
       "Genres_Books_&_Reference                         1.6843      0.122     13.826      0.000       1.445       1.923\n",
       "Genres_Books_&_Reference_Education               0.3094      0.352      0.879      0.380      -0.381       1.000\n",
       "Genres_Business                                  1.6046      0.121     13.272      0.000       1.368       1.842\n",
       "Genres_Card                                     -0.1032      0.088     -1.175      0.240      -0.275       0.069\n",
       "Genres_Card_Action_&_Adventure                   0.0730      0.353      0.207      0.836      -0.619       0.765\n",
       "Genres_Card_Brain_Games                          0.7041      0.492      1.430      0.153      -0.261       1.669\n",
       "Genres_Casino                                    0.0818      0.097      0.845      0.398      -0.108       0.272\n",
       "Genres_Casual                                    0.1815      0.082      2.226      0.026       0.022       0.341\n",
       "Genres_Casual_Action_&_Adventure                 0.4097      0.159      2.577      0.010       0.098       0.721\n",
       "Genres_Casual_Brain_Games                        0.6562      0.185      3.550      0.000       0.294       1.018\n",
       "Genres_Casual_Creativity                         0.3377      0.227      1.489      0.136      -0.107       0.782\n",
       "Genres_Casual_Education                          0.3845      0.352      1.092      0.275      -0.306       1.075\n",
       "Genres_Casual_Music_&_Video                      0.3886      0.493      0.789      0.430      -0.577       1.354\n",
       "Genres_Casual_Pretend_Play                       0.2678      0.126      2.123      0.034       0.020       0.515\n",
       "Genres_Comics                                    0.8128      0.185      4.385      0.000       0.449       1.176\n",
       "Genres_Comics_Creativity                         1.5659      0.337      4.653      0.000       0.906       2.226\n",
       "Genres_Communication                             1.5478      0.121     12.765      0.000       1.310       1.786\n",
       "Genres_Communication_Creativity                  0.4552      0.493      0.924      0.355      -0.510       1.421\n",
       "Genres_Dating                                    1.5013      0.122     12.262      0.000       1.261       1.741\n",
       "Genres_Education                                 0.4813      0.080      5.998      0.000       0.324       0.639\n",
       "Genres_Education_Action_&_Adventure              0.8246      0.292      2.826      0.005       0.253       1.397\n",
       "Genres_Education_Brain_Games                     0.3587      0.293      1.223      0.222      -0.216       0.934\n",
       "Genres_Education_Creativity                      0.7808      0.232      3.370      0.001       0.327       1.235\n",
       "Genres_Education_Education                       0.5631      0.115      4.894      0.000       0.338       0.789\n",
       "Genres_Education_Music_&_Video                   0.3892      0.493      0.790      0.430      -0.577       1.355\n",
       "Genres_Education_Pretend_Play                    0.5627      0.133      4.236      0.000       0.302       0.823\n",
       "Genres_Educational                               0.0147      0.125      0.118      0.906      -0.230       0.260\n",
       "Genres_Educational_Action_&_Adventure            0.3506      0.255      1.377      0.169      -0.149       0.850\n",
       "Genres_Educational_Brain_Games                   0.4424      0.255      1.737      0.082      -0.057       0.942\n",
       "Genres_Educational_Creativity                    0.2078      0.291      0.713      0.476      -0.364       0.779\n",
       "Genres_Educational_Education                     0.4526      0.118      3.822      0.000       0.221       0.685\n",
       "Genres_Educational_Pretend_Play                  0.3586      0.150      2.391      0.017       0.065       0.653\n",
       "Genres_Entertainment                             0.2606      0.079      3.294      0.001       0.106       0.416\n",
       "Genres_Entertainment_Action_&_Adventure          0.3654      0.291      1.256      0.209      -0.205       0.935\n",
       "Genres_Entertainment_Brain_Games                 0.4481      0.199      2.248      0.025       0.057       0.839\n",
       "Genres_Entertainment_Creativity                  0.7096      0.354      2.007      0.045       0.017       1.403\n",
       "Genres_Entertainment_Education                   0.6296      0.493      1.278      0.201      -0.336       1.595\n",
       "Genres_Entertainment_Music_&_Video               0.4017      0.155      2.598      0.009       0.099       0.705\n",
       "Genres_Entertainment_Pretend_Play                0.0043      0.352      0.012      0.990      -0.686       0.695\n",
       "Genres_Events                                    1.7447      0.126     13.792      0.000       1.497       1.993\n",
       "Genres_Finance                                   1.5685      0.121     12.976      0.000       1.332       1.806\n",
       "Genres_Food_&_Drink                              1.5993      0.123     13.006      0.000       1.358       1.840\n",
       "Genres_Health_&_Fitness                          1.6296      0.121     13.464      0.000       1.392       1.867\n",
       "Genres_Health_&_Fitness_Action_&_Adventure      -0.1025      0.493     -0.208      0.835      -1.068       0.863\n",
       "Genres_Health_&_Fitness_Education                0.5455      0.492      1.108      0.268      -0.420       1.511\n",
       "Genres_House_&_Home                              1.6151      0.124     13.002      0.000       1.372       1.859\n",
       "Genres_Libraries_&_Demo                          1.6541      0.125     13.247      0.000       1.409       1.899\n",
       "Genres_Lifestyle                                 1.5913      0.121     13.156      0.000       1.354       1.828\n",
       "Genres_Lifestyle_Education                   -2.247e-12    5.1e-12     -0.440      0.660   -1.23e-11    7.76e-12\n",
       "Genres_Lifestyle_Pretend_Play                 2.359e-12    1.2e-11      0.197      0.844   -2.11e-11    2.59e-11\n",
       "Genres_Maps_&_Navigation                         1.5212      0.123     12.399      0.000       1.281       1.762\n",
       "Genres_Medical                                   1.6353      0.121     13.543      0.000       1.399       1.872\n",
       "Genres_Music                                    -0.0491      0.134     -0.365      0.715      -0.313       0.215\n",
       "Genres_Music_&_Audio_Music_&_Video               0.7194      0.493      1.460      0.144      -0.246       1.685\n",
       "Genres_Music_Music_&_Video                       0.7628      0.352      2.166      0.030       0.072       1.453\n",
       "Genres_News_&_Magazines                          1.5639      0.121     12.897      0.000       1.326       1.802\n",
       "Genres_Parenting                                 0.8856      0.142      6.229      0.000       0.607       1.164\n",
       "Genres_Parenting_Brain_Games                  5.063e-13   4.04e-12      0.125      0.900   -7.41e-12    8.42e-12\n",
       "Genres_Parenting_Education                       0.6841      0.275      2.485      0.013       0.144       1.224\n",
       "Genres_Parenting_Music_&_Video                   0.9651      0.236      4.081      0.000       0.502       1.429\n",
       "Genres_Personalization                           1.6774      0.121     13.866      0.000       1.440       1.915\n",
       "Genres_Photography                               1.5848      0.121     13.077      0.000       1.347       1.822\n",
       "Genres_Productivity                              1.6213      0.121     13.399      0.000       1.384       1.859\n",
       "Genres_Puzzle                                    0.3274      0.077      4.254      0.000       0.177       0.478\n",
       "Genres_Puzzle_Action_&_Adventure                 0.3040      0.230      1.320      0.187      -0.147       0.755\n",
       "Genres_Puzzle_Brain_Games                        0.4838      0.146      3.311      0.001       0.197       0.770\n",
       "Genres_Puzzle_Creativity                         0.5716      0.493      1.160      0.246      -0.394       1.537\n",
       "Genres_Puzzle_Education                          0.8685      0.492      1.764      0.078      -0.097       1.834\n",
       "Genres_Racing                                   -0.0124      0.076     -0.162      0.871      -0.162       0.137\n",
       "Genres_Racing_Action_&_Adventure                 0.4695      0.150      3.126      0.002       0.175       0.764\n",
       "Genres_Racing_Pretend_Play                       0.9584      0.493      1.945      0.052      -0.008       1.925\n",
       "Genres_Role_Playing                              0.1774      0.085      2.094      0.036       0.011       0.344\n",
       "Genres_Role_Playing_Action_&_Adventure           0.3217      0.230      1.399      0.162      -0.129       0.772\n",
       "Genres_Role_Playing_Brain_Games                       0          0        nan        nan           0           0\n",
       "Genres_Role_Playing_Pretend_Play                 0.7804      0.493      1.584      0.113      -0.186       1.746\n",
       "Genres_Shopping                                  1.6088      0.121     13.245      0.000       1.371       1.847\n",
       "Genres_Simulation                                0.2076      0.082      2.538      0.011       0.047       0.368\n",
       "Genres_Simulation_Action_&_Adventure             0.4333      0.176      2.460      0.014       0.088       0.779\n",
       "Genres_Simulation_Education                      0.2594      0.287      0.904      0.366      -0.303       0.822\n",
       "Genres_Simulation_Pretend_Play                   0.2141      0.291      0.737      0.461      -0.355       0.784\n",
       "Genres_Social                                    1.6116      0.121     13.299      0.000       1.374       1.849\n",
       "Genres_Sports                                    0.0669      0.346      0.193      0.847      -0.612       0.746\n",
       "Genres_Sports_Action_&_Adventure                 0.2767      0.291      0.951      0.342      -0.294       0.847\n",
       "Genres_Strategy                                  0.1675      0.095      1.768      0.077      -0.018       0.353\n",
       "Genres_Strategy_Action_&_Adventure               0.3910      0.493      0.793      0.428      -0.576       1.358\n",
       "Genres_Strategy_Creativity                            0          0        nan        nan           0           0\n",
       "Genres_Strategy_Education                        0.8569      0.493      1.740      0.082      -0.109       1.822\n",
       "Genres_Tools                                     0.9933      0.181      5.473      0.000       0.638       1.349\n",
       "Genres_Tools_Education                           1.1522      0.334      3.445      0.001       0.497       1.808\n",
       "Genres_Travel_&_Local                            1.0204      0.183      5.578      0.000       0.662       1.379\n",
       "Genres_Travel_&_Local_Action_&_Adventure         1.1156      0.335      3.335      0.001       0.460       1.771\n",
       "Genres_Trivia                                   -0.1316      0.108     -1.221      0.222      -0.343       0.080\n",
       "Genres_Video_Players_&_Editors                   0.2532      0.603      0.420      0.675      -0.930       1.436\n",
       "Genres_Video_Players_&_Editors_Creativity        0.0344      0.493      0.070      0.944      -0.931       1.000\n",
       "Genres_Video_Players_&_Editors_Music_&_Video     0.1329      0.352      0.377      0.706      -0.558       0.823\n",
       "Genres_Weather                                   1.6195      0.125     12.999      0.000       1.375       1.864\n",
       "Genres_Word                                      0.1096      0.109      1.001      0.317      -0.105       0.324\n",
       "==============================================================================\n",
       "Omnibus:                     2313.775   Durbin-Watson:                   2.022\n",
       "Prob(Omnibus):                  0.000   Jarque-Bera (JB):            13556.581\n",
       "Skew:                          -1.673   Prob(JB):                         0.00\n",
       "Kurtosis:                       9.416   Cond. No.                     5.96e+20\n",
       "==============================================================================\n",
       "\n",
       "Notes:\n",
       "[1] R² is computed without centering (uncentered) since the model does not contain a constant.\n",
       "[2] Standard Errors assume that the covariance matrix of the errors is correctly specified.\n",
       "[3] The smallest eigenvalue is 1.73e-29. This might indicate that there are\n",
       "strong multicollinearity problems or that the design matrix is singular.\n",
       "\"\"\""
      ]
     },
     "execution_count": 75,
     "metadata": {},
     "output_type": "execute_result"
    }
   ],
   "source": [
    "#Finding the summary\n",
    "model1.summary()"
   ]
  },
  {
   "cell_type": "markdown",
   "metadata": {
    "id": "N084Cy8E7o6M"
   },
   "source": [
    "#### **Identified values for *model1*:**"
   ]
  },
  {
   "cell_type": "markdown",
   "metadata": {
    "id": "kOBM-LSgYvsS"
   },
   "source": [
    "* **$R^2$ (uncentered): 0.987**\n",
    "\n",
    "  **Overview of $R^2$ (R-square):**\n",
    "  ![R-square](https://labcontent.simplicdn.net/data-content/content-assets/Data_and_AI/Applied_Machine_Learning/Images/0.7_Supervised_Learning_-_Regression_and_Classification/Trainer_PPT_and_IPYNB/0.2_Linear_Regression/R-square.JPG)"
   ]
  },
  {
   "cell_type": "markdown",
   "metadata": {
    "id": "SMeoNzybJW2u"
   },
   "source": [
    "* **Adjusted $R^2$ (uncentered): 0.987**\n",
    "\n",
    "  **Overview of adjusted $R^2$:**\n",
    "\n",
    "  The disadvantage with R-squared is that it assumes every independent variable in the model and explains variations in the dependent variable.\n",
    "Use adjusted R-squared when working on a multiple linear regression problem.\n",
    "\n",
    "  ![Adj R-square](https://labcontent.simplicdn.net/data-content/content-assets/Data_and_AI/Applied_Machine_Learning/Images/0.7_Supervised_Learning_-_Regression_and_Classification/Trainer_PPT_and_IPYNB/0.2_Linear_Regression/Adj%20R-square.JPG)\n"
   ]
  },
  {
   "cell_type": "markdown",
   "metadata": {
    "id": "jOPn8cahJ79r"
   },
   "source": [
    "* **F-statistic: 3717**\n",
    "  \n",
    "  **Overview of F-statistic:**\n",
    "\n",
    "  The F-test indicates whether the linear regression model provides a better fit to the data in comparison to a model that contains no independent variables.\n",
    "  \n",
    "    Note: In general, the models with high F-statistic are considered as optimum.\n",
    "\n",
    "  An F-test provides 2 values:\n",
    "  * F-critical: This value is also called as F statistic\n",
    "  * F-value: This value is without the “critical” part\n",
    "  \n",
    "    Note: The F-value is always observed along with the p-value. In general, the higher the F-value of a variable, the lesser the p-value.\n"
   ]
  },
  {
   "cell_type": "markdown",
   "metadata": {
    "id": "skY89YvRP1Iw"
   },
   "source": [
    "* **AIC: 8811**\n",
    "\n",
    "* **BIC: 9646**\n",
    "\n",
    "  **Overview of AIC and BIC:**\n",
    "\n",
    "  * AIC and BIC are penalized-likelihood criteria.\n",
    "\n",
    "  * They are used for selecting the best predictor subsets in regression and comparing the nonnested models.\n",
    "\n",
    "  * AIC: \"It is an estimate of a constant plus the relative distance between the unknown true likelihood function of the data and the fitted likelihood function of the model.\" \n",
    "\n",
    "  * BIC: \"It is an estimate of a function of the posterior probability of a model being true, under a certain Bayesian setup.\"\n",
    "\n",
    "\n",
    "    Source: https://www.methodology.psu.edu/resources/AIC-vs-BIC/\n",
    "\n",
    "\n",
    "\n",
    "* **Formula:**\n",
    "\n",
    "  The AIC or BIC for a model is usually written in the form:\n",
    "  \n",
    "  **$[-2logL + kp]$**\n",
    "  \n",
    "  Where: \n",
    "    * L = likelihood function\n",
    "    * p = number of parameters in the model\n",
    "    * k = 2 for AIC and log(n) for BIC\n",
    "\n",
    "\n",
    "* In popular opinion:\n",
    "  * Lower AIC tells that the model is closer to the truth\n",
    "  * Lower BIC tells that the model is more likely to be the true model"
   ]
  },
  {
   "cell_type": "markdown",
   "metadata": {
    "id": "Dkq-ZXdaHSse"
   },
   "source": [
    "#### **Prediction and evaluation using \"model1\"**"
   ]
  },
  {
   "cell_type": "code",
   "execution_count": 76,
   "metadata": {
    "id": "Fzq7EnrcC1Ds"
   },
   "outputs": [],
   "source": [
    "#Prediction and evaluation\n",
    "import sklearn.metrics as metrics\n",
    "y_test_pred= model1.predict(X_test)"
   ]
  },
  {
   "cell_type": "markdown",
   "metadata": {
    "id": "SPi02JkAMRfr"
   },
   "source": [
    "**Metrics used for regression models:**\n",
    "<br><br>\n",
    "\n",
    "![RMSE1](https://labcontent.simplicdn.net/data-content/content-assets/Data_and_AI/Applied_Machine_Learning/Images/0.7_Supervised_Learning_-_Regression_and_Classification/Trainer_PPT_and_IPYNB/0.2_Linear_Regression/RMSE1.JPG)\n",
    "\n",
    "\n",
    "Lower values of RMSE indicate better fit."
   ]
  },
  {
   "cell_type": "code",
   "execution_count": 77,
   "metadata": {
    "id": "-JkJCMsBHWi6"
   },
   "outputs": [
    {
     "name": "stdout",
     "output_type": "stream",
     "text": [
      "0.49203326281977844\n"
     ]
    }
   ],
   "source": [
    "#Assessing the model using RMSE\n",
    "print(np.sqrt(metrics.mean_squared_error(y_test, y_test_pred)))\n",
    "\n",
    "#RMSE of \"model1\" = 0.49203326281981113"
   ]
  },
  {
   "cell_type": "markdown",
   "metadata": {
    "id": "Ddo_2E0Ja9iO"
   },
   "source": [
    "#### **MPE:**\n",
    "\n",
    "Mean Percentage Error measures the errors that indicate whether or not the prediction is biased. \n",
    "\n",
    "Bias is one component of the mean squared error and is measured as the variance of the errors plus the square of the mean error. \n",
    "\n",
    "$$MSE = VAR(E) + (MPE)^2$$\n",
    "\n",
    "Therefore, minimizing the MSE will implicitly minimize the bias and the variance of the errors.\n",
    "\n",
    "\n",
    "MPE is the computed average of percentage errors by which prediction of a model differ from actual values of the quantity being predicted.\n",
    "\n",
    "Formula:\n",
    "\n",
    "$$MPE=\\ \\frac{100\\%}{n}\\ \\sum^{n}_{i=1}\\ \\frac{a_i - p_i}{a_i}$$\n",
    "\n",
    "\n",
    "Where:\n",
    "* $a_i$ = Actual value of the quantity being predicted\n",
    "* $p_i$ = Predicted value\n",
    "* $n$ = Number of different times for which the variable is predicted"
   ]
  },
  {
   "cell_type": "code",
   "execution_count": 78,
   "metadata": {
    "id": "LImD-epui9UM"
   },
   "outputs": [
    {
     "name": "stdout",
     "output_type": "stream",
     "text": [
      "MPE: -2.5730378350621823\n"
     ]
    }
   ],
   "source": [
    "#Calculating MPE\n",
    "def MPE(y_test_pred,y_test):\n",
    "    return ( ((y_test - y_test_pred) / y_test).mean()) * 100\n",
    "\n",
    "print ('MPE: ' + str(MPE(y_test_pred,y_test)) )"
   ]
  },
  {
   "cell_type": "markdown",
   "metadata": {
    "id": "lMITDPOra_sG"
   },
   "source": [
    "#### **MAPE:**\n",
    "\n",
    "Mean Absolute Percentage Error measures the prediction accuracy of a model.\n",
    "\n",
    "Formula:\n",
    "\n",
    "$$MAPE\\ =\\ \\frac{1}{n}\\ \\sum^{n}_{i=1}\\ \\frac{|A_i-P_i|}{|A_i|}$$\n",
    "\n",
    "Where:\n",
    "* $A_i$ = Actual value of the quantity being predicted\n",
    "* $P_i$ = Predicted value\n",
    "* $n$ = Number of different times for which the variable is predicted\n",
    "\n",
    "\n",
    "<br><br>\n",
    "Mean Absolute Percentage Error is similar to Mean Absolute Error but is normalized by true observation.\n",
    "\n",
    "The mean absolute percentage error is useful for reporting purpose and is expressed in generic percentage terms.\n",
    "\n",
    "<br><br>\n",
    "Note: In general, the desirable MAPE value is less than 20.\n"
   ]
  },
  {
   "cell_type": "code",
   "execution_count": 79,
   "metadata": {
    "id": "SXnEMol7GHBy"
   },
   "outputs": [
    {
     "name": "stdout",
     "output_type": "stream",
     "text": [
      "MAPE: 9.490934337924141\n"
     ]
    }
   ],
   "source": [
    "#Calculating MAPE\n",
    "def MAPE(y_test_pred,y_test):\n",
    "    return np.mean(np.abs((y_test - y_test_pred) / y_test)) * 100\n",
    "    \n",
    "print ('MAPE: ' + str(MAPE(y_test_pred,y_test)) )"
   ]
  },
  {
   "cell_type": "markdown",
   "metadata": {
    "id": "u4vAfEDV1fiC"
   },
   "source": [
    "#### **Reiterating the Model**"
   ]
  },
  {
   "cell_type": "markdown",
   "metadata": {
    "id": "U860p5LSXKc9"
   },
   "source": [
    "**1. Feature selection using p-value:**"
   ]
  },
  {
   "cell_type": "markdown",
   "metadata": {
    "id": "apZf_-JaIWd_"
   },
   "source": [
    "In regression analysis, p-values and coefficients together indicate which relationships in the model are statistically significant and the nature of those relationships.\n",
    "\n",
    "\n",
    "Coefficients describe the mathematical relationship between each independent variable and the dependent variable.\n",
    "\n",
    "p-values for the coefficients indicate whether these relationships are statistically significant.\n"
   ]
  },
  {
   "cell_type": "markdown",
   "metadata": {
    "id": "tz7pyGTuXM1Z"
   },
   "source": [
    "In general, the threshold for the p-value is taken as $\\leq$ 0.05.\n",
    "\n",
    "\n",
    "Let's find the variable with value $\\leq$ 0.05."
   ]
  },
  {
   "cell_type": "markdown",
   "metadata": {
    "id": "zMigGqNa2DNR"
   },
   "source": [
    "**2. List:**\n",
    "\n",
    "Identified 99 variables that have p-value $\\leq$ 0.05."
   ]
  },
  {
   "cell_type": "markdown",
   "metadata": {
    "id": "hagJwcIm2LMJ"
   },
   "source": [
    "'Rating','Reviews','Installs','Category_AUTO_AND_VEHICLES','Category_BEAUTY','Category_BOOKS_AND_REFERENCE','Category_BUSINESS','Category_COMICS','Category_COMMUNICATION','Category_DATING','Category_EDUCATION','Category_EDUCATION','Category_ENTERTAINMENT','Category_EVENTS','Category_FAMILY','Category_FINANCE','Category_FOOD_AND_DRINK','Category_GAME','Category_HEALTH_AND_FITNESS','Category_HOUSE_AND_HOME','Category_LIBRARIES_AND_DEMO','Category_LIFESTYLE','Category_MAPS_AND_NAVIGATION','Category_MEDICAL','Category_NEWS_AND_MAGAZINES','Category_PARENTING','Category_PERSONALIZATION','Category_PHOTOGRAPHY','Category_PRODUCTIVITY','Category_SHOPPING','Category_SOCIAL','Category_SPORTS','Category_TOOLS','Category_TRAVEL_AND_LOCAL','Category_VIDEO_PLAYERS','Category_WEATHER','Type_Paid','Content_Rating_Everyone','Content_Rating_Everyone_10+','Content_Rating_Mature_17+','Content_Rating_Teen','Content_Rating_Unrated','Genres_Art_&_Design','Genres_Art_&_Design;Creativity','Genres_Art_&_Design;Pretend_Play','Genres_Auto_&_Vehicles','Genres_Beauty','Genres_Board;Brain_Games','Genres_Books_&_Reference','Genres_Business','Genres_Casual','Genres_Casual;Action_&_Adventure','Genres_Casual;Brain_Games','Genres_Casual;Pretend_Play','Genres_Comics','Genres_Comics;Creativity','Genres_Communication','Genres_Dating','Genres_Education','Genres_Education;Action_&_Adventure','Genres_Education;Creativity','Genres_Education;Education','Genres_Education;Pretend_Play','Genres_Educational;Education','Genres_Educational;Pretend_Play','Genres_Entertainment','Genres_Entertainment;Brain_Games','Genres_Entertainment;Creativity','Genres_Entertainment;Music_&_Video','Genres_Events','Genres_Finance','Genres_Food_&_Drink','Genres_Health_&_Fitness','Genres_House_&_Home','Genres_Libraries_&_Demo','Genres_Lifestyle','Genres_Maps_&_Navigation','Genres_Medical','Genres_Music;Music_&_Video','Genres_News_&_Magazines','Genres_Parenting','Genres_Parenting;Education','Genres_Parenting;Music_&_Video','Genres_Personalization','Genres_Photography','Genres_Productivity','Genres_Puzzle','Genres_Puzzle;Brain_Games','Genres_Racing;Action_&_Adventure','Genres_Role_Playing','Genres_Shopping','Genres_Simulation','Genres_Simulation;Action_&_Adventure','Genres_Social','Genres_Strategy','Genres_Tools','Genres_Tools;Education','Genres_Travel_&_Local','Genres_Travel_&_Local;Action_&_Adventure','Genres_Weather'"
   ]
  },
  {
   "cell_type": "markdown",
   "metadata": {
    "id": "6fO0v8HT2ZGA"
   },
   "source": [
    "**3. Create a new dataset with chosen variables and split it into training and testing dataset**"
   ]
  },
  {
   "cell_type": "code",
   "execution_count": 80,
   "metadata": {
    "id": "g6POnvM_bt9n"
   },
   "outputs": [],
   "source": [
    "#Create inp3\n",
    "inp3 = inp2[['Rating','Reviews','Installs','Category_AUTO_AND_VEHICLES','Category_BEAUTY',\n",
    "             'Category_BOOKS_AND_REFERENCE','Category_BUSINESS','Category_COMICS',\n",
    "             'Category_COMMUNICATION','Category_DATING','Category_EDUCATION','Category_EDUCATION',\n",
    "             'Category_ENTERTAINMENT','Category_EVENTS','Category_FAMILY','Category_FINANCE',\n",
    "             'Category_FOOD_AND_DRINK','Category_GAME','Category_HEALTH_AND_FITNESS',\n",
    "             'Category_HOUSE_AND_HOME','Category_LIBRARIES_AND_DEMO','Category_LIFESTYLE',\n",
    "             'Category_MAPS_AND_NAVIGATION','Category_MEDICAL','Category_NEWS_AND_MAGAZINES',\n",
    "             'Category_PARENTING','Category_PERSONALIZATION','Category_PHOTOGRAPHY','Category_PRODUCTIVITY',\n",
    "             'Category_SHOPPING','Category_SOCIAL','Category_SPORTS','Category_TOOLS','Category_TRAVEL_AND_LOCAL',\n",
    "             'Category_VIDEO_PLAYERS','Category_WEATHER','Type_Paid','Content_Rating_Everyone',\n",
    "             'Content_Rating_Everyone_10+','Content_Rating_Mature_17+','Content_Rating_Teen','Content_Rating_Unrated',\n",
    "             'Genres_Art_&_Design','Genres_Art_&_Design_Creativity','Genres_Art_&_Design_Pretend_Play',\n",
    "             'Genres_Auto_&_Vehicles','Genres_Beauty','Genres_Board_Brain_Games','Genres_Books_&_Reference',\n",
    "             'Genres_Business','Genres_Casual','Genres_Casual_Action_&_Adventure','Genres_Casual_Brain_Games',\n",
    "             'Genres_Casual_Pretend_Play','Genres_Comics','Genres_Comics_Creativity','Genres_Communication',\n",
    "             'Genres_Dating','Genres_Education','Genres_Education_Action_&_Adventure','Genres_Education_Creativity',\n",
    "             'Genres_Education_Education','Genres_Education_Pretend_Play','Genres_Educational_Education',\n",
    "             'Genres_Educational_Pretend_Play','Genres_Entertainment','Genres_Entertainment_Brain_Games',\n",
    "             'Genres_Entertainment_Creativity','Genres_Entertainment_Music_&_Video','Genres_Events',\n",
    "             'Genres_Finance','Genres_Food_&_Drink','Genres_Health_&_Fitness','Genres_House_&_Home',\n",
    "             'Genres_Libraries_&_Demo','Genres_Lifestyle','Genres_Maps_&_Navigation','Genres_Medical',\n",
    "             'Genres_Music_Music_&_Video','Genres_News_&_Magazines','Genres_Parenting','Genres_Parenting_Education',\n",
    "             'Genres_Parenting_Music_&_Video','Genres_Personalization','Genres_Photography','Genres_Productivity',\n",
    "             'Genres_Puzzle','Genres_Puzzle_Brain_Games','Genres_Racing_Action_&_Adventure','Genres_Role_Playing',\n",
    "             'Genres_Shopping','Genres_Simulation','Genres_Simulation_Action_&_Adventure','Genres_Social',\n",
    "             'Genres_Strategy','Genres_Tools','Genres_Tools_Education','Genres_Travel_&_Local',\n",
    "             'Genres_Travel_&_Local_Action_&_Adventure','Genres_Weather']]"
   ]
  },
  {
   "cell_type": "code",
   "execution_count": 81,
   "metadata": {
    "id": "KZl6k3LY2jBF"
   },
   "outputs": [
    {
     "data": {
      "text/plain": [
       "Rating                                      float64\n",
       "Reviews                                     float64\n",
       "Installs                                    float64\n",
       "Category_AUTO_AND_VEHICLES                    uint8\n",
       "Category_BEAUTY                               uint8\n",
       "                                             ...   \n",
       "Genres_Tools                                  uint8\n",
       "Genres_Tools_Education                        uint8\n",
       "Genres_Travel_&_Local                         uint8\n",
       "Genres_Travel_&_Local_Action_&_Adventure      uint8\n",
       "Genres_Weather                                uint8\n",
       "Length: 100, dtype: object"
      ]
     },
     "execution_count": 81,
     "metadata": {},
     "output_type": "execute_result"
    }
   ],
   "source": [
    "#Checking datatypes\n",
    "inp3.dtypes"
   ]
  },
  {
   "cell_type": "code",
   "execution_count": 82,
   "metadata": {
    "id": "hgjEdGCA3oZ5"
   },
   "outputs": [
    {
     "data": {
      "text/plain": [
       "(8879, 100)"
      ]
     },
     "execution_count": 82,
     "metadata": {},
     "output_type": "execute_result"
    }
   ],
   "source": [
    "inp3.shape"
   ]
  },
  {
   "cell_type": "code",
   "execution_count": 83,
   "metadata": {
    "id": "N1l_0deV30QO"
   },
   "outputs": [],
   "source": [
    "#split imp3\n",
    "df_train, df_test = train_test_split(inp3, train_size = 0.7, random_state = 100)"
   ]
  },
  {
   "cell_type": "code",
   "execution_count": 84,
   "metadata": {
    "id": "mpmHgEDM3-us"
   },
   "outputs": [
    {
     "data": {
      "text/plain": [
       "((6215, 100), (2664, 100))"
      ]
     },
     "execution_count": 84,
     "metadata": {},
     "output_type": "execute_result"
    }
   ],
   "source": [
    "df_train.shape, df_test.shape"
   ]
  },
  {
   "cell_type": "markdown",
   "metadata": {
    "id": "agsTeU4O4FJE"
   },
   "source": [
    "**4. Separate the new dataframes into X_train, y_train, X_test, y_test**"
   ]
  },
  {
   "cell_type": "code",
   "execution_count": 85,
   "metadata": {
    "id": "cdW26yXq4FJF"
   },
   "outputs": [],
   "source": [
    "#Separating the new dataframes\n",
    "y_train1 = df_train.pop(\"Rating\")\n",
    "X_train1 = df_train"
   ]
  },
  {
   "cell_type": "code",
   "execution_count": 86,
   "metadata": {
    "id": "qUjEfkCd4FJH"
   },
   "outputs": [
    {
     "data": {
      "text/html": [
       "<div>\n",
       "<style scoped>\n",
       "    .dataframe tbody tr th:only-of-type {\n",
       "        vertical-align: middle;\n",
       "    }\n",
       "\n",
       "    .dataframe tbody tr th {\n",
       "        vertical-align: top;\n",
       "    }\n",
       "\n",
       "    .dataframe thead th {\n",
       "        text-align: right;\n",
       "    }\n",
       "</style>\n",
       "<table border=\"1\" class=\"dataframe\">\n",
       "  <thead>\n",
       "    <tr style=\"text-align: right;\">\n",
       "      <th></th>\n",
       "      <th>Reviews</th>\n",
       "      <th>Installs</th>\n",
       "      <th>Category_AUTO_AND_VEHICLES</th>\n",
       "      <th>Category_BEAUTY</th>\n",
       "      <th>Category_BOOKS_AND_REFERENCE</th>\n",
       "      <th>Category_BUSINESS</th>\n",
       "      <th>Category_COMICS</th>\n",
       "      <th>Category_COMMUNICATION</th>\n",
       "      <th>Category_DATING</th>\n",
       "      <th>Category_EDUCATION</th>\n",
       "      <th>...</th>\n",
       "      <th>Genres_Shopping</th>\n",
       "      <th>Genres_Simulation</th>\n",
       "      <th>Genres_Simulation_Action_&amp;_Adventure</th>\n",
       "      <th>Genres_Social</th>\n",
       "      <th>Genres_Strategy</th>\n",
       "      <th>Genres_Tools</th>\n",
       "      <th>Genres_Tools_Education</th>\n",
       "      <th>Genres_Travel_&amp;_Local</th>\n",
       "      <th>Genres_Travel_&amp;_Local_Action_&amp;_Adventure</th>\n",
       "      <th>Genres_Weather</th>\n",
       "    </tr>\n",
       "  </thead>\n",
       "  <tbody>\n",
       "    <tr>\n",
       "      <th>1279</th>\n",
       "      <td>7.63627</td>\n",
       "      <td>11.512935</td>\n",
       "      <td>0</td>\n",
       "      <td>0</td>\n",
       "      <td>0</td>\n",
       "      <td>0</td>\n",
       "      <td>0</td>\n",
       "      <td>0</td>\n",
       "      <td>0</td>\n",
       "      <td>0</td>\n",
       "      <td>...</td>\n",
       "      <td>0</td>\n",
       "      <td>0</td>\n",
       "      <td>0</td>\n",
       "      <td>0</td>\n",
       "      <td>0</td>\n",
       "      <td>0</td>\n",
       "      <td>0</td>\n",
       "      <td>0</td>\n",
       "      <td>0</td>\n",
       "      <td>0</td>\n",
       "    </tr>\n",
       "  </tbody>\n",
       "</table>\n",
       "<p>1 rows × 99 columns</p>\n",
       "</div>"
      ],
      "text/plain": [
       "      Reviews   Installs  Category_AUTO_AND_VEHICLES  Category_BEAUTY  \\\n",
       "1279  7.63627  11.512935                           0                0   \n",
       "\n",
       "      Category_BOOKS_AND_REFERENCE  Category_BUSINESS  Category_COMICS  \\\n",
       "1279                             0                  0                0   \n",
       "\n",
       "      Category_COMMUNICATION  Category_DATING  Category_EDUCATION  ...  \\\n",
       "1279                       0                0                   0  ...   \n",
       "\n",
       "      Genres_Shopping  Genres_Simulation  \\\n",
       "1279                0                  0   \n",
       "\n",
       "      Genres_Simulation_Action_&_Adventure  Genres_Social  Genres_Strategy  \\\n",
       "1279                                     0              0                0   \n",
       "\n",
       "      Genres_Tools  Genres_Tools_Education  Genres_Travel_&_Local  \\\n",
       "1279             0                       0                      0   \n",
       "\n",
       "      Genres_Travel_&_Local_Action_&_Adventure  Genres_Weather  \n",
       "1279                                         0               0  \n",
       "\n",
       "[1 rows x 99 columns]"
      ]
     },
     "execution_count": 86,
     "metadata": {},
     "output_type": "execute_result"
    }
   ],
   "source": [
    "X_train1.head(1)"
   ]
  },
  {
   "cell_type": "code",
   "execution_count": 87,
   "metadata": {
    "id": "jngnU_1Q4FJI"
   },
   "outputs": [],
   "source": [
    "y_test1 = df_test.pop(\"Rating\")\n",
    "X_test1 = df_test"
   ]
  },
  {
   "cell_type": "code",
   "execution_count": 88,
   "metadata": {
    "id": "e_yWUBB4cMnA"
   },
   "outputs": [
    {
     "data": {
      "text/html": [
       "<div>\n",
       "<style scoped>\n",
       "    .dataframe tbody tr th:only-of-type {\n",
       "        vertical-align: middle;\n",
       "    }\n",
       "\n",
       "    .dataframe tbody tr th {\n",
       "        vertical-align: top;\n",
       "    }\n",
       "\n",
       "    .dataframe thead th {\n",
       "        text-align: right;\n",
       "    }\n",
       "</style>\n",
       "<table border=\"1\" class=\"dataframe\">\n",
       "  <thead>\n",
       "    <tr style=\"text-align: right;\">\n",
       "      <th></th>\n",
       "      <th>Reviews</th>\n",
       "      <th>Installs</th>\n",
       "      <th>Category_AUTO_AND_VEHICLES</th>\n",
       "      <th>Category_BEAUTY</th>\n",
       "      <th>Category_BOOKS_AND_REFERENCE</th>\n",
       "      <th>Category_BUSINESS</th>\n",
       "      <th>Category_COMICS</th>\n",
       "      <th>Category_COMMUNICATION</th>\n",
       "      <th>Category_DATING</th>\n",
       "      <th>Category_EDUCATION</th>\n",
       "      <th>...</th>\n",
       "      <th>Genres_Shopping</th>\n",
       "      <th>Genres_Simulation</th>\n",
       "      <th>Genres_Simulation_Action_&amp;_Adventure</th>\n",
       "      <th>Genres_Social</th>\n",
       "      <th>Genres_Strategy</th>\n",
       "      <th>Genres_Tools</th>\n",
       "      <th>Genres_Tools_Education</th>\n",
       "      <th>Genres_Travel_&amp;_Local</th>\n",
       "      <th>Genres_Travel_&amp;_Local_Action_&amp;_Adventure</th>\n",
       "      <th>Genres_Weather</th>\n",
       "    </tr>\n",
       "  </thead>\n",
       "  <tbody>\n",
       "    <tr>\n",
       "      <th>1161</th>\n",
       "      <td>9.329456</td>\n",
       "      <td>13.815512</td>\n",
       "      <td>0</td>\n",
       "      <td>0</td>\n",
       "      <td>0</td>\n",
       "      <td>0</td>\n",
       "      <td>0</td>\n",
       "      <td>0</td>\n",
       "      <td>0</td>\n",
       "      <td>0</td>\n",
       "      <td>...</td>\n",
       "      <td>0</td>\n",
       "      <td>0</td>\n",
       "      <td>0</td>\n",
       "      <td>0</td>\n",
       "      <td>0</td>\n",
       "      <td>0</td>\n",
       "      <td>0</td>\n",
       "      <td>0</td>\n",
       "      <td>0</td>\n",
       "      <td>0</td>\n",
       "    </tr>\n",
       "  </tbody>\n",
       "</table>\n",
       "<p>1 rows × 99 columns</p>\n",
       "</div>"
      ],
      "text/plain": [
       "       Reviews   Installs  Category_AUTO_AND_VEHICLES  Category_BEAUTY  \\\n",
       "1161  9.329456  13.815512                           0                0   \n",
       "\n",
       "      Category_BOOKS_AND_REFERENCE  Category_BUSINESS  Category_COMICS  \\\n",
       "1161                             0                  0                0   \n",
       "\n",
       "      Category_COMMUNICATION  Category_DATING  Category_EDUCATION  ...  \\\n",
       "1161                       0                0                   0  ...   \n",
       "\n",
       "      Genres_Shopping  Genres_Simulation  \\\n",
       "1161                0                  0   \n",
       "\n",
       "      Genres_Simulation_Action_&_Adventure  Genres_Social  Genres_Strategy  \\\n",
       "1161                                     0              0                0   \n",
       "\n",
       "      Genres_Tools  Genres_Tools_Education  Genres_Travel_&_Local  \\\n",
       "1161             0                       0                      0   \n",
       "\n",
       "      Genres_Travel_&_Local_Action_&_Adventure  Genres_Weather  \n",
       "1161                                         0               0  \n",
       "\n",
       "[1 rows x 99 columns]"
      ]
     },
     "execution_count": 88,
     "metadata": {},
     "output_type": "execute_result"
    }
   ],
   "source": [
    "X_test1.head(1)"
   ]
  },
  {
   "cell_type": "markdown",
   "metadata": {
    "id": "hafT1CQW21Oh"
   },
   "source": [
    "**5. Create the second model**"
   ]
  },
  {
   "cell_type": "code",
   "execution_count": 89,
   "metadata": {
    "id": "Obzr0hwT2-Cj"
   },
   "outputs": [],
   "source": [
    "#Apply linear regression\n",
    "model2 = sm.OLS(y_train1, X_train1)"
   ]
  },
  {
   "cell_type": "code",
   "execution_count": 90,
   "metadata": {
    "id": "byvg8JvV3Bx8"
   },
   "outputs": [],
   "source": [
    "model2 = model2.fit()"
   ]
  },
  {
   "cell_type": "code",
   "execution_count": 91,
   "metadata": {
    "id": "0BlbsGi83FrF",
    "scrolled": false
   },
   "outputs": [
    {
     "data": {
      "text/html": [
       "<table class=\"simpletable\">\n",
       "<caption>OLS Regression Results</caption>\n",
       "<tr>\n",
       "  <th>Dep. Variable:</th>         <td>Rating</td>      <th>  R-squared (uncentered):</th>      <td>   0.987</td>\n",
       "</tr>\n",
       "<tr>\n",
       "  <th>Model:</th>                   <td>OLS</td>       <th>  Adj. R-squared (uncentered):</th> <td>   0.987</td>\n",
       "</tr>\n",
       "<tr>\n",
       "  <th>Method:</th>             <td>Least Squares</td>  <th>  F-statistic:       </th>          <td>   6412.</td>\n",
       "</tr>\n",
       "<tr>\n",
       "  <th>Date:</th>             <td>Tue, 03 Jan 2023</td> <th>  Prob (F-statistic):</th>           <td>  0.00</td> \n",
       "</tr>\n",
       "<tr>\n",
       "  <th>Time:</th>                 <td>21:42:30</td>     <th>  Log-Likelihood:    </th>          <td> -4302.6</td>\n",
       "</tr>\n",
       "<tr>\n",
       "  <th>No. Observations:</th>      <td>  6215</td>      <th>  AIC:               </th>          <td>   8749.</td>\n",
       "</tr>\n",
       "<tr>\n",
       "  <th>Df Residuals:</th>          <td>  6143</td>      <th>  BIC:               </th>          <td>   9234.</td>\n",
       "</tr>\n",
       "<tr>\n",
       "  <th>Df Model:</th>              <td>    72</td>      <th>                     </th>              <td> </td>   \n",
       "</tr>\n",
       "<tr>\n",
       "  <th>Covariance Type:</th>      <td>nonrobust</td>    <th>                     </th>              <td> </td>   \n",
       "</tr>\n",
       "</table>\n",
       "<table class=\"simpletable\">\n",
       "<tr>\n",
       "                      <td></td>                        <th>coef</th>     <th>std err</th>      <th>t</th>      <th>P>|t|</th>  <th>[0.025</th>    <th>0.975]</th>  \n",
       "</tr>\n",
       "<tr>\n",
       "  <th>Reviews</th>                                  <td>    0.1738</td> <td>    0.006</td> <td>   28.120</td> <td> 0.000</td> <td>    0.162</td> <td>    0.186</td>\n",
       "</tr>\n",
       "<tr>\n",
       "  <th>Installs</th>                                 <td>   -0.1479</td> <td>    0.006</td> <td>  -24.049</td> <td> 0.000</td> <td>   -0.160</td> <td>   -0.136</td>\n",
       "</tr>\n",
       "<tr>\n",
       "  <th>Category_AUTO_AND_VEHICLES</th>               <td>    1.5996</td> <td>    0.124</td> <td>   12.891</td> <td> 0.000</td> <td>    1.356</td> <td>    1.843</td>\n",
       "</tr>\n",
       "<tr>\n",
       "  <th>Category_BEAUTY</th>                          <td>    1.6841</td> <td>    0.127</td> <td>   13.232</td> <td> 0.000</td> <td>    1.435</td> <td>    1.934</td>\n",
       "</tr>\n",
       "<tr>\n",
       "  <th>Category_BOOKS_AND_REFERENCE</th>             <td>    1.6477</td> <td>    0.121</td> <td>   13.593</td> <td> 0.000</td> <td>    1.410</td> <td>    1.885</td>\n",
       "</tr>\n",
       "<tr>\n",
       "  <th>Category_BUSINESS</th>                        <td>    1.5672</td> <td>    0.120</td> <td>   13.029</td> <td> 0.000</td> <td>    1.331</td> <td>    1.803</td>\n",
       "</tr>\n",
       "<tr>\n",
       "  <th>Category_COMICS</th>                          <td>    2.3320</td> <td>    0.226</td> <td>   10.340</td> <td> 0.000</td> <td>    1.890</td> <td>    2.774</td>\n",
       "</tr>\n",
       "<tr>\n",
       "  <th>Category_COMMUNICATION</th>                   <td>    1.5106</td> <td>    0.121</td> <td>   12.522</td> <td> 0.000</td> <td>    1.274</td> <td>    1.747</td>\n",
       "</tr>\n",
       "<tr>\n",
       "  <th>Category_DATING</th>                          <td>    1.4687</td> <td>    0.122</td> <td>   12.045</td> <td> 0.000</td> <td>    1.230</td> <td>    1.708</td>\n",
       "</tr>\n",
       "<tr>\n",
       "  <th>Category_EDUCATION</th>                       <td>    1.4881</td> <td>    0.124</td> <td>   12.048</td> <td> 0.000</td> <td>    1.246</td> <td>    1.730</td>\n",
       "</tr>\n",
       "<tr>\n",
       "  <th>Category_EDUCATION</th>                       <td>    1.4881</td> <td>    0.124</td> <td>   12.048</td> <td> 0.000</td> <td>    1.246</td> <td>    1.730</td>\n",
       "</tr>\n",
       "<tr>\n",
       "  <th>Category_ENTERTAINMENT</th>                   <td>    2.8894</td> <td>    0.247</td> <td>   11.696</td> <td> 0.000</td> <td>    2.405</td> <td>    3.374</td>\n",
       "</tr>\n",
       "<tr>\n",
       "  <th>Category_EVENTS</th>                          <td>    1.7089</td> <td>    0.126</td> <td>   13.571</td> <td> 0.000</td> <td>    1.462</td> <td>    1.956</td>\n",
       "</tr>\n",
       "<tr>\n",
       "  <th>Category_FAMILY</th>                          <td>    3.0092</td> <td>    0.239</td> <td>   12.567</td> <td> 0.000</td> <td>    2.540</td> <td>    3.479</td>\n",
       "</tr>\n",
       "<tr>\n",
       "  <th>Category_FINANCE</th>                         <td>    1.5305</td> <td>    0.120</td> <td>   12.728</td> <td> 0.000</td> <td>    1.295</td> <td>    1.766</td>\n",
       "</tr>\n",
       "<tr>\n",
       "  <th>Category_FOOD_AND_DRINK</th>                  <td>    1.5606</td> <td>    0.122</td> <td>   12.755</td> <td> 0.000</td> <td>    1.321</td> <td>    1.800</td>\n",
       "</tr>\n",
       "<tr>\n",
       "  <th>Category_GAME</th>                            <td>    3.0847</td> <td>    0.239</td> <td>   12.904</td> <td> 0.000</td> <td>    2.616</td> <td>    3.553</td>\n",
       "</tr>\n",
       "<tr>\n",
       "  <th>Category_HEALTH_AND_FITNESS</th>              <td>    1.5906</td> <td>    0.120</td> <td>   13.211</td> <td> 0.000</td> <td>    1.355</td> <td>    1.827</td>\n",
       "</tr>\n",
       "<tr>\n",
       "  <th>Category_HOUSE_AND_HOME</th>                  <td>    1.5765</td> <td>    0.124</td> <td>   12.756</td> <td> 0.000</td> <td>    1.334</td> <td>    1.819</td>\n",
       "</tr>\n",
       "<tr>\n",
       "  <th>Category_LIBRARIES_AND_DEMO</th>              <td>    1.6164</td> <td>    0.124</td> <td>   13.009</td> <td> 0.000</td> <td>    1.373</td> <td>    1.860</td>\n",
       "</tr>\n",
       "<tr>\n",
       "  <th>Category_LIFESTYLE</th>                       <td>    1.5542</td> <td>    0.120</td> <td>   12.914</td> <td> 0.000</td> <td>    1.318</td> <td>    1.790</td>\n",
       "</tr>\n",
       "<tr>\n",
       "  <th>Category_MAPS_AND_NAVIGATION</th>             <td>    1.4830</td> <td>    0.122</td> <td>   12.149</td> <td> 0.000</td> <td>    1.244</td> <td>    1.722</td>\n",
       "</tr>\n",
       "<tr>\n",
       "  <th>Category_MEDICAL</th>                         <td>    1.5982</td> <td>    0.120</td> <td>   13.307</td> <td> 0.000</td> <td>    1.363</td> <td>    1.834</td>\n",
       "</tr>\n",
       "<tr>\n",
       "  <th>Category_NEWS_AND_MAGAZINES</th>              <td>    1.5284</td> <td>    0.121</td> <td>   12.664</td> <td> 0.000</td> <td>    1.292</td> <td>    1.765</td>\n",
       "</tr>\n",
       "<tr>\n",
       "  <th>Category_PARENTING</th>                       <td>    2.4735</td> <td>    0.212</td> <td>   11.676</td> <td> 0.000</td> <td>    2.058</td> <td>    2.889</td>\n",
       "</tr>\n",
       "<tr>\n",
       "  <th>Category_PERSONALIZATION</th>                 <td>    1.6408</td> <td>    0.120</td> <td>   13.633</td> <td> 0.000</td> <td>    1.405</td> <td>    1.877</td>\n",
       "</tr>\n",
       "<tr>\n",
       "  <th>Category_PHOTOGRAPHY</th>                     <td>    1.5468</td> <td>    0.121</td> <td>   12.830</td> <td> 0.000</td> <td>    1.310</td> <td>    1.783</td>\n",
       "</tr>\n",
       "<tr>\n",
       "  <th>Category_PRODUCTIVITY</th>                    <td>    1.5833</td> <td>    0.120</td> <td>   13.154</td> <td> 0.000</td> <td>    1.347</td> <td>    1.819</td>\n",
       "</tr>\n",
       "<tr>\n",
       "  <th>Category_SHOPPING</th>                        <td>    1.5714</td> <td>    0.121</td> <td>   13.002</td> <td> 0.000</td> <td>    1.334</td> <td>    1.808</td>\n",
       "</tr>\n",
       "<tr>\n",
       "  <th>Category_SOCIAL</th>                          <td>    1.5772</td> <td>    0.121</td> <td>   13.073</td> <td> 0.000</td> <td>    1.341</td> <td>    1.814</td>\n",
       "</tr>\n",
       "<tr>\n",
       "  <th>Category_SPORTS</th>                          <td>    3.0836</td> <td>    0.240</td> <td>   12.873</td> <td> 0.000</td> <td>    2.614</td> <td>    3.553</td>\n",
       "</tr>\n",
       "<tr>\n",
       "  <th>Category_TOOLS</th>                           <td>    2.0963</td> <td>    0.227</td> <td>    9.224</td> <td> 0.000</td> <td>    1.651</td> <td>    2.542</td>\n",
       "</tr>\n",
       "<tr>\n",
       "  <th>Category_TRAVEL_AND_LOCAL</th>                <td>    2.0848</td> <td>    0.228</td> <td>    9.163</td> <td> 0.000</td> <td>    1.639</td> <td>    2.531</td>\n",
       "</tr>\n",
       "<tr>\n",
       "  <th>Category_VIDEO_PLAYERS</th>                   <td>    3.0405</td> <td>    0.243</td> <td>   12.503</td> <td> 0.000</td> <td>    2.564</td> <td>    3.517</td>\n",
       "</tr>\n",
       "<tr>\n",
       "  <th>Category_WEATHER</th>                         <td>    1.5817</td> <td>    0.124</td> <td>   12.759</td> <td> 0.000</td> <td>    1.339</td> <td>    1.825</td>\n",
       "</tr>\n",
       "<tr>\n",
       "  <th>Type_Paid</th>                                <td>   -0.0792</td> <td>    0.027</td> <td>   -2.924</td> <td> 0.003</td> <td>   -0.132</td> <td>   -0.026</td>\n",
       "</tr>\n",
       "<tr>\n",
       "  <th>Content_Rating_Everyone</th>                  <td>    1.4445</td> <td>    0.238</td> <td>    6.082</td> <td> 0.000</td> <td>    0.979</td> <td>    1.910</td>\n",
       "</tr>\n",
       "<tr>\n",
       "  <th>Content_Rating_Everyone_10+</th>              <td>    1.4346</td> <td>    0.239</td> <td>    5.990</td> <td> 0.000</td> <td>    0.965</td> <td>    1.904</td>\n",
       "</tr>\n",
       "<tr>\n",
       "  <th>Content_Rating_Mature_17+</th>                <td>    1.4171</td> <td>    0.240</td> <td>    5.907</td> <td> 0.000</td> <td>    0.947</td> <td>    1.887</td>\n",
       "</tr>\n",
       "<tr>\n",
       "  <th>Content_Rating_Teen</th>                      <td>    1.4392</td> <td>    0.238</td> <td>    6.049</td> <td> 0.000</td> <td>    0.973</td> <td>    1.906</td>\n",
       "</tr>\n",
       "<tr>\n",
       "  <th>Content_Rating_Unrated</th>                   <td>    1.4046</td> <td>    0.542</td> <td>    2.593</td> <td> 0.010</td> <td>    0.343</td> <td>    2.466</td>\n",
       "</tr>\n",
       "<tr>\n",
       "  <th>Genres_Art_&_Design</th>                      <td>    3.3910</td> <td>    0.252</td> <td>   13.478</td> <td> 0.000</td> <td>    2.898</td> <td>    3.884</td>\n",
       "</tr>\n",
       "<tr>\n",
       "  <th>Genres_Art_&_Design_Creativity</th>           <td>    2.4854</td> <td>    0.255</td> <td>    9.740</td> <td> 0.000</td> <td>    1.985</td> <td>    2.986</td>\n",
       "</tr>\n",
       "<tr>\n",
       "  <th>Genres_Art_&_Design_Pretend_Play</th>         <td>    3.2010</td> <td>    0.542</td> <td>    5.904</td> <td> 0.000</td> <td>    2.138</td> <td>    4.264</td>\n",
       "</tr>\n",
       "<tr>\n",
       "  <th>Genres_Auto_&_Vehicles</th>                   <td>    1.5996</td> <td>    0.124</td> <td>   12.891</td> <td> 0.000</td> <td>    1.356</td> <td>    1.843</td>\n",
       "</tr>\n",
       "<tr>\n",
       "  <th>Genres_Beauty</th>                            <td>    1.6841</td> <td>    0.127</td> <td>   13.232</td> <td> 0.000</td> <td>    1.435</td> <td>    1.934</td>\n",
       "</tr>\n",
       "<tr>\n",
       "  <th>Genres_Board_Brain_Games</th>                 <td>    0.2888</td> <td>    0.159</td> <td>    1.815</td> <td> 0.070</td> <td>   -0.023</td> <td>    0.601</td>\n",
       "</tr>\n",
       "<tr>\n",
       "  <th>Genres_Books_&_Reference</th>                 <td>    1.6477</td> <td>    0.121</td> <td>   13.593</td> <td> 0.000</td> <td>    1.410</td> <td>    1.885</td>\n",
       "</tr>\n",
       "<tr>\n",
       "  <th>Genres_Business</th>                          <td>    1.5672</td> <td>    0.120</td> <td>   13.029</td> <td> 0.000</td> <td>    1.331</td> <td>    1.803</td>\n",
       "</tr>\n",
       "<tr>\n",
       "  <th>Genres_Casual</th>                            <td>    0.0148</td> <td>    0.059</td> <td>    0.252</td> <td> 0.801</td> <td>   -0.101</td> <td>    0.130</td>\n",
       "</tr>\n",
       "<tr>\n",
       "  <th>Genres_Casual_Action_&_Adventure</th>         <td>    0.2113</td> <td>    0.146</td> <td>    1.451</td> <td> 0.147</td> <td>   -0.074</td> <td>    0.497</td>\n",
       "</tr>\n",
       "<tr>\n",
       "  <th>Genres_Casual_Brain_Games</th>                <td>    0.4865</td> <td>    0.175</td> <td>    2.773</td> <td> 0.006</td> <td>    0.143</td> <td>    0.830</td>\n",
       "</tr>\n",
       "<tr>\n",
       "  <th>Genres_Casual_Pretend_Play</th>               <td>    0.0809</td> <td>    0.110</td> <td>    0.734</td> <td> 0.463</td> <td>   -0.135</td> <td>    0.297</td>\n",
       "</tr>\n",
       "<tr>\n",
       "  <th>Genres_Comics</th>                            <td>    0.7945</td> <td>    0.185</td> <td>    4.292</td> <td> 0.000</td> <td>    0.432</td> <td>    1.157</td>\n",
       "</tr>\n",
       "<tr>\n",
       "  <th>Genres_Comics_Creativity</th>                 <td>    1.5375</td> <td>    0.336</td> <td>    4.574</td> <td> 0.000</td> <td>    0.879</td> <td>    2.196</td>\n",
       "</tr>\n",
       "<tr>\n",
       "  <th>Genres_Communication</th>                     <td>    1.5106</td> <td>    0.121</td> <td>   12.522</td> <td> 0.000</td> <td>    1.274</td> <td>    1.747</td>\n",
       "</tr>\n",
       "<tr>\n",
       "  <th>Genres_Dating</th>                            <td>    1.4687</td> <td>    0.122</td> <td>   12.045</td> <td> 0.000</td> <td>    1.230</td> <td>    1.708</td>\n",
       "</tr>\n",
       "<tr>\n",
       "  <th>Genres_Education</th>                         <td>    0.2968</td> <td>    0.050</td> <td>    5.956</td> <td> 0.000</td> <td>    0.199</td> <td>    0.395</td>\n",
       "</tr>\n",
       "<tr>\n",
       "  <th>Genres_Education_Action_&_Adventure</th>      <td>    0.6262</td> <td>    0.284</td> <td>    2.201</td> <td> 0.028</td> <td>    0.068</td> <td>    1.184</td>\n",
       "</tr>\n",
       "<tr>\n",
       "  <th>Genres_Education_Creativity</th>              <td>    0.5810</td> <td>    0.223</td> <td>    2.611</td> <td> 0.009</td> <td>    0.145</td> <td>    1.017</td>\n",
       "</tr>\n",
       "<tr>\n",
       "  <th>Genres_Education_Education</th>               <td>    0.3685</td> <td>    0.096</td> <td>    3.836</td> <td> 0.000</td> <td>    0.180</td> <td>    0.557</td>\n",
       "</tr>\n",
       "<tr>\n",
       "  <th>Genres_Education_Pretend_Play</th>            <td>    0.3641</td> <td>    0.117</td> <td>    3.124</td> <td> 0.002</td> <td>    0.136</td> <td>    0.593</td>\n",
       "</tr>\n",
       "<tr>\n",
       "  <th>Genres_Educational_Education</th>             <td>    0.2567</td> <td>    0.100</td> <td>    2.568</td> <td> 0.010</td> <td>    0.061</td> <td>    0.453</td>\n",
       "</tr>\n",
       "<tr>\n",
       "  <th>Genres_Educational_Pretend_Play</th>          <td>    0.1588</td> <td>    0.136</td> <td>    1.170</td> <td> 0.242</td> <td>   -0.107</td> <td>    0.425</td>\n",
       "</tr>\n",
       "<tr>\n",
       "  <th>Genres_Entertainment</th>                     <td>    0.0790</td> <td>    0.049</td> <td>    1.616</td> <td> 0.106</td> <td>   -0.017</td> <td>    0.175</td>\n",
       "</tr>\n",
       "<tr>\n",
       "  <th>Genres_Entertainment_Brain_Games</th>         <td>    0.2560</td> <td>    0.189</td> <td>    1.357</td> <td> 0.175</td> <td>   -0.114</td> <td>    0.626</td>\n",
       "</tr>\n",
       "<tr>\n",
       "  <th>Genres_Entertainment_Creativity</th>          <td>    0.5172</td> <td>    0.347</td> <td>    1.489</td> <td> 0.137</td> <td>   -0.164</td> <td>    1.198</td>\n",
       "</tr>\n",
       "<tr>\n",
       "  <th>Genres_Entertainment_Music_&_Video</th>       <td>    0.2087</td> <td>    0.141</td> <td>    1.479</td> <td> 0.139</td> <td>   -0.068</td> <td>    0.485</td>\n",
       "</tr>\n",
       "<tr>\n",
       "  <th>Genres_Events</th>                            <td>    1.7089</td> <td>    0.126</td> <td>   13.571</td> <td> 0.000</td> <td>    1.462</td> <td>    1.956</td>\n",
       "</tr>\n",
       "<tr>\n",
       "  <th>Genres_Finance</th>                           <td>    1.5305</td> <td>    0.120</td> <td>   12.728</td> <td> 0.000</td> <td>    1.295</td> <td>    1.766</td>\n",
       "</tr>\n",
       "<tr>\n",
       "  <th>Genres_Food_&_Drink</th>                      <td>    1.5606</td> <td>    0.122</td> <td>   12.755</td> <td> 0.000</td> <td>    1.321</td> <td>    1.800</td>\n",
       "</tr>\n",
       "<tr>\n",
       "  <th>Genres_Health_&_Fitness</th>                  <td>    1.5906</td> <td>    0.120</td> <td>   13.211</td> <td> 0.000</td> <td>    1.355</td> <td>    1.827</td>\n",
       "</tr>\n",
       "<tr>\n",
       "  <th>Genres_House_&_Home</th>                      <td>    1.5765</td> <td>    0.124</td> <td>   12.756</td> <td> 0.000</td> <td>    1.334</td> <td>    1.819</td>\n",
       "</tr>\n",
       "<tr>\n",
       "  <th>Genres_Libraries_&_Demo</th>                  <td>    1.6164</td> <td>    0.124</td> <td>   13.009</td> <td> 0.000</td> <td>    1.373</td> <td>    1.860</td>\n",
       "</tr>\n",
       "<tr>\n",
       "  <th>Genres_Lifestyle</th>                         <td>    1.5542</td> <td>    0.120</td> <td>   12.914</td> <td> 0.000</td> <td>    1.318</td> <td>    1.790</td>\n",
       "</tr>\n",
       "<tr>\n",
       "  <th>Genres_Maps_&_Navigation</th>                 <td>    1.4830</td> <td>    0.122</td> <td>   12.149</td> <td> 0.000</td> <td>    1.244</td> <td>    1.722</td>\n",
       "</tr>\n",
       "<tr>\n",
       "  <th>Genres_Medical</th>                           <td>    1.5982</td> <td>    0.120</td> <td>   13.307</td> <td> 0.000</td> <td>    1.363</td> <td>    1.834</td>\n",
       "</tr>\n",
       "<tr>\n",
       "  <th>Genres_Music_Music_&_Video</th>               <td>    0.5720</td> <td>    0.346</td> <td>    1.652</td> <td> 0.099</td> <td>   -0.107</td> <td>    1.251</td>\n",
       "</tr>\n",
       "<tr>\n",
       "  <th>Genres_News_&_Magazines</th>                  <td>    1.5284</td> <td>    0.121</td> <td>   12.664</td> <td> 0.000</td> <td>    1.292</td> <td>    1.765</td>\n",
       "</tr>\n",
       "<tr>\n",
       "  <th>Genres_Parenting</th>                         <td>    0.8720</td> <td>    0.142</td> <td>    6.145</td> <td> 0.000</td> <td>    0.594</td> <td>    1.150</td>\n",
       "</tr>\n",
       "<tr>\n",
       "  <th>Genres_Parenting_Education</th>               <td>    0.6579</td> <td>    0.275</td> <td>    2.393</td> <td> 0.017</td> <td>    0.119</td> <td>    1.197</td>\n",
       "</tr>\n",
       "<tr>\n",
       "  <th>Genres_Parenting_Music_&_Video</th>           <td>    0.9436</td> <td>    0.236</td> <td>    3.995</td> <td> 0.000</td> <td>    0.481</td> <td>    1.407</td>\n",
       "</tr>\n",
       "<tr>\n",
       "  <th>Genres_Personalization</th>                   <td>    1.6408</td> <td>    0.120</td> <td>   13.633</td> <td> 0.000</td> <td>    1.405</td> <td>    1.877</td>\n",
       "</tr>\n",
       "<tr>\n",
       "  <th>Genres_Photography</th>                       <td>    1.5468</td> <td>    0.121</td> <td>   12.830</td> <td> 0.000</td> <td>    1.310</td> <td>    1.783</td>\n",
       "</tr>\n",
       "<tr>\n",
       "  <th>Genres_Productivity</th>                      <td>    1.5833</td> <td>    0.120</td> <td>   13.154</td> <td> 0.000</td> <td>    1.347</td> <td>    1.819</td>\n",
       "</tr>\n",
       "<tr>\n",
       "  <th>Genres_Puzzle</th>                            <td>    0.1939</td> <td>    0.061</td> <td>    3.203</td> <td> 0.001</td> <td>    0.075</td> <td>    0.313</td>\n",
       "</tr>\n",
       "<tr>\n",
       "  <th>Genres_Puzzle_Brain_Games</th>                <td>    0.2859</td> <td>    0.131</td> <td>    2.175</td> <td> 0.030</td> <td>    0.028</td> <td>    0.544</td>\n",
       "</tr>\n",
       "<tr>\n",
       "  <th>Genres_Racing_Action_&_Adventure</th>         <td>    0.2674</td> <td>    0.136</td> <td>    1.970</td> <td> 0.049</td> <td>    0.001</td> <td>    0.534</td>\n",
       "</tr>\n",
       "<tr>\n",
       "  <th>Genres_Role_Playing</th>                      <td>    0.0154</td> <td>    0.065</td> <td>    0.238</td> <td> 0.812</td> <td>   -0.112</td> <td>    0.142</td>\n",
       "</tr>\n",
       "<tr>\n",
       "  <th>Genres_Shopping</th>                          <td>    1.5714</td> <td>    0.121</td> <td>   13.002</td> <td> 0.000</td> <td>    1.334</td> <td>    1.808</td>\n",
       "</tr>\n",
       "<tr>\n",
       "  <th>Genres_Simulation</th>                        <td>    0.0243</td> <td>    0.055</td> <td>    0.438</td> <td> 0.662</td> <td>   -0.084</td> <td>    0.133</td>\n",
       "</tr>\n",
       "<tr>\n",
       "  <th>Genres_Simulation_Action_&_Adventure</th>     <td>    0.2534</td> <td>    0.166</td> <td>    1.526</td> <td> 0.127</td> <td>   -0.072</td> <td>    0.579</td>\n",
       "</tr>\n",
       "<tr>\n",
       "  <th>Genres_Social</th>                            <td>    1.5772</td> <td>    0.121</td> <td>   13.073</td> <td> 0.000</td> <td>    1.341</td> <td>    1.814</td>\n",
       "</tr>\n",
       "<tr>\n",
       "  <th>Genres_Strategy</th>                          <td>   -0.0036</td> <td>    0.076</td> <td>   -0.048</td> <td> 0.962</td> <td>   -0.152</td> <td>    0.145</td>\n",
       "</tr>\n",
       "<tr>\n",
       "  <th>Genres_Tools</th>                             <td>    0.9686</td> <td>    0.181</td> <td>    5.346</td> <td> 0.000</td> <td>    0.613</td> <td>    1.324</td>\n",
       "</tr>\n",
       "<tr>\n",
       "  <th>Genres_Tools_Education</th>                   <td>    1.1277</td> <td>    0.334</td> <td>    3.376</td> <td> 0.001</td> <td>    0.473</td> <td>    1.782</td>\n",
       "</tr>\n",
       "<tr>\n",
       "  <th>Genres_Travel_&_Local</th>                    <td>    0.9922</td> <td>    0.183</td> <td>    5.434</td> <td> 0.000</td> <td>    0.634</td> <td>    1.350</td>\n",
       "</tr>\n",
       "<tr>\n",
       "  <th>Genres_Travel_&_Local_Action_&_Adventure</th> <td>    1.0926</td> <td>    0.334</td> <td>    3.270</td> <td> 0.001</td> <td>    0.438</td> <td>    1.748</td>\n",
       "</tr>\n",
       "<tr>\n",
       "  <th>Genres_Weather</th>                           <td>    1.5817</td> <td>    0.124</td> <td>   12.759</td> <td> 0.000</td> <td>    1.339</td> <td>    1.825</td>\n",
       "</tr>\n",
       "</table>\n",
       "<table class=\"simpletable\">\n",
       "<tr>\n",
       "  <th>Omnibus:</th>       <td>2310.962</td> <th>  Durbin-Watson:     </th> <td>   2.020</td> \n",
       "</tr>\n",
       "<tr>\n",
       "  <th>Prob(Omnibus):</th>  <td> 0.000</td>  <th>  Jarque-Bera (JB):  </th> <td>13517.788</td>\n",
       "</tr>\n",
       "<tr>\n",
       "  <th>Skew:</th>           <td>-1.671</td>  <th>  Prob(JB):          </th> <td>    0.00</td> \n",
       "</tr>\n",
       "<tr>\n",
       "  <th>Kurtosis:</th>       <td> 9.406</td>  <th>  Cond. No.          </th> <td>1.23e+16</td> \n",
       "</tr>\n",
       "</table><br/><br/>Notes:<br/>[1] R² is computed without centering (uncentered) since the model does not contain a constant.<br/>[2] Standard Errors assume that the covariance matrix of the errors is correctly specified.<br/>[3] The smallest eigenvalue is 9.48e-27. This might indicate that there are<br/>strong multicollinearity problems or that the design matrix is singular."
      ],
      "text/plain": [
       "<class 'statsmodels.iolib.summary.Summary'>\n",
       "\"\"\"\n",
       "                                 OLS Regression Results                                \n",
       "=======================================================================================\n",
       "Dep. Variable:                 Rating   R-squared (uncentered):                   0.987\n",
       "Model:                            OLS   Adj. R-squared (uncentered):              0.987\n",
       "Method:                 Least Squares   F-statistic:                              6412.\n",
       "Date:                Tue, 03 Jan 2023   Prob (F-statistic):                        0.00\n",
       "Time:                        21:42:30   Log-Likelihood:                         -4302.6\n",
       "No. Observations:                6215   AIC:                                      8749.\n",
       "Df Residuals:                    6143   BIC:                                      9234.\n",
       "Df Model:                          72                                                  \n",
       "Covariance Type:            nonrobust                                                  \n",
       "============================================================================================================\n",
       "                                               coef    std err          t      P>|t|      [0.025      0.975]\n",
       "------------------------------------------------------------------------------------------------------------\n",
       "Reviews                                      0.1738      0.006     28.120      0.000       0.162       0.186\n",
       "Installs                                    -0.1479      0.006    -24.049      0.000      -0.160      -0.136\n",
       "Category_AUTO_AND_VEHICLES                   1.5996      0.124     12.891      0.000       1.356       1.843\n",
       "Category_BEAUTY                              1.6841      0.127     13.232      0.000       1.435       1.934\n",
       "Category_BOOKS_AND_REFERENCE                 1.6477      0.121     13.593      0.000       1.410       1.885\n",
       "Category_BUSINESS                            1.5672      0.120     13.029      0.000       1.331       1.803\n",
       "Category_COMICS                              2.3320      0.226     10.340      0.000       1.890       2.774\n",
       "Category_COMMUNICATION                       1.5106      0.121     12.522      0.000       1.274       1.747\n",
       "Category_DATING                              1.4687      0.122     12.045      0.000       1.230       1.708\n",
       "Category_EDUCATION                           1.4881      0.124     12.048      0.000       1.246       1.730\n",
       "Category_EDUCATION                           1.4881      0.124     12.048      0.000       1.246       1.730\n",
       "Category_ENTERTAINMENT                       2.8894      0.247     11.696      0.000       2.405       3.374\n",
       "Category_EVENTS                              1.7089      0.126     13.571      0.000       1.462       1.956\n",
       "Category_FAMILY                              3.0092      0.239     12.567      0.000       2.540       3.479\n",
       "Category_FINANCE                             1.5305      0.120     12.728      0.000       1.295       1.766\n",
       "Category_FOOD_AND_DRINK                      1.5606      0.122     12.755      0.000       1.321       1.800\n",
       "Category_GAME                                3.0847      0.239     12.904      0.000       2.616       3.553\n",
       "Category_HEALTH_AND_FITNESS                  1.5906      0.120     13.211      0.000       1.355       1.827\n",
       "Category_HOUSE_AND_HOME                      1.5765      0.124     12.756      0.000       1.334       1.819\n",
       "Category_LIBRARIES_AND_DEMO                  1.6164      0.124     13.009      0.000       1.373       1.860\n",
       "Category_LIFESTYLE                           1.5542      0.120     12.914      0.000       1.318       1.790\n",
       "Category_MAPS_AND_NAVIGATION                 1.4830      0.122     12.149      0.000       1.244       1.722\n",
       "Category_MEDICAL                             1.5982      0.120     13.307      0.000       1.363       1.834\n",
       "Category_NEWS_AND_MAGAZINES                  1.5284      0.121     12.664      0.000       1.292       1.765\n",
       "Category_PARENTING                           2.4735      0.212     11.676      0.000       2.058       2.889\n",
       "Category_PERSONALIZATION                     1.6408      0.120     13.633      0.000       1.405       1.877\n",
       "Category_PHOTOGRAPHY                         1.5468      0.121     12.830      0.000       1.310       1.783\n",
       "Category_PRODUCTIVITY                        1.5833      0.120     13.154      0.000       1.347       1.819\n",
       "Category_SHOPPING                            1.5714      0.121     13.002      0.000       1.334       1.808\n",
       "Category_SOCIAL                              1.5772      0.121     13.073      0.000       1.341       1.814\n",
       "Category_SPORTS                              3.0836      0.240     12.873      0.000       2.614       3.553\n",
       "Category_TOOLS                               2.0963      0.227      9.224      0.000       1.651       2.542\n",
       "Category_TRAVEL_AND_LOCAL                    2.0848      0.228      9.163      0.000       1.639       2.531\n",
       "Category_VIDEO_PLAYERS                       3.0405      0.243     12.503      0.000       2.564       3.517\n",
       "Category_WEATHER                             1.5817      0.124     12.759      0.000       1.339       1.825\n",
       "Type_Paid                                   -0.0792      0.027     -2.924      0.003      -0.132      -0.026\n",
       "Content_Rating_Everyone                      1.4445      0.238      6.082      0.000       0.979       1.910\n",
       "Content_Rating_Everyone_10+                  1.4346      0.239      5.990      0.000       0.965       1.904\n",
       "Content_Rating_Mature_17+                    1.4171      0.240      5.907      0.000       0.947       1.887\n",
       "Content_Rating_Teen                          1.4392      0.238      6.049      0.000       0.973       1.906\n",
       "Content_Rating_Unrated                       1.4046      0.542      2.593      0.010       0.343       2.466\n",
       "Genres_Art_&_Design                          3.3910      0.252     13.478      0.000       2.898       3.884\n",
       "Genres_Art_&_Design_Creativity               2.4854      0.255      9.740      0.000       1.985       2.986\n",
       "Genres_Art_&_Design_Pretend_Play             3.2010      0.542      5.904      0.000       2.138       4.264\n",
       "Genres_Auto_&_Vehicles                       1.5996      0.124     12.891      0.000       1.356       1.843\n",
       "Genres_Beauty                                1.6841      0.127     13.232      0.000       1.435       1.934\n",
       "Genres_Board_Brain_Games                     0.2888      0.159      1.815      0.070      -0.023       0.601\n",
       "Genres_Books_&_Reference                     1.6477      0.121     13.593      0.000       1.410       1.885\n",
       "Genres_Business                              1.5672      0.120     13.029      0.000       1.331       1.803\n",
       "Genres_Casual                                0.0148      0.059      0.252      0.801      -0.101       0.130\n",
       "Genres_Casual_Action_&_Adventure             0.2113      0.146      1.451      0.147      -0.074       0.497\n",
       "Genres_Casual_Brain_Games                    0.4865      0.175      2.773      0.006       0.143       0.830\n",
       "Genres_Casual_Pretend_Play                   0.0809      0.110      0.734      0.463      -0.135       0.297\n",
       "Genres_Comics                                0.7945      0.185      4.292      0.000       0.432       1.157\n",
       "Genres_Comics_Creativity                     1.5375      0.336      4.574      0.000       0.879       2.196\n",
       "Genres_Communication                         1.5106      0.121     12.522      0.000       1.274       1.747\n",
       "Genres_Dating                                1.4687      0.122     12.045      0.000       1.230       1.708\n",
       "Genres_Education                             0.2968      0.050      5.956      0.000       0.199       0.395\n",
       "Genres_Education_Action_&_Adventure          0.6262      0.284      2.201      0.028       0.068       1.184\n",
       "Genres_Education_Creativity                  0.5810      0.223      2.611      0.009       0.145       1.017\n",
       "Genres_Education_Education                   0.3685      0.096      3.836      0.000       0.180       0.557\n",
       "Genres_Education_Pretend_Play                0.3641      0.117      3.124      0.002       0.136       0.593\n",
       "Genres_Educational_Education                 0.2567      0.100      2.568      0.010       0.061       0.453\n",
       "Genres_Educational_Pretend_Play              0.1588      0.136      1.170      0.242      -0.107       0.425\n",
       "Genres_Entertainment                         0.0790      0.049      1.616      0.106      -0.017       0.175\n",
       "Genres_Entertainment_Brain_Games             0.2560      0.189      1.357      0.175      -0.114       0.626\n",
       "Genres_Entertainment_Creativity              0.5172      0.347      1.489      0.137      -0.164       1.198\n",
       "Genres_Entertainment_Music_&_Video           0.2087      0.141      1.479      0.139      -0.068       0.485\n",
       "Genres_Events                                1.7089      0.126     13.571      0.000       1.462       1.956\n",
       "Genres_Finance                               1.5305      0.120     12.728      0.000       1.295       1.766\n",
       "Genres_Food_&_Drink                          1.5606      0.122     12.755      0.000       1.321       1.800\n",
       "Genres_Health_&_Fitness                      1.5906      0.120     13.211      0.000       1.355       1.827\n",
       "Genres_House_&_Home                          1.5765      0.124     12.756      0.000       1.334       1.819\n",
       "Genres_Libraries_&_Demo                      1.6164      0.124     13.009      0.000       1.373       1.860\n",
       "Genres_Lifestyle                             1.5542      0.120     12.914      0.000       1.318       1.790\n",
       "Genres_Maps_&_Navigation                     1.4830      0.122     12.149      0.000       1.244       1.722\n",
       "Genres_Medical                               1.5982      0.120     13.307      0.000       1.363       1.834\n",
       "Genres_Music_Music_&_Video                   0.5720      0.346      1.652      0.099      -0.107       1.251\n",
       "Genres_News_&_Magazines                      1.5284      0.121     12.664      0.000       1.292       1.765\n",
       "Genres_Parenting                             0.8720      0.142      6.145      0.000       0.594       1.150\n",
       "Genres_Parenting_Education                   0.6579      0.275      2.393      0.017       0.119       1.197\n",
       "Genres_Parenting_Music_&_Video               0.9436      0.236      3.995      0.000       0.481       1.407\n",
       "Genres_Personalization                       1.6408      0.120     13.633      0.000       1.405       1.877\n",
       "Genres_Photography                           1.5468      0.121     12.830      0.000       1.310       1.783\n",
       "Genres_Productivity                          1.5833      0.120     13.154      0.000       1.347       1.819\n",
       "Genres_Puzzle                                0.1939      0.061      3.203      0.001       0.075       0.313\n",
       "Genres_Puzzle_Brain_Games                    0.2859      0.131      2.175      0.030       0.028       0.544\n",
       "Genres_Racing_Action_&_Adventure             0.2674      0.136      1.970      0.049       0.001       0.534\n",
       "Genres_Role_Playing                          0.0154      0.065      0.238      0.812      -0.112       0.142\n",
       "Genres_Shopping                              1.5714      0.121     13.002      0.000       1.334       1.808\n",
       "Genres_Simulation                            0.0243      0.055      0.438      0.662      -0.084       0.133\n",
       "Genres_Simulation_Action_&_Adventure         0.2534      0.166      1.526      0.127      -0.072       0.579\n",
       "Genres_Social                                1.5772      0.121     13.073      0.000       1.341       1.814\n",
       "Genres_Strategy                             -0.0036      0.076     -0.048      0.962      -0.152       0.145\n",
       "Genres_Tools                                 0.9686      0.181      5.346      0.000       0.613       1.324\n",
       "Genres_Tools_Education                       1.1277      0.334      3.376      0.001       0.473       1.782\n",
       "Genres_Travel_&_Local                        0.9922      0.183      5.434      0.000       0.634       1.350\n",
       "Genres_Travel_&_Local_Action_&_Adventure     1.0926      0.334      3.270      0.001       0.438       1.748\n",
       "Genres_Weather                               1.5817      0.124     12.759      0.000       1.339       1.825\n",
       "==============================================================================\n",
       "Omnibus:                     2310.962   Durbin-Watson:                   2.020\n",
       "Prob(Omnibus):                  0.000   Jarque-Bera (JB):            13517.788\n",
       "Skew:                          -1.671   Prob(JB):                         0.00\n",
       "Kurtosis:                       9.406   Cond. No.                     1.23e+16\n",
       "==============================================================================\n",
       "\n",
       "Notes:\n",
       "[1] R² is computed without centering (uncentered) since the model does not contain a constant.\n",
       "[2] Standard Errors assume that the covariance matrix of the errors is correctly specified.\n",
       "[3] The smallest eigenvalue is 9.48e-27. This might indicate that there are\n",
       "strong multicollinearity problems or that the design matrix is singular.\n",
       "\"\"\""
      ]
     },
     "execution_count": 91,
     "metadata": {},
     "output_type": "execute_result"
    }
   ],
   "source": [
    "#Find the summary\n",
    "model2.summary()"
   ]
  },
  {
   "cell_type": "markdown",
   "metadata": {
    "id": "Sf9FDt5V29YS"
   },
   "source": [
    "* Rating\tR-squared (uncentered):\t0.987\n",
    "\n",
    "* Adj. R-squared (uncentered): 0.987\n",
    "\n",
    "* F-statistic: 6412\n",
    "\n",
    "* AIC: 8749\n",
    "\n",
    "* BIC: 9234"
   ]
  },
  {
   "cell_type": "markdown",
   "metadata": {
    "id": "Y469JsvQ93Bv"
   },
   "source": [
    "#### **How Well Does the Model Fit the Data?**\n",
    " ***model2* performs better:**\n",
    "\n",
    "\n",
    "* R-squared value:<br>\n",
    "\n",
    "  The most common way to evaluate the overall fit of a linear model is by the **R-squared** value.<br>\n",
    "\n",
    "  R-squared is between 0 and 1 (or between 0 to 100%), and higher is better because it means that more variance is explained by the model.<br>\n",
    "\n",
    "  In case of our models, model1 and model2 have same R-squared values.\n",
    "\n",
    "* F-statistics:<br>\n",
    "\n",
    "  In case of dataset that only have numerical values, it is said higher the F-statistic better the model.\n",
    "\n",
    "  In case of our models, model2 has more F-statistic value than model1.\n",
    "\n",
    "* AIC and BIC: <br>\n",
    "\n",
    "  In case of models, lesser the AIC and BIC, better the model.\n",
    "\n",
    "  In case of models, model2 has lesser AIC and BIC values than the model1."
   ]
  },
  {
   "cell_type": "markdown",
   "metadata": {
    "id": "Mzwl9WxZ7Qs2"
   },
   "source": [
    "**Prediction using \"model2\"**"
   ]
  },
  {
   "cell_type": "markdown",
   "metadata": {
    "id": "4dFq4Lgaz8j2"
   },
   "source": [
    "Let us perform prediction using model2 by importing **sklearn.metrics**"
   ]
  },
  {
   "cell_type": "code",
   "execution_count": 92,
   "metadata": {
    "id": "tek2QIiiX-UF"
   },
   "outputs": [
    {
     "name": "stdout",
     "output_type": "stream",
     "text": [
      "0.4910204064233417\n"
     ]
    }
   ],
   "source": [
    "#Importing sklearn.metrics\n",
    "import sklearn.metrics as metrics\n",
    "y_test_pred1= model2.predict(X_test1)\n",
    "print(np.sqrt(metrics.mean_squared_error(y_test, y_test_pred1)))\n",
    "\n",
    "#RMSE value of model1 = 0.49203326281981113 "
   ]
  },
  {
   "cell_type": "code",
   "execution_count": 93,
   "metadata": {
    "id": "msSs5VEjGuBO"
   },
   "outputs": [
    {
     "name": "stdout",
     "output_type": "stream",
     "text": [
      "MAPE: 9.467552790023412\n"
     ]
    }
   ],
   "source": [
    "#Calculating MAPE\n",
    "def MAPE(y_test_pred1,y_test1):\n",
    "    return np.mean(np.abs((y_test1 - y_test_pred1) / y_test1)) * 100\n",
    "print ('MAPE: ' + str(MAPE(y_test_pred1,y_test1)))"
   ]
  },
  {
   "cell_type": "markdown",
   "metadata": {
    "id": "YZI2fnVkLqJ1"
   },
   "source": [
    "**model2** shows slight improvement as the RMSE and MAPE value of this model is lesser than that of **model1**."
   ]
  },
  {
   "cell_type": "markdown",
   "metadata": {
    "id": "OeedFsJUkJpe"
   },
   "source": [
    "#### **4. Ridge Regression:**"
   ]
  },
  {
   "cell_type": "markdown",
   "metadata": {
    "id": "TCe3lNvgkOJm"
   },
   "source": [
    "* Ridge Regression (L2) is used when there is a problem of multicollinearity.\n",
    "\n",
    "* By adding a degree of bias to the regression estimates, ridge regression reduces the standard errors.\n",
    "\n",
    "<br>\n",
    "\n",
    "![Ridge Reg](https://labcontent.simplicdn.net/data-content/content-assets/Data_and_AI/Applied_Machine_Learning/Images/0.7_Supervised_Learning_-_Regression_and_Classification/Trainer_PPT_and_IPYNB/0.2_Linear_Regression/Ridge%20Reg.JPG)"
   ]
  },
  {
   "cell_type": "markdown",
   "metadata": {
    "id": "vLtahPask1A3"
   },
   "source": [
    "#### **5. Lasso Regression:**"
   ]
  },
  {
   "cell_type": "markdown",
   "metadata": {
    "id": "ADAsum1Mk_9c"
   },
   "source": [
    "* Lasso Regression (L1) is similar to ridge, but it also performs feature selection.\n",
    "\n",
    "\n",
    "* It will set the coefficient value for features that do not help in decision making very low, potentially zero.\n",
    "\n",
    "  ![Lasso Reg](https://labcontent.simplicdn.net/data-content/content-assets/Data_and_AI/Applied_Machine_Learning/Images/0.7_Supervised_Learning_-_Regression_and_Classification/Trainer_PPT_and_IPYNB/0.2_Linear_Regression/Lasso%20Reg.JPG)\n",
    "\n",
    "* Lasso regression tends to exclude variables that are not required from the equation, whereas ridge tends to do better when all variables are present\n"
   ]
  },
  {
   "cell_type": "markdown",
   "metadata": {
    "id": "pySCTk23lima"
   },
   "source": [
    "#### **6. ElasticNet Regression:**"
   ]
  },
  {
   "cell_type": "markdown",
   "metadata": {
    "id": "cwBx313Jl0A6"
   },
   "source": [
    "![ElasticNet Reg](https://labcontent.simplicdn.net/data-content/content-assets/Data_and_AI/Applied_Machine_Learning/Images/0.7_Supervised_Learning_-_Regression_and_Classification/Trainer_PPT_and_IPYNB/0.2_Linear_Regression/ElasticNet%20Reg.JPG)"
   ]
  },
  {
   "cell_type": "markdown",
   "metadata": {
    "id": "btWzKyP7mAoK"
   },
   "source": [
    "#### **Use Case: Ridge, Lasso, ElasticNet Regression for Training and Prediction:**"
   ]
  },
  {
   "cell_type": "markdown",
   "metadata": {
    "id": "BUP0dPU-mFYb"
   },
   "source": [
    "We are going to use the same dataset that we used in the previous use case at the time of training of \"model2\" i.e. inp3"
   ]
  },
  {
   "cell_type": "markdown",
   "metadata": {
    "id": "Ht0pkliww9f2"
   },
   "source": [
    "**1. Ridge Regression:**"
   ]
  },
  {
   "cell_type": "code",
   "execution_count": 94,
   "metadata": {
    "id": "6xpgqzPAxAzx"
   },
   "outputs": [
    {
     "data": {
      "text/plain": [
       "Ridge(alpha=0.001, normalize=True)"
      ]
     },
     "execution_count": 94,
     "metadata": {},
     "output_type": "execute_result"
    }
   ],
   "source": [
    "#Importing Ridge\n",
    "import sklearn\n",
    "from sklearn.linear_model import Ridge\n",
    "ridgeReg = Ridge(alpha=0.001, normalize=True)\n",
    "ridgeReg.fit(X_train1,y_train1)"
   ]
  },
  {
   "cell_type": "markdown",
   "metadata": {
    "id": "UlQbpZ2Qk9RP"
   },
   "source": [
    "**Evaluating using RMSE:**"
   ]
  },
  {
   "cell_type": "code",
   "execution_count": 95,
   "metadata": {
    "id": "Cp6hlHIklAWc"
   },
   "outputs": [
    {
     "name": "stdout",
     "output_type": "stream",
     "text": [
      "0.48012289929471325\n",
      "0.48701283215092206\n",
      "R2 Value/Coefficient of Determination: 0.1364003161554227\n"
     ]
    }
   ],
   "source": [
    "print(np.sqrt(sklearn.metrics.mean_squared_error(y_train1, ridgeReg.predict(X_train1))))\n",
    "print(np.sqrt(sklearn.metrics.mean_squared_error(y_test1, ridgeReg.predict(X_test1))))\n",
    "print('R2 Value/Coefficient of Determination: {}'.format(ridgeReg.score(X_test1, y_test1)))"
   ]
  },
  {
   "cell_type": "markdown",
   "metadata": {
    "id": "phjbBvo538Mq"
   },
   "source": [
    "**2. Lasso Regression:**"
   ]
  },
  {
   "cell_type": "code",
   "execution_count": 96,
   "metadata": {
    "id": "AMyu1Lk-394b"
   },
   "outputs": [
    {
     "data": {
      "text/plain": [
       "Lasso(alpha=0.001, normalize=True)"
      ]
     },
     "execution_count": 96,
     "metadata": {},
     "output_type": "execute_result"
    }
   ],
   "source": [
    "#Importing Lasso\n",
    "from sklearn.linear_model import Lasso\n",
    "lassoreg = Lasso(alpha=0.001, normalize=True)\n",
    "lassoreg.fit(X_train1,y_train1)"
   ]
  },
  {
   "cell_type": "markdown",
   "metadata": {
    "id": "G7ew0yN_lC9R"
   },
   "source": [
    "**Evaluating using RMSE:**"
   ]
  },
  {
   "cell_type": "code",
   "execution_count": 97,
   "metadata": {
    "id": "gqO61XjtlEm2"
   },
   "outputs": [
    {
     "name": "stdout",
     "output_type": "stream",
     "text": [
      "0.520679541079235\n",
      "0.5212800927272304\n",
      "R2 Value/Coefficient of Determination: 0.01059535365885067\n"
     ]
    }
   ],
   "source": [
    "print(np.sqrt(sklearn.metrics.mean_squared_error(y_train1, lassoreg.predict(X_train1))))\n",
    "print(np.sqrt(sklearn.metrics.mean_squared_error(y_test1, lassoreg.predict(X_test1))))\n",
    "print('R2 Value/Coefficient of Determination: {}'.format(lassoreg.score(X_test1, y_test1)))\n"
   ]
  },
  {
   "cell_type": "markdown",
   "metadata": {
    "id": "qnjUflT44p_M"
   },
   "source": [
    "**3. ElasticNet Regression:**"
   ]
  },
  {
   "cell_type": "code",
   "execution_count": 98,
   "metadata": {
    "id": "ODkIycTW4tMX"
   },
   "outputs": [
    {
     "data": {
      "text/plain": [
       "ElasticNet(alpha=0.001, normalize=True)"
      ]
     },
     "execution_count": 98,
     "metadata": {},
     "output_type": "execute_result"
    }
   ],
   "source": [
    "#Importing ElasticNet\n",
    "from sklearn.linear_model import ElasticNet\n",
    "Elastic = ElasticNet(alpha=0.001, normalize=True)\n",
    "Elastic.fit(X_train1,y_train1)\n"
   ]
  },
  {
   "cell_type": "markdown",
   "metadata": {
    "id": "RCCNPFnplH-9"
   },
   "source": [
    "**Evaluating using RMSE:**"
   ]
  },
  {
   "cell_type": "code",
   "execution_count": 99,
   "metadata": {
    "id": "ofNarEA0lIir"
   },
   "outputs": [
    {
     "name": "stdout",
     "output_type": "stream",
     "text": [
      "0.5214331925073523\n",
      "0.5220643755303499\n",
      "R2 Value/Coefficient of Determination: 0.007615931276933607\n"
     ]
    }
   ],
   "source": [
    "print(np.sqrt(sklearn.metrics.mean_squared_error(y_train1, Elastic.predict(X_train1))))\n",
    "print(np.sqrt(sklearn.metrics.mean_squared_error(y_test1, Elastic.predict(X_test1))))\n",
    "print('R2 Value/Coefficient of Determination: {}'.format(Elastic.score(X_test1, y_test1)))\n"
   ]
  },
  {
   "cell_type": "markdown",
   "metadata": {
    "id": "uzlv97mx49Oz"
   },
   "source": [
    "### **Exercise:**"
   ]
  },
  {
   "cell_type": "markdown",
   "metadata": {
    "id": "aTSZPu7c4_OW"
   },
   "source": [
    "* Perform the iteration of the model with Lasso, Ridge, and ElasticNet Regression by using the original dataset i.e., **inp0** as done in the case of Linear Regression.\n",
    "\n",
    "* Use the following metrics to evaluate the model:\n",
    "  * RMSE\n",
    "  * MAPE\n",
    "  * R$^2$ error"
   ]
  },
  {
   "cell_type": "markdown",
   "metadata": {
    "id": "p2Ra1XbqK9bc"
   },
   "source": [
    "#### **Cost Function:**\n",
    "- A cost function is a function that evaluates a model's performance for a given dataset.\n",
    "\n",
    "- It evaluates and expresses the error between predicted values and expected values as a single, real number."
   ]
  },
  {
   "cell_type": "markdown",
   "metadata": {
    "id": "oq0faxmKL_LV"
   },
   "source": [
    "### **Gradient:**\n",
    "\n",
    "- A gradient is a measurement of how much a function's output varies as its inputs are changed."
   ]
  },
  {
   "cell_type": "markdown",
   "metadata": {
    "id": "bXOr6kXwMDtH"
   },
   "source": [
    "### **Gradient Descent:**\n",
    "\n",
    "- Gradient descent is an optimization algorithm that is used to find the values of the parameters (coefficients) of a function that minimizes the cost function by iteratively moving in the direction of steepest descent as determined by the gradient's negative.\n",
    "\n",
    "- It's an optimization algorithm to discover the local minimum of a differentiable function or feature.\n",
    "\n",
    "- We use gradient descent to update the parameters of our model. In linear regression, parameters correspond to coefficients, and in neural networks, parameters correspond to weights.\n",
    "\n",
    "- The gradient descent equation is as follows:\n",
    "\n",
    "![GD](https://labcontent.simplicdn.net/data-content/content-assets/Data_and_AI/Applied_Machine_Learning/Images/0.7_Supervised_Learning_-_Regression_and_Classification/Trainer_PPT_and_IPYNB/0.2_Linear_Regression/GD.png)\n",
    "\n",
    "### **Types of Gradient Descents:**\n",
    "\n",
    "Gradient descents are divided into three categories, which vary primarily in the amount of data they use. These categories are:\n",
    "\n",
    "1. Batch Gradient Descent (BGD)\n",
    "2. Stochastic Gradient Descent (SGD) \n",
    "3. Mini-Batch Gradient Descent (Mini BGD)\n",
    "\n",
    "\n",
    "#### **1. Batch Gradient Descent (BGD):**\n",
    "\n",
    "- Batch gradient descent (BGD), also known as vanilla gradient descent, measures the error for each example in the training dataset, but the model is updated only after all of the training examples have been evaluated.\n",
    "\n",
    "- This whole process is referred to as a training epoch because it resembles a loop.\n",
    "\n",
    "- For each gradient descent iteration, it processes all the training samples. However, batch gradient descent is computationally very expensive when the number of training examples is high.\n",
    "\n",
    "- Thus, if the number of training examples is high, we tend to use stochastic gradient descent (SGD) or mini-batch gradient descent (Mini BGD) instead.\n",
    "\n",
    "#### **2. Stochastic Gradient Descent (SGD):**\n",
    "\n",
    "- Stochastic gradient descent (SGD) is a form of gradient descent that processes one training example per iteration.\n",
    "\n",
    "- It estimates the error for each example in the training dataset and updates the parameters one by one.\n",
    "\n",
    "- Based on the problem statement, batch gradient descent (BGD) can be much faster because the parameters are modified even after an iteration in which only a single example has been processed.\n",
    "\n",
    "- One advantage is that the frequent updates allow us to track our progress in great detail.\n",
    "\n",
    "- However, even if the number of training examples is high, it can only process one of them, which will add to the system's overhead and the number of iterations needed.\n",
    "\n",
    "#### **3. Mini-Batch Gradient Descent (Mini BGD):**\n",
    "\n",
    "- Mini-batch gradient descent (Mini BGD) combines the principles of stochastic gradient descent (SGD) and batch gradient descent (BGD) and is faster than both.\n",
    "\n",
    "- It divides the training dataset into small batches and updates each of those batches. This establishes a balance between the robustness of stochastic gradient descent (SGD) and the efficiency of batch gradient descent (BGD).\n",
    "\n",
    "- It is compatible with both larger and smaller training examples.\n"
   ]
  },
  {
   "cell_type": "markdown",
   "metadata": {
    "id": "7Xt9x-WFMKx8"
   },
   "source": [
    "### <b>Use Case: Stochastic Gradient Descent (SGD):</b>"
   ]
  },
  {
   "cell_type": "markdown",
   "metadata": {
    "id": "0w-_L7okMPCA"
   },
   "source": [
    "#### <b> Importing Required Libraries </b>"
   ]
  },
  {
   "cell_type": "code",
   "execution_count": 102,
   "metadata": {
    "id": "kmg_RHS6MMJY"
   },
   "outputs": [],
   "source": [
    "#Importing libraries\n",
    "import numpy as np\n",
    "import pandas as pd\n",
    "\n",
    "# from tabulate import tabulate\n",
    "\n",
    "from sklearn.datasets import load_boston\n",
    "from sklearn.preprocessing import StandardScaler\n",
    "from sklearn.model_selection import cross_val_score, train_test_split\n",
    "from sklearn.linear_model import LinearRegression, SGDRegressor\n",
    "from sklearn.metrics import mean_squared_error, mean_absolute_error, explained_variance_score\n",
    "\n",
    "import warnings\n",
    "warnings.filterwarnings(\"ignore\")\n",
    "\n",
    "import matplotlib.pyplot as plt\n",
    "%matplotlib inline"
   ]
  },
  {
   "cell_type": "markdown",
   "metadata": {
    "id": "8Nigq9_SMUuG"
   },
   "source": [
    "#### <b> Load the Data</b>"
   ]
  },
  {
   "cell_type": "code",
   "execution_count": 103,
   "metadata": {
    "id": "EPc44DKDMbvL"
   },
   "outputs": [
    {
     "name": "stdout",
     "output_type": "stream",
     "text": [
      "dict_keys(['data', 'target', 'feature_names', 'DESCR', 'filename'])\n"
     ]
    }
   ],
   "source": [
    "#Load the data dictionary\n",
    "boston = load_boston()\n",
    "\n",
    "#Find the dict keys\n",
    "print(boston.keys())"
   ]
  },
  {
   "cell_type": "markdown",
   "metadata": {
    "id": "PfA07X1-MgQN"
   },
   "source": [
    "#### <b> Dataset Description</b>"
   ]
  },
  {
   "cell_type": "code",
   "execution_count": 104,
   "metadata": {
    "id": "OzmUllK2MkaT"
   },
   "outputs": [
    {
     "name": "stdout",
     "output_type": "stream",
     "text": [
      ".. _boston_dataset:\n",
      "\n",
      "Boston house prices dataset\n",
      "---------------------------\n",
      "\n",
      "**Data Set Characteristics:**  \n",
      "\n",
      "    :Number of Instances: 506 \n",
      "\n",
      "    :Number of Attributes: 13 numeric/categorical predictive. Median Value (attribute 14) is usually the target.\n",
      "\n",
      "    :Attribute Information (in order):\n",
      "        - CRIM     per capita crime rate by town\n",
      "        - ZN       proportion of residential land zoned for lots over 25,000 sq.ft.\n",
      "        - INDUS    proportion of non-retail business acres per town\n",
      "        - CHAS     Charles River dummy variable (= 1 if tract bounds river; 0 otherwise)\n",
      "        - NOX      nitric oxides concentration (parts per 10 million)\n",
      "        - RM       average number of rooms per dwelling\n",
      "        - AGE      proportion of owner-occupied units built prior to 1940\n",
      "        - DIS      weighted distances to five Boston employment centres\n",
      "        - RAD      index of accessibility to radial highways\n",
      "        - TAX      full-value property-tax rate per $10,000\n",
      "        - PTRATIO  pupil-teacher ratio by town\n",
      "        - B        1000(Bk - 0.63)^2 where Bk is the proportion of black people by town\n",
      "        - LSTAT    % lower status of the population\n",
      "        - MEDV     Median value of owner-occupied homes in $1000's\n",
      "\n",
      "    :Missing Attribute Values: None\n",
      "\n",
      "    :Creator: Harrison, D. and Rubinfeld, D.L.\n",
      "\n",
      "This is a copy of UCI ML housing dataset.\n",
      "https://archive.ics.uci.edu/ml/machine-learning-databases/housing/\n",
      "\n",
      "\n",
      "This dataset was taken from the StatLib library which is maintained at Carnegie Mellon University.\n",
      "\n",
      "The Boston house-price data of Harrison, D. and Rubinfeld, D.L. 'Hedonic\n",
      "prices and the demand for clean air', J. Environ. Economics & Management,\n",
      "vol.5, 81-102, 1978.   Used in Belsley, Kuh & Welsch, 'Regression diagnostics\n",
      "...', Wiley, 1980.   N.B. Various transformations are used in the table on\n",
      "pages 244-261 of the latter.\n",
      "\n",
      "The Boston house-price data has been used in many machine learning papers that address regression\n",
      "problems.   \n",
      "     \n",
      ".. topic:: References\n",
      "\n",
      "   - Belsley, Kuh & Welsch, 'Regression diagnostics: Identifying Influential Data and Sources of Collinearity', Wiley, 1980. 244-261.\n",
      "   - Quinlan,R. (1993). Combining Instance-Based and Model-Based Learning. In Proceedings on the Tenth International Conference of Machine Learning, 236-243, University of Massachusetts, Amherst. Morgan Kaufmann.\n",
      "\n"
     ]
    }
   ],
   "source": [
    "#To print the boston dataset description\n",
    "print(boston.DESCR)"
   ]
  },
  {
   "cell_type": "markdown",
   "metadata": {
    "id": "69wj19BtMoRZ"
   },
   "source": [
    "#### <b> Find Features and Target</b>"
   ]
  },
  {
   "cell_type": "markdown",
   "metadata": {
    "id": "g3tSIErbz8kK"
   },
   "source": [
    "Let us split the data into **test** and **train.**"
   ]
  },
  {
   "cell_type": "code",
   "execution_count": 105,
   "metadata": {
    "id": "LZ_sG4lqMtUI"
   },
   "outputs": [],
   "source": [
    "X = boston.data\n",
    "Y = boston.target\n",
    "\n",
    "#Splitting the data to test and train\n",
    "x_train, x_test, y_train, y_test = train_test_split(X, Y, test_size=0.3)"
   ]
  },
  {
   "cell_type": "markdown",
   "metadata": {
    "id": "WPbJFsVoMxMl"
   },
   "source": [
    "#### <b>Find Feature's Name</b>"
   ]
  },
  {
   "cell_type": "code",
   "execution_count": 106,
   "metadata": {
    "id": "Tw0lvsyzM4FC"
   },
   "outputs": [
    {
     "data": {
      "text/plain": [
       "array(['CRIM', 'ZN', 'INDUS', 'CHAS', 'NOX', 'RM', 'AGE', 'DIS', 'RAD',\n",
       "       'TAX', 'PTRATIO', 'B', 'LSTAT'], dtype='<U7')"
      ]
     },
     "execution_count": 106,
     "metadata": {},
     "output_type": "execute_result"
    }
   ],
   "source": [
    "columns = boston.feature_names\n",
    "columns"
   ]
  },
  {
   "cell_type": "code",
   "execution_count": 107,
   "metadata": {
    "id": "DbgfOT6IM9h7"
   },
   "outputs": [],
   "source": [
    "boston_df = pd.DataFrame(boston.data)\n",
    "boston_df.columns = columns\n",
    "boston_df[\"MEDV\"] = Y"
   ]
  },
  {
   "cell_type": "code",
   "execution_count": 108,
   "metadata": {
    "id": "iAv9Es_LM_hU"
   },
   "outputs": [
    {
     "data": {
      "text/html": [
       "<div>\n",
       "<style scoped>\n",
       "    .dataframe tbody tr th:only-of-type {\n",
       "        vertical-align: middle;\n",
       "    }\n",
       "\n",
       "    .dataframe tbody tr th {\n",
       "        vertical-align: top;\n",
       "    }\n",
       "\n",
       "    .dataframe thead th {\n",
       "        text-align: right;\n",
       "    }\n",
       "</style>\n",
       "<table border=\"1\" class=\"dataframe\">\n",
       "  <thead>\n",
       "    <tr style=\"text-align: right;\">\n",
       "      <th></th>\n",
       "      <th>CRIM</th>\n",
       "      <th>ZN</th>\n",
       "      <th>INDUS</th>\n",
       "      <th>CHAS</th>\n",
       "      <th>NOX</th>\n",
       "      <th>RM</th>\n",
       "      <th>AGE</th>\n",
       "      <th>DIS</th>\n",
       "      <th>RAD</th>\n",
       "      <th>TAX</th>\n",
       "      <th>PTRATIO</th>\n",
       "      <th>B</th>\n",
       "      <th>LSTAT</th>\n",
       "      <th>MEDV</th>\n",
       "    </tr>\n",
       "  </thead>\n",
       "  <tbody>\n",
       "    <tr>\n",
       "      <th>0</th>\n",
       "      <td>0.00632</td>\n",
       "      <td>18.0</td>\n",
       "      <td>2.31</td>\n",
       "      <td>0.0</td>\n",
       "      <td>0.538</td>\n",
       "      <td>6.575</td>\n",
       "      <td>65.2</td>\n",
       "      <td>4.0900</td>\n",
       "      <td>1.0</td>\n",
       "      <td>296.0</td>\n",
       "      <td>15.3</td>\n",
       "      <td>396.90</td>\n",
       "      <td>4.98</td>\n",
       "      <td>24.0</td>\n",
       "    </tr>\n",
       "    <tr>\n",
       "      <th>1</th>\n",
       "      <td>0.02731</td>\n",
       "      <td>0.0</td>\n",
       "      <td>7.07</td>\n",
       "      <td>0.0</td>\n",
       "      <td>0.469</td>\n",
       "      <td>6.421</td>\n",
       "      <td>78.9</td>\n",
       "      <td>4.9671</td>\n",
       "      <td>2.0</td>\n",
       "      <td>242.0</td>\n",
       "      <td>17.8</td>\n",
       "      <td>396.90</td>\n",
       "      <td>9.14</td>\n",
       "      <td>21.6</td>\n",
       "    </tr>\n",
       "    <tr>\n",
       "      <th>2</th>\n",
       "      <td>0.02729</td>\n",
       "      <td>0.0</td>\n",
       "      <td>7.07</td>\n",
       "      <td>0.0</td>\n",
       "      <td>0.469</td>\n",
       "      <td>7.185</td>\n",
       "      <td>61.1</td>\n",
       "      <td>4.9671</td>\n",
       "      <td>2.0</td>\n",
       "      <td>242.0</td>\n",
       "      <td>17.8</td>\n",
       "      <td>392.83</td>\n",
       "      <td>4.03</td>\n",
       "      <td>34.7</td>\n",
       "    </tr>\n",
       "    <tr>\n",
       "      <th>3</th>\n",
       "      <td>0.03237</td>\n",
       "      <td>0.0</td>\n",
       "      <td>2.18</td>\n",
       "      <td>0.0</td>\n",
       "      <td>0.458</td>\n",
       "      <td>6.998</td>\n",
       "      <td>45.8</td>\n",
       "      <td>6.0622</td>\n",
       "      <td>3.0</td>\n",
       "      <td>222.0</td>\n",
       "      <td>18.7</td>\n",
       "      <td>394.63</td>\n",
       "      <td>2.94</td>\n",
       "      <td>33.4</td>\n",
       "    </tr>\n",
       "    <tr>\n",
       "      <th>4</th>\n",
       "      <td>0.06905</td>\n",
       "      <td>0.0</td>\n",
       "      <td>2.18</td>\n",
       "      <td>0.0</td>\n",
       "      <td>0.458</td>\n",
       "      <td>7.147</td>\n",
       "      <td>54.2</td>\n",
       "      <td>6.0622</td>\n",
       "      <td>3.0</td>\n",
       "      <td>222.0</td>\n",
       "      <td>18.7</td>\n",
       "      <td>396.90</td>\n",
       "      <td>5.33</td>\n",
       "      <td>36.2</td>\n",
       "    </tr>\n",
       "  </tbody>\n",
       "</table>\n",
       "</div>"
      ],
      "text/plain": [
       "      CRIM    ZN  INDUS  CHAS    NOX     RM   AGE     DIS  RAD    TAX  \\\n",
       "0  0.00632  18.0   2.31   0.0  0.538  6.575  65.2  4.0900  1.0  296.0   \n",
       "1  0.02731   0.0   7.07   0.0  0.469  6.421  78.9  4.9671  2.0  242.0   \n",
       "2  0.02729   0.0   7.07   0.0  0.469  7.185  61.1  4.9671  2.0  242.0   \n",
       "3  0.03237   0.0   2.18   0.0  0.458  6.998  45.8  6.0622  3.0  222.0   \n",
       "4  0.06905   0.0   2.18   0.0  0.458  7.147  54.2  6.0622  3.0  222.0   \n",
       "\n",
       "   PTRATIO       B  LSTAT  MEDV  \n",
       "0     15.3  396.90   4.98  24.0  \n",
       "1     17.8  396.90   9.14  21.6  \n",
       "2     17.8  392.83   4.03  34.7  \n",
       "3     18.7  394.63   2.94  33.4  \n",
       "4     18.7  396.90   5.33  36.2  "
      ]
     },
     "execution_count": 108,
     "metadata": {},
     "output_type": "execute_result"
    }
   ],
   "source": [
    "boston_df.head()"
   ]
  },
  {
   "cell_type": "code",
   "execution_count": 109,
   "metadata": {
    "id": "xNDXo4AjNB4G"
   },
   "outputs": [
    {
     "name": "stdout",
     "output_type": "stream",
     "text": [
      "             CRIM          ZN       INDUS        CHAS         NOX          RM  \\\n",
      "count  506.000000  506.000000  506.000000  506.000000  506.000000  506.000000   \n",
      "mean     3.613524   11.363636   11.136779    0.069170    0.554695    6.284634   \n",
      "std      8.601545   23.322453    6.860353    0.253994    0.115878    0.702617   \n",
      "min      0.006320    0.000000    0.460000    0.000000    0.385000    3.561000   \n",
      "25%      0.082045    0.000000    5.190000    0.000000    0.449000    5.885500   \n",
      "50%      0.256510    0.000000    9.690000    0.000000    0.538000    6.208500   \n",
      "75%      3.677083   12.500000   18.100000    0.000000    0.624000    6.623500   \n",
      "max     88.976200  100.000000   27.740000    1.000000    0.871000    8.780000   \n",
      "\n",
      "              AGE         DIS         RAD         TAX     PTRATIO           B  \\\n",
      "count  506.000000  506.000000  506.000000  506.000000  506.000000  506.000000   \n",
      "mean    68.574901    3.795043    9.549407  408.237154   18.455534  356.674032   \n",
      "std     28.148861    2.105710    8.707259  168.537116    2.164946   91.294864   \n",
      "min      2.900000    1.129600    1.000000  187.000000   12.600000    0.320000   \n",
      "25%     45.025000    2.100175    4.000000  279.000000   17.400000  375.377500   \n",
      "50%     77.500000    3.207450    5.000000  330.000000   19.050000  391.440000   \n",
      "75%     94.075000    5.188425   24.000000  666.000000   20.200000  396.225000   \n",
      "max    100.000000   12.126500   24.000000  711.000000   22.000000  396.900000   \n",
      "\n",
      "            LSTAT        MEDV  \n",
      "count  506.000000  506.000000  \n",
      "mean    12.653063   22.532806  \n",
      "std      7.141062    9.197104  \n",
      "min      1.730000    5.000000  \n",
      "25%      6.950000   17.025000  \n",
      "50%     11.360000   21.200000  \n",
      "75%     16.955000   25.000000  \n",
      "max     37.970000   50.000000  \n"
     ]
    }
   ],
   "source": [
    "print(boston_df.describe())"
   ]
  },
  {
   "cell_type": "markdown",
   "metadata": {
    "id": "TtfLKygJM6_f"
   },
   "source": [
    "#### <b> Standardizing Data</b>"
   ]
  },
  {
   "cell_type": "markdown",
   "metadata": {
    "id": "ueEJJaynz8kM"
   },
   "source": [
    "Let us standardize the **test** and **train** data using the **StandardScaler()** function."
   ]
  },
  {
   "cell_type": "code",
   "execution_count": 110,
   "metadata": {
    "id": "QY9bk5gqNH-P"
   },
   "outputs": [],
   "source": [
    "scaler = StandardScaler().fit(x_train)\n",
    "x_train = scaler.transform(x_train)\n",
    "x_test = scaler.transform(x_test)"
   ]
  },
  {
   "cell_type": "code",
   "execution_count": 111,
   "metadata": {
    "id": "Y85tX7CKNKyq"
   },
   "outputs": [
    {
     "data": {
      "text/html": [
       "<div>\n",
       "<style scoped>\n",
       "    .dataframe tbody tr th:only-of-type {\n",
       "        vertical-align: middle;\n",
       "    }\n",
       "\n",
       "    .dataframe tbody tr th {\n",
       "        vertical-align: top;\n",
       "    }\n",
       "\n",
       "    .dataframe thead th {\n",
       "        text-align: right;\n",
       "    }\n",
       "</style>\n",
       "<table border=\"1\" class=\"dataframe\">\n",
       "  <thead>\n",
       "    <tr style=\"text-align: right;\">\n",
       "      <th></th>\n",
       "      <th>0</th>\n",
       "      <th>1</th>\n",
       "      <th>2</th>\n",
       "      <th>3</th>\n",
       "      <th>4</th>\n",
       "      <th>5</th>\n",
       "      <th>6</th>\n",
       "      <th>7</th>\n",
       "      <th>8</th>\n",
       "      <th>9</th>\n",
       "      <th>10</th>\n",
       "      <th>11</th>\n",
       "      <th>12</th>\n",
       "      <th>price</th>\n",
       "    </tr>\n",
       "  </thead>\n",
       "  <tbody>\n",
       "    <tr>\n",
       "      <th>0</th>\n",
       "      <td>-0.373334</td>\n",
       "      <td>-0.470075</td>\n",
       "      <td>-0.210011</td>\n",
       "      <td>-0.281546</td>\n",
       "      <td>-0.121899</td>\n",
       "      <td>0.142383</td>\n",
       "      <td>-0.083625</td>\n",
       "      <td>-0.088640</td>\n",
       "      <td>-0.648782</td>\n",
       "      <td>-0.605180</td>\n",
       "      <td>-0.035296</td>\n",
       "      <td>0.431634</td>\n",
       "      <td>-0.306283</td>\n",
       "      <td>23.1</td>\n",
       "    </tr>\n",
       "    <tr>\n",
       "      <th>1</th>\n",
       "      <td>-0.412606</td>\n",
       "      <td>0.419681</td>\n",
       "      <td>-1.165807</td>\n",
       "      <td>3.551814</td>\n",
       "      <td>-1.008863</td>\n",
       "      <td>1.968069</td>\n",
       "      <td>-0.709675</td>\n",
       "      <td>0.725522</td>\n",
       "      <td>-0.535477</td>\n",
       "      <td>-1.117547</td>\n",
       "      <td>-1.661029</td>\n",
       "      <td>0.234906</td>\n",
       "      <td>-1.322994</td>\n",
       "      <td>46.0</td>\n",
       "    </tr>\n",
       "    <tr>\n",
       "      <th>2</th>\n",
       "      <td>-0.410234</td>\n",
       "      <td>-0.470075</td>\n",
       "      <td>-1.229818</td>\n",
       "      <td>-0.281546</td>\n",
       "      <td>-0.990439</td>\n",
       "      <td>2.221034</td>\n",
       "      <td>-1.167586</td>\n",
       "      <td>-0.106723</td>\n",
       "      <td>-0.875392</td>\n",
       "      <td>-0.768206</td>\n",
       "      <td>-0.221094</td>\n",
       "      <td>0.413414</td>\n",
       "      <td>-1.245530</td>\n",
       "      <td>43.8</td>\n",
       "    </tr>\n",
       "  </tbody>\n",
       "</table>\n",
       "</div>"
      ],
      "text/plain": [
       "          0         1         2         3         4         5         6  \\\n",
       "0 -0.373334 -0.470075 -0.210011 -0.281546 -0.121899  0.142383 -0.083625   \n",
       "1 -0.412606  0.419681 -1.165807  3.551814 -1.008863  1.968069 -0.709675   \n",
       "2 -0.410234 -0.470075 -1.229818 -0.281546 -0.990439  2.221034 -1.167586   \n",
       "\n",
       "          7         8         9        10        11        12  price  \n",
       "0 -0.088640 -0.648782 -0.605180 -0.035296  0.431634 -0.306283   23.1  \n",
       "1  0.725522 -0.535477 -1.117547 -1.661029  0.234906 -1.322994   46.0  \n",
       "2 -0.106723 -0.875392 -0.768206 -0.221094  0.413414 -1.245530   43.8  "
      ]
     },
     "execution_count": 111,
     "metadata": {},
     "output_type": "execute_result"
    }
   ],
   "source": [
    "train_data=pd.DataFrame(x_train)\n",
    "train_data['price']=y_train\n",
    "train_data.head(3)"
   ]
  },
  {
   "cell_type": "code",
   "execution_count": 112,
   "metadata": {
    "id": "M-OtJpnhNNWl"
   },
   "outputs": [],
   "source": [
    "x_test = np.array(x_test)\n",
    "y_test = np.array(y_test)"
   ]
  },
  {
   "cell_type": "code",
   "execution_count": 113,
   "metadata": {
    "id": "7JyGVKFGNRoi"
   },
   "outputs": [
    {
     "name": "stdout",
     "output_type": "stream",
     "text": [
      "(354, 13)\n",
      "(354,)\n",
      "(152, 13)\n",
      "(152,)\n"
     ]
    }
   ],
   "source": [
    "#Shape of test and train data metrics\n",
    "print(x_train.shape)\n",
    "print(y_train.shape)\n",
    "\n",
    "print(x_test.shape)\n",
    "print(y_test.shape)"
   ]
  },
  {
   "cell_type": "markdown",
   "metadata": {
    "id": "ZXO5iaEHNUPe"
   },
   "source": [
    "#### <b> Linear Regression: Boston Housing Prediction</b>"
   ]
  },
  {
   "cell_type": "markdown",
   "metadata": {
    "id": "4bZKJusiz8kO"
   },
   "source": [
    "Let us calculate **R-Squared**, **Linear Regressor Model Accuracy**, **MAE**, **MSE**, and **RMSE**."
   ]
  },
  {
   "cell_type": "code",
   "execution_count": 114,
   "metadata": {
    "id": "5jSg_01tNVue"
   },
   "outputs": [
    {
     "name": "stdout",
     "output_type": "stream",
     "text": [
      "Linear Regression: Boston Housing Prediction\n",
      "R-squared: 0.7404798490576203\n",
      "Linear Regressor Model Accuracy: 73.46918 %\n",
      "\n",
      "MAE: 3.4536104387949833\n",
      "MSE: 3.4536104387949833\n",
      "RMSE: 11.598523495920807\n",
      "\n"
     ]
    }
   ],
   "source": [
    "print(\"Linear Regression: Boston Housing Prediction\")\n",
    "lin_reg = LinearRegression()\n",
    "lin_reg.fit(x_train, y_train)\n",
    "lin_score = lin_reg.score(x_train, y_train)\n",
    "print(\"R-squared:\", lin_score)\n",
    "\n",
    "lin_y_pred = lin_reg.predict(x_test)\n",
    "lin_accuracy = explained_variance_score(y_test, lin_y_pred)\n",
    "lin_accuracy = round(lin_accuracy*100, 6)\n",
    "print(\"Linear Regressor Model Accuracy:\", lin_accuracy, \"%\")\n",
    "print()\n",
    "\n",
    "lin_mae = mean_absolute_error(y_test, lin_y_pred)\n",
    "lin_mse = mean_squared_error(y_test, lin_y_pred)\n",
    "lin_rmse = lin_mse*(1/2.0)\n",
    "\n",
    "print(\"MAE:\", lin_mae)\n",
    "print(\"MSE:\", lin_mae)\n",
    "print(\"RMSE:\", lin_rmse)\n",
    "print()"
   ]
  },
  {
   "cell_type": "markdown",
   "metadata": {
    "id": "WDNKc9zdz8kO"
   },
   "source": [
    "Let us plot a graph of the **Actual vs. Predicted Target**."
   ]
  },
  {
   "cell_type": "code",
   "execution_count": 115,
   "metadata": {
    "id": "lxLV3uEWNVXR"
   },
   "outputs": [
    {
     "data": {
      "image/png": "[encoded data removed]",
      "text/plain": [
       "<Figure size 432x288 with 1 Axes>"
      ]
     },
     "metadata": {
      "needs_background": "light"
     },
     "output_type": "display_data"
    }
   ],
   "source": [
    "plt.scatter(y_test, lin_y_pred)\n",
    "plt.grid()\n",
    "plt.xlabel('Actual Y')\n",
    "plt.ylabel('Predicted Y')\n",
    "plt.title('Actual vs. Predicted Target')\n",
    "plt.show()"
   ]
  },
  {
   "cell_type": "markdown",
   "metadata": {
    "id": "nHLvonh8z8kP"
   },
   "source": [
    "Let us plot a graph of the **Test vs. Predicted Data**."
   ]
  },
  {
   "cell_type": "code",
   "execution_count": 116,
   "metadata": {
    "id": "_FYH7LKaNcHt"
   },
   "outputs": [
    {
     "data": {
      "image/png": "[encoded data removed]",
      "text/plain": [
       "<Figure size 432x288 with 1 Axes>"
      ]
     },
     "metadata": {
      "needs_background": "light"
     },
     "output_type": "display_data"
    }
   ],
   "source": [
    "x_ax = range(len(y_test))\n",
    "plt.plot(x_ax, y_test, label=\"original\")\n",
    "plt.plot(x_ax, lin_y_pred, label=\"predicted\")\n",
    "plt.title(\"Test vs. Predicted Data\")\n",
    "plt.xlabel('X-axis')\n",
    "plt.ylabel('Y-axis')\n",
    "plt.legend(loc='best',fancybox=True, shadow=True)\n",
    "plt.grid(True)\n",
    "plt.show()"
   ]
  },
  {
   "cell_type": "markdown",
   "metadata": {
    "id": "wSXlb3HANhud"
   },
   "source": [
    "#### <b> SGD Regression: Boston Housing Prediction</b>"
   ]
  },
  {
   "cell_type": "markdown",
   "metadata": {
    "id": "j9EOqTdiz8kQ"
   },
   "source": [
    "Let us calculate **R-squared**, **SGD Regressor Model Accuracy**, **MAE**, **MSE**, and **RMSE**."
   ]
  },
  {
   "cell_type": "code",
   "execution_count": 117,
   "metadata": {
    "id": "Udml5S5yNcCk"
   },
   "outputs": [
    {
     "name": "stdout",
     "output_type": "stream",
     "text": [
      "SGD Regression: Boston Housing Prediction\n",
      "R-squared: 0.7386283193848023\n",
      "SGD Regressor Model Accuracy: 73.529931 %\n",
      "\n",
      "MAE: 3.414552604141136\n",
      "MSE: 23.09650482889077\n",
      "RMSE: 11.548252414445384\n",
      "\n"
     ]
    }
   ],
   "source": [
    "print(\"SGD Regression: Boston Housing Prediction\")\n",
    "sgd_reg = SGDRegressor()\n",
    "sgd_reg.fit(x_train, y_train)\n",
    "sgd_score = sgd_reg.score(x_train, y_train)\n",
    "print(\"R-squared:\", sgd_score)\n",
    "\n",
    "sgd_y_pred = sgd_reg.predict(x_test)\n",
    "sgd_accuracy = explained_variance_score(y_test, sgd_y_pred)\n",
    "sgd_accuracy = round(sgd_accuracy*100, 6)\n",
    "print(\"SGD Regressor Model Accuracy:\", sgd_accuracy, \"%\")\n",
    "print()\n",
    "\n",
    "sgd_mae = mean_absolute_error(y_test, sgd_y_pred)\n",
    "sgd_mse = mean_squared_error(y_test, sgd_y_pred)\n",
    "sgd_rmse = sgd_mse*(1/2.0)\n",
    "\n",
    "print(\"MAE:\", sgd_mae)\n",
    "print(\"MSE:\", sgd_mse)\n",
    "print(\"RMSE:\", sgd_rmse)\n",
    "print()"
   ]
  },
  {
   "cell_type": "markdown",
   "metadata": {
    "id": "BL40Dijpz8kU"
   },
   "source": [
    "Let us plot a graph of the **Actual vs. Predicted Target**."
   ]
  },
  {
   "cell_type": "code",
   "execution_count": 118,
   "metadata": {
    "id": "oVBJm8YENb3t"
   },
   "outputs": [
    {
     "data": {
      "image/png": "[encoded data removed]",
      "text/plain": [
       "<Figure size 432x288 with 1 Axes>"
      ]
     },
     "metadata": {
      "needs_background": "light"
     },
     "output_type": "display_data"
    }
   ],
   "source": [
    "plt.scatter(y_test, sgd_y_pred)\n",
    "plt.grid()\n",
    "plt.xlabel('Actual Y')\n",
    "plt.ylabel('Predicted Y')\n",
    "plt.title('Actual vs. Predicted Target')\n",
    "plt.show()"
   ]
  },
  {
   "cell_type": "markdown",
   "metadata": {
    "id": "ppS9W-S8z8kV"
   },
   "source": [
    "Let us plot a graph of the **Test vs. Predicted Data**."
   ]
  },
  {
   "cell_type": "code",
   "execution_count": 119,
   "metadata": {
    "id": "K4C6JNxwNqN4"
   },
   "outputs": [
    {
     "data": {
      "image/png": "[encoded data removed]",
      "text/plain": [
       "<Figure size 432x288 with 1 Axes>"
      ]
     },
     "metadata": {
      "needs_background": "light"
     },
     "output_type": "display_data"
    }
   ],
   "source": [
    "x_ax = range(len(y_test))\n",
    "plt.plot(x_ax, y_test, label=\"original\")\n",
    "plt.plot(x_ax, sgd_y_pred, label=\"predicted\")\n",
    "plt.title(\"Test vs. Predicted Data\")\n",
    "plt.xlabel('X-axis')\n",
    "plt.ylabel('Y-axis')\n",
    "plt.legend(loc='best',fancybox=True, shadow=True)\n",
    "plt.grid(True)\n",
    "plt.show()"
   ]
  },
  {
   "cell_type": "markdown",
   "metadata": {
    "id": "Ys3AYiTsN4s3"
   },
   "source": [
    "#### <b> Model Comparison</b>"
   ]
  },
  {
   "cell_type": "markdown",
   "metadata": {
    "id": "LoRNgEp0N76q"
   },
   "source": [
    "**1. Evaluation Matrix Comparison**"
   ]
  },
  {
   "cell_type": "code",
   "execution_count": 120,
   "metadata": {
    "id": "CxJC83crNqG9"
   },
   "outputs": [
    {
     "ename": "NameError",
     "evalue": "name 'tabulate' is not defined",
     "output_type": "error",
     "traceback": [
      "\u001b[0;31m---------------------------------------------------------------------------\u001b[0m",
      "\u001b[0;31mNameError\u001b[0m                                 Traceback (most recent call last)",
      "\u001b[0;32m/var/folders/mw/79vr7p9566z6fwqnpsmrj8tc0000gq/T/ipykernel_26263/226493955.py\u001b[0m in \u001b[0;36m<module>\u001b[0;34m\u001b[0m\n\u001b[1;32m      5\u001b[0m \u001b[0mmodel_table\u001b[0m\u001b[0;34m[\u001b[0m\u001b[0;34m\"SGD Model\"\u001b[0m\u001b[0;34m]\u001b[0m \u001b[0;34m=\u001b[0m \u001b[0;34m[\u001b[0m\u001b[0msgd_accuracy\u001b[0m\u001b[0;34m,\u001b[0m \u001b[0msgd_score\u001b[0m\u001b[0;34m,\u001b[0m \u001b[0msgd_mae\u001b[0m\u001b[0;34m,\u001b[0m \u001b[0msgd_mse\u001b[0m\u001b[0;34m,\u001b[0m \u001b[0msgd_rmse\u001b[0m\u001b[0;34m]\u001b[0m\u001b[0;34m\u001b[0m\u001b[0;34m\u001b[0m\u001b[0m\n\u001b[1;32m      6\u001b[0m \u001b[0;34m\u001b[0m\u001b[0m\n\u001b[0;32m----> 7\u001b[0;31m \u001b[0mprint\u001b[0m\u001b[0;34m(\u001b[0m\u001b[0mtabulate\u001b[0m\u001b[0;34m(\u001b[0m\u001b[0mmodel_table\u001b[0m\u001b[0;34m,\u001b[0m \u001b[0mheaders\u001b[0m \u001b[0;34m=\u001b[0m \u001b[0;34m'keys'\u001b[0m\u001b[0;34m,\u001b[0m \u001b[0mtablefmt\u001b[0m \u001b[0;34m=\u001b[0m \u001b[0;34m'psql'\u001b[0m\u001b[0;34m,\u001b[0m \u001b[0mnumalign\u001b[0m\u001b[0;34m=\u001b[0m\u001b[0;34m\"left\"\u001b[0m\u001b[0;34m)\u001b[0m\u001b[0;34m)\u001b[0m\u001b[0;34m\u001b[0m\u001b[0;34m\u001b[0m\u001b[0m\n\u001b[0m",
      "\u001b[0;31mNameError\u001b[0m: name 'tabulate' is not defined"
     ]
    }
   ],
   "source": [
    "#Performing evaluation matrix comparison\n",
    "model_table = pd.DataFrame(columns = [\"Comparison Matrix\", \"LR Model\", \"SGD Model\"])\n",
    "model_table[\"Comparison Matrix\"] = [\"Accuracy (Variance Score)\", \"R2 Score\", \"MAE\", \"MSE\", \"RMSE\"]\n",
    "model_table[\"LR Model\"] = [lin_accuracy, lin_score, lin_mae, lin_mse, lin_rmse]\n",
    "model_table[\"SGD Model\"] = [sgd_accuracy, sgd_score, sgd_mae, sgd_mse, sgd_rmse]\n",
    "\n",
    "print(tabulate(model_table, headers = 'keys', tablefmt = 'psql', numalign=\"left\"))"
   ]
  },
  {
   "cell_type": "markdown",
   "metadata": {
    "id": "TJfBD4P_OBXo"
   },
   "source": [
    "**2. Prediction Comparison - A: Scatter Plot**"
   ]
  },
  {
   "cell_type": "markdown",
   "metadata": {
    "id": "2W_seA-wz8kW"
   },
   "source": [
    "Let us perform a comparison of the **Actual vs. Predicted Target** for the **Scatter Plot**."
   ]
  },
  {
   "cell_type": "code",
   "execution_count": 121,
   "metadata": {
    "id": "07tmOmViNp8r"
   },
   "outputs": [
    {
     "data": {
      "image/png": "[encoded data removed]",
      "text/plain": [
       "<Figure size 432x288 with 1 Axes>"
      ]
     },
     "metadata": {
      "needs_background": "light"
     },
     "output_type": "display_data"
    }
   ],
   "source": [
    "plt.scatter(y_test, lin_y_pred, c=\"b\", marker=\"d\", label='LR')\n",
    "plt.scatter(y_test, sgd_y_pred, c=\"r\", marker=\".\", label='SGD')\n",
    "plt.xlabel('Actual Y')\n",
    "plt.ylabel('Predicted Y')\n",
    "plt.title('Actual Vs. Predicted Target - LR Vs. SGD')\n",
    "plt.legend(loc='best',fancybox=True, shadow=True)\n",
    "plt.grid()\n",
    "plt.show()"
   ]
  },
  {
   "cell_type": "markdown",
   "metadata": {
    "id": "ySqRXaJ3OFa_"
   },
   "source": [
    "**3. Prediction Comparison - B: Line Graph**"
   ]
  },
  {
   "cell_type": "markdown",
   "metadata": {
    "id": "T4JNp0Miz8kX"
   },
   "source": [
    "Let us perform a comparison of **LR vs. SGD Prediction** for the **Line Graph**."
   ]
  },
  {
   "cell_type": "code",
   "execution_count": 122,
   "metadata": {
    "id": "xM0XolC4OKgz"
   },
   "outputs": [
    {
     "data": {
      "image/png": "[encoded data removed]",
      "text/plain": [
       "<Figure size 432x288 with 1 Axes>"
      ]
     },
     "metadata": {
      "needs_background": "light"
     },
     "output_type": "display_data"
    }
   ],
   "source": [
    "x_ax = range(len(sgd_y_pred))\n",
    "plt.plot(x_ax, lin_y_pred, c=\"C0\", linestyle=\"-\", linewidth = 2, label=\"LR Prediction\")\n",
    "plt.plot(x_ax, sgd_y_pred, c=\"C2\", linestyle=\":\", linewidth = 4, label=\"SGD Prediction\")\n",
    "plt.title(\"LR Vs. SGD Prediction\")\n",
    "plt.xlabel('X-axis')\n",
    "plt.ylabel('Y-axis')\n",
    "plt.legend(loc='best',fancybox=True, shadow=True)\n",
    "plt.grid(True)\n",
    "plt.show()"
   ]
  },
  {
   "cell_type": "markdown",
   "metadata": {
    "id": "JtbFaaGOOOeU"
   },
   "source": [
    "**4. Prediction Comparison - C: Target Prediction Table**"
   ]
  },
  {
   "cell_type": "markdown",
   "metadata": {
    "id": "tdIIxseez8kY"
   },
   "source": [
    "Let us compare the **LR Predicted value** and **SGD Predicted value**.\n"
   ]
  },
  {
   "cell_type": "code",
   "execution_count": 123,
   "metadata": {
    "id": "v-2xvfpgOPfK"
   },
   "outputs": [
    {
     "ename": "NameError",
     "evalue": "name 'tabulate' is not defined",
     "output_type": "error",
     "traceback": [
      "\u001b[0;31m---------------------------------------------------------------------------\u001b[0m",
      "\u001b[0;31mNameError\u001b[0m                                 Traceback (most recent call last)",
      "\u001b[0;32m/var/folders/mw/79vr7p9566z6fwqnpsmrj8tc0000gq/T/ipykernel_26263/1063393044.py\u001b[0m in \u001b[0;36m<module>\u001b[0;34m\u001b[0m\n\u001b[1;32m      3\u001b[0m \u001b[0mprediction_table\u001b[0m\u001b[0;34m[\u001b[0m\u001b[0;34m\"SGD Predicted Value\"\u001b[0m\u001b[0;34m]\u001b[0m \u001b[0;34m=\u001b[0m \u001b[0msgd_y_pred\u001b[0m\u001b[0;34m\u001b[0m\u001b[0;34m\u001b[0m\u001b[0m\n\u001b[1;32m      4\u001b[0m \u001b[0;34m\u001b[0m\u001b[0m\n\u001b[0;32m----> 5\u001b[0;31m \u001b[0mprint\u001b[0m\u001b[0;34m(\u001b[0m\u001b[0mtabulate\u001b[0m\u001b[0;34m(\u001b[0m\u001b[0mprediction_table\u001b[0m\u001b[0;34m,\u001b[0m \u001b[0mheaders\u001b[0m \u001b[0;34m=\u001b[0m \u001b[0;34m'keys'\u001b[0m\u001b[0;34m,\u001b[0m \u001b[0mtablefmt\u001b[0m \u001b[0;34m=\u001b[0m \u001b[0;34m'psql'\u001b[0m\u001b[0;34m,\u001b[0m \u001b[0mnumalign\u001b[0m\u001b[0;34m=\u001b[0m\u001b[0;34m\"left\"\u001b[0m\u001b[0;34m)\u001b[0m\u001b[0;34m)\u001b[0m\u001b[0;34m\u001b[0m\u001b[0;34m\u001b[0m\u001b[0m\n\u001b[0m",
      "\u001b[0;31mNameError\u001b[0m: name 'tabulate' is not defined"
     ]
    }
   ],
   "source": [
    "prediction_table = pd.DataFrame(columns=[\"LR Predicted Value\", \"SGD Predicted Value\"])\n",
    "prediction_table[\"LR Predicted Value\"] = lin_y_pred\n",
    "prediction_table[\"SGD Predicted Value\"] = sgd_y_pred\n",
    "\n",
    "print(tabulate(prediction_table, headers = 'keys', tablefmt = 'psql', numalign=\"left\"))"
   ]
  },
  {
   "cell_type": "markdown",
   "metadata": {
    "id": "M58DVrEtZhNw"
   },
   "source": [
    "**Note: In this topic, we saw the use of the linear regression methods, but in the next topic we will be working on \"Logistic Regression\".**"
   ]
  },
  {
   "cell_type": "markdown",
   "metadata": {
    "id": "wWnaEd6tqhcn"
   },
   "source": [
    "![Simplilearn_Logo](https://labcontent.simplicdn.net/data-content/content-assets/Data_and_AI/Logo_Powered_By_Simplilearn/SL_Logo_1.png)"
   ]
  }
 ],
 "metadata": {
  "colab": {
   "collapsed_sections": [],
   "name": "3.02_Regression_Algorithms.ipynb",
   "private_outputs": true,
   "provenance": []
  },
  "kernelspec": {
   "display_name": "Python 3 (ipykernel)",
   "language": "python",
   "name": "python3"
  },
  "language_info": {
   "codemirror_mode": {
    "name": "ipython",
    "version": 3
   },
   "file_extension": ".py",
   "mimetype": "text/x-python",
   "name": "python",
   "nbconvert_exporter": "python",
   "pygments_lexer": "ipython3",
   "version": "3.9.7"
  }
 },
 "nbformat": 4,
 "nbformat_minor": 1
}
